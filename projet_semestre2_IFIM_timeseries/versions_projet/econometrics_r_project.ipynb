{
 "cells": [
  {
   "cell_type": "markdown",
   "id": "3276ef5f",
   "metadata": {},
   "source": [
    "# <center>Projet économétrie des séries temporelles<center>"
   ]
  },
  {
   "cell_type": "markdown",
   "id": "22c8f73c",
   "metadata": {},
   "source": [
    "## Définition de l'environnement de travail"
   ]
  },
  {
   "cell_type": "code",
   "execution_count": 18,
   "id": "e7543c93",
   "metadata": {},
   "outputs": [],
   "source": [
    "rm(list = ls())\n",
    "setwd(\"C:/Users/PC/Documents/econometrics/\")"
   ]
  },
  {
   "cell_type": "markdown",
   "id": "039c7db6",
   "metadata": {},
   "source": [
    "## Installation des packages nécessaires aux projet"
   ]
  },
  {
   "cell_type": "code",
   "execution_count": 31,
   "id": "4ad22350",
   "metadata": {},
   "outputs": [
    {
     "name": "stdout",
     "output_type": "stream",
     "text": [
      "\n",
      "  There is a binary version available but the source version is later:\n",
      "         binary  source needs_compilation\n",
      "tseries 0.10-48 0.10-53              TRUE\n",
      "\n",
      "  Binaries will be installed\n"
     ]
    },
    {
     "name": "stderr",
     "output_type": "stream",
     "text": [
      "Warning message:\n",
      "\"package 'tseries' is in use and will not be installed\""
     ]
    },
    {
     "name": "stdout",
     "output_type": "stream",
     "text": [
      "\n",
      "  There is a binary version available but the source version is later:\n",
      "       binary source needs_compilation\n",
      "readxl  1.3.1  1.4.2              TRUE\n",
      "\n",
      "  Binaries will be installed\n"
     ]
    },
    {
     "name": "stderr",
     "output_type": "stream",
     "text": [
      "Warning message:\n",
      "\"package 'readxl' is in use and will not be installed\""
     ]
    }
   ],
   "source": [
    "install.packages(\"tseries\")\n",
    "install.packages(\"readxl\")\n",
    "library(\"readxl\")\n",
    "library(tseries)\n",
    "library(zoo)"
   ]
  },
  {
   "cell_type": "code",
   "execution_count": 73,
   "id": "bcb513cf",
   "metadata": {},
   "outputs": [
    {
     "name": "stderr",
     "output_type": "stream",
     "text": [
      "New names:\n",
      "* `` -> ...1\n",
      "* `Current receipts` -> `Current receipts...4`\n",
      "* `From persons` -> `From persons...11`\n",
      "* `From persons` -> `From persons...20`\n",
      "* `Current expenditures` -> `Current expenditures...23`\n",
      "* ... and 2 more problems\n"
     ]
    },
    {
     "data": {
      "text/plain": [
       "      ...1            Année       trimestre         Current receipts...4\n",
       " Min.   :  0.00   Min.   :1947   Length:304         Min.   :  52.3      \n",
       " 1st Qu.: 75.75   1st Qu.:1966   Class :character   1st Qu.: 189.3      \n",
       " Median :151.50   Median :1984   Mode  :character   Median :1147.7      \n",
       " Mean   :151.50   Mean   :1984                      Mean   :1917.2      \n",
       " 3rd Qu.:227.25   3rd Qu.:2003                      3rd Qu.:3189.6      \n",
       " Max.   :303.00   Max.   :2022                      Max.   :7618.1      \n",
       "                                                    NA's   :1           \n",
       " Current tax receipts Personal current taxes Taxes on production and imports\n",
       " Min.   :  46.7       Min.   :  15.80        Min.   :  17.7                 \n",
       " 1st Qu.: 153.7       1st Qu.:  60.73        1st Qu.:  61.7                 \n",
       " Median : 766.9       Median : 392.20        Median : 299.2                 \n",
       " Mean   :1319.1       Mean   : 695.89        Mean   : 491.3                 \n",
       " 3rd Qu.:2195.1       3rd Qu.:1158.58        3rd Qu.: 827.5                 \n",
       " Max.   :5490.4       Max.   :3243.30        Max.   :1785.3                 \n",
       " NA's   :1                                                                  \n",
       " Taxes on corporate income Taxes from the rest of the world\n",
       " Min.   :  9.50            Min.   : 0.10                   \n",
       " 1st Qu.: 30.15            1st Qu.: 0.40                   \n",
       " Median : 81.70            Median : 2.70                   \n",
       " Mean   :138.40            Mean   : 7.48                   \n",
       " 3rd Qu.:224.65            3rd Qu.:12.45                   \n",
       " Max.   :479.70            Max.   :35.60                   \n",
       " NA's   :1                 NA's   :48                      \n",
       " Contributions for government social insurance From persons...11\n",
       " Min.   :   4.5                                Min.   :   4.5   \n",
       " 1st Qu.:  28.9                                1st Qu.:  28.8   \n",
       " Median : 270.8                                Median : 269.4   \n",
       " Mean   : 449.9                                Mean   : 447.8   \n",
       " 3rd Qu.: 803.4                                3rd Qu.: 799.4   \n",
       " Max.   :1706.0                                Max.   :1700.0   \n",
       "                                                                \n",
       " From the rest of the world1 Income receipts on assets\n",
       " Min.   :0.000               Min.   :  0.200          \n",
       " 1st Qu.:0.200               1st Qu.:  5.975          \n",
       " Median :1.500               Median : 98.000          \n",
       " Mean   :2.183               Mean   : 91.126          \n",
       " 3rd Qu.:4.400               3rd Qu.:139.925          \n",
       " Max.   :6.000               Max.   :456.700          \n",
       " NA's   :16                                           \n",
       " Interest and miscellaneous receipts Interest receipts2 Rents and royalties\n",
       " Min.   :  0.10                      Min.   :  2.30     Min.   : 0.100     \n",
       " 1st Qu.:  4.60                      1st Qu.: 14.10     1st Qu.: 0.775     \n",
       " Median : 80.40                      Median : 81.30     Median : 7.700     \n",
       " Mean   : 61.37                      Mean   : 63.86     Mean   : 8.438     \n",
       " 3rd Qu.:108.78                      3rd Qu.: 94.33     3rd Qu.:15.500     \n",
       " Max.   :151.50                      Max.   :127.90     Max.   :28.800     \n",
       "                                     NA's   :52                            \n",
       "   Dividends      Current transfer receipts From business (net)\n",
       " Min.   :  0.10   Min.   :  0.500           Min.   :  0.30     \n",
       " 1st Qu.:  1.60   1st Qu.:  1.975           1st Qu.:  1.30     \n",
       " Median : 16.40   Median : 19.650           Median :  9.95     \n",
       " Mean   : 29.75   Mean   : 62.583           Mean   : 29.07     \n",
       " 3rd Qu.: 27.05   3rd Qu.:114.675           3rd Qu.: 50.17     \n",
       " Max.   :347.60   Max.   :280.400           Max.   :173.90     \n",
       "                                                               \n",
       " From persons...20 From the rest of the world3\n",
       " Min.   :  0.200   Min.   : 0.000             \n",
       " 1st Qu.:  0.675   1st Qu.: 1.000             \n",
       " Median :  9.700   Median : 2.950             \n",
       " Mean   : 32.000   Mean   : 4.773             \n",
       " 3rd Qu.: 63.225   3rd Qu.: 5.650             \n",
       " Max.   :117.400   Max.   :48.600             \n",
       "                   NA's   :208                \n",
       " Current surplus of government entreprises4 Current expenditures...23\n",
       " Min.   :-21.5000                           Min.   :   51.5          \n",
       " 1st Qu.: -4.1250                           1st Qu.:  193.0          \n",
       " Median : -0.2500                           Median : 1369.8          \n",
       " Mean   : -0.4902                           Mean   : 2299.5          \n",
       " 3rd Qu.:  3.1500                           3rd Qu.: 3695.5          \n",
       " Max.   : 18.6000                           Max.   :10582.2          \n",
       " NA's   :48                                                          \n",
       " Consumption expenditures Current transfer payments Government social benefits\n",
       " Min.   :  32.9           Min.   :  11.1            Min.   :   9.20           \n",
       " 1st Qu.: 124.6           1st Qu.:  39.7            1st Qu.:  36.17           \n",
       " Median : 662.4           Median : 410.6            Median : 396.90           \n",
       " Mean   :1035.4           Mean   : 915.4            Mean   : 897.81           \n",
       " 3rd Qu.:1787.2           3rd Qu.:1383.4            3rd Qu.:1361.65           \n",
       " Max.   :3678.7           Max.   :6060.7            Max.   :6001.60           \n",
       "                                                                              \n",
       "   To persons      To the rest of the world5\n",
       " Min.   :   9.20   Min.   : 0.200           \n",
       " 1st Qu.:  35.77   1st Qu.: 2.150           \n",
       " Median : 393.00   Median : 6.050           \n",
       " Mean   : 890.62   Mean   : 8.679           \n",
       " 3rd Qu.:1350.80   3rd Qu.:13.150           \n",
       " Max.   :5962.90   Max.   :45.400           \n",
       "                   NA's   :52               \n",
       " Other current transfer payments to the rest of the world 3.5\n",
       " Min.   :-74.30                                              \n",
       " 1st Qu.:  4.00                                              \n",
       " Median :  9.15                                              \n",
       " Mean   : 17.59                                              \n",
       " 3rd Qu.: 26.23                                              \n",
       " Max.   :111.90                                              \n",
       "                                                             \n",
       " Interest payments2 To person and business2 To the rest of the world\n",
       " Min.   :   5.90    Min.   : 17.00          Min.   :  0.00          \n",
       " 1st Qu.:  25.48    1st Qu.: 75.45          1st Qu.:  0.50          \n",
       " Median : 275.70    Median :371.30          Median : 21.80          \n",
       " Mean   : 308.75    Mean   :319.41          Mean   : 39.99          \n",
       " 3rd Qu.: 484.10    3rd Qu.:481.45          3rd Qu.: 70.40          \n",
       " Max.   :1117.40    Max.   :811.20          Max.   :193.10          \n",
       "                    NA's   :53              NA's   :1               \n",
       "   Subsidies4       Net government saving Social insurance funds\n",
       " Min.   :   0.000   Min.   :-4947.60      Min.   :-1496.80      \n",
       " 1st Qu.:   3.075   1st Qu.: -410.80      1st Qu.:  -26.45      \n",
       " Median :  21.400   Median : -105.90      Median :    0.45      \n",
       " Mean   :  39.969   Mean   : -360.40      Mean   :  -75.93      \n",
       " 3rd Qu.:  48.900   3rd Qu.:   -5.55      3rd Qu.:   16.65      \n",
       " Max.   :1109.400   Max.   :  148.60      Max.   :  119.00      \n",
       "                    NA's   :1             NA's   :44            \n",
       "     Other         Addenda        Total receipts   Current receipts...39\n",
       " Min.   :-3450.8   Mode:logical   Min.   :  53.2   Min.   :  52.3       \n",
       " 1st Qu.: -495.1   NA's:304       1st Qu.: 193.2   1st Qu.: 189.3       \n",
       " Median : -204.9                  Median :1156.0   Median :1147.7       \n",
       " Mean   : -347.3                  Mean   :1935.1   Mean   :1917.2       \n",
       " 3rd Qu.:  -43.7                  3rd Qu.:3226.2   3rd Qu.:3189.6       \n",
       " Max.   :   30.3                  Max.   :7759.7   Max.   :7618.1       \n",
       " NA's   :45                       NA's   :1        NA's   :1            \n",
       " Capital transfer receipts Total expenditures Current expenditures...42\n",
       " Min.   :  0.800           Min.   :  144.2    Min.   :   51.5          \n",
       " 1st Qu.:  3.775           1st Qu.:  595.9    1st Qu.:  193.0          \n",
       " Median :  9.650           Median : 2178.8    Median : 1369.8          \n",
       " Mean   : 18.118           Mean   : 2856.5    Mean   : 2299.5          \n",
       " 3rd Qu.: 25.700           3rd Qu.: 4758.5    3rd Qu.: 3695.5          \n",
       " Max.   :962.500           Max.   :10998.5    Max.   :10582.2          \n",
       "                           NA's   :52                                  \n",
       " Gross government investment Capital transfer payments\n",
       " Min.   :  4.9               Min.   :  0.00           \n",
       " 1st Qu.: 51.3               1st Qu.:  0.10           \n",
       " Median :206.8               Median :  0.20           \n",
       " Mean   :274.2               Mean   : 11.70           \n",
       " 3rd Qu.:472.9               3rd Qu.: 13.57           \n",
       " Max.   :889.3               Max.   :290.40           \n",
       "                                                      \n",
       " Net  purchases of nonproducted assets Less: Consumption of fixed capital\n",
       " Min.   :-306.900                      Min.   :  8.9                     \n",
       " 1st Qu.:   1.075                      1st Qu.: 27.3                     \n",
       " Median :   3.250                      Median :141.0                     \n",
       " Mean   :   1.879                      Mean   :202.7                     \n",
       " 3rd Qu.:   8.800                      3rd Qu.:312.9                     \n",
       " Max.   :  17.200                      Max.   :737.1                     \n",
       " NA's   :52                                                              \n",
       " Net lending or net borrowing\n",
       " Min.   :-5136.7             \n",
       " 1st Qu.: -700.8             \n",
       " Median : -261.7             \n",
       " Mean   : -513.6             \n",
       " 3rd Qu.:  -58.7             \n",
       " Max.   :   60.3             \n",
       " NA's   :53                  "
      ]
     },
     "metadata": {},
     "output_type": "display_data"
    }
   ],
   "source": [
    "gov_reciept <- read_excel(\"reciept.xlsx\")\n",
    "summary(gov_reciept)\n",
    "#View( gov_reciept) n'existe pas sur jupyter, mais peut être testé sur Rstudio"
   ]
  },
  {
   "cell_type": "code",
   "execution_count": 74,
   "id": "f69e3eec",
   "metadata": {},
   "outputs": [
    {
     "data": {
      "text/html": [
       "<ol class=list-inline>\n",
       "\t<li>304</li>\n",
       "\t<li>47</li>\n",
       "</ol>\n"
      ],
      "text/latex": [
       "\\begin{enumerate*}\n",
       "\\item 304\n",
       "\\item 47\n",
       "\\end{enumerate*}\n"
      ],
      "text/markdown": [
       "1. 304\n",
       "2. 47\n",
       "\n",
       "\n"
      ],
      "text/plain": [
       "[1] 304  47"
      ]
     },
     "metadata": {},
     "output_type": "display_data"
    }
   ],
   "source": [
    "dim(gov_reciept)"
   ]
  },
  {
   "cell_type": "code",
   "execution_count": 30,
   "id": "e96c79d7",
   "metadata": {},
   "outputs": [
    {
     "name": "stdout",
     "output_type": "stream",
     "text": [
      "Time Series:\n",
      "Start = 1 \n",
      "End = 304 \n",
      "Frequency = 1 \n",
      "       Année\n",
      "  [1,]  1947\n",
      "  [2,]  1947\n",
      "  [3,]  1947\n",
      "  [4,]  1947\n",
      "  [5,]  1948\n",
      "  [6,]  1948\n",
      "  [7,]  1948\n",
      "  [8,]  1948\n",
      "  [9,]  1949\n",
      " [10,]  1949\n",
      " [11,]  1949\n",
      " [12,]  1949\n",
      " [13,]  1950\n",
      " [14,]  1950\n",
      " [15,]  1950\n",
      " [16,]  1950\n",
      " [17,]  1951\n",
      " [18,]  1951\n",
      " [19,]  1951\n",
      " [20,]  1951\n",
      " [21,]  1952\n",
      " [22,]  1952\n",
      " [23,]  1952\n",
      " [24,]  1952\n",
      " [25,]  1953\n",
      " [26,]  1953\n",
      " [27,]  1953\n",
      " [28,]  1953\n",
      " [29,]  1954\n",
      " [30,]  1954\n",
      " [31,]  1954\n",
      " [32,]  1954\n",
      " [33,]  1955\n",
      " [34,]  1955\n",
      " [35,]  1955\n",
      " [36,]  1955\n",
      " [37,]  1956\n",
      " [38,]  1956\n",
      " [39,]  1956\n",
      " [40,]  1956\n",
      " [41,]  1957\n",
      " [42,]  1957\n",
      " [43,]  1957\n",
      " [44,]  1957\n",
      " [45,]  1958\n",
      " [46,]  1958\n",
      " [47,]  1958\n",
      " [48,]  1958\n",
      " [49,]  1959\n",
      " [50,]  1959\n",
      " [51,]  1959\n",
      " [52,]  1959\n",
      " [53,]  1960\n",
      " [54,]  1960\n",
      " [55,]  1960\n",
      " [56,]  1960\n",
      " [57,]  1961\n",
      " [58,]  1961\n",
      " [59,]  1961\n",
      " [60,]  1961\n",
      " [61,]  1962\n",
      " [62,]  1962\n",
      " [63,]  1962\n",
      " [64,]  1962\n",
      " [65,]  1963\n",
      " [66,]  1963\n",
      " [67,]  1963\n",
      " [68,]  1963\n",
      " [69,]  1964\n",
      " [70,]  1964\n",
      " [71,]  1964\n",
      " [72,]  1964\n",
      " [73,]  1965\n",
      " [74,]  1965\n",
      " [75,]  1965\n",
      " [76,]  1965\n",
      " [77,]  1966\n",
      " [78,]  1966\n",
      " [79,]  1966\n",
      " [80,]  1966\n",
      " [81,]  1967\n",
      " [82,]  1967\n",
      " [83,]  1967\n",
      " [84,]  1967\n",
      " [85,]  1968\n",
      " [86,]  1968\n",
      " [87,]  1968\n",
      " [88,]  1968\n",
      " [89,]  1969\n",
      " [90,]  1969\n",
      " [91,]  1969\n",
      " [92,]  1969\n",
      " [93,]  1970\n",
      " [94,]  1970\n",
      " [95,]  1970\n",
      " [96,]  1970\n",
      " [97,]  1971\n",
      " [98,]  1971\n",
      " [99,]  1971\n",
      "[100,]  1971\n",
      "[101,]  1972\n",
      "[102,]  1972\n",
      "[103,]  1972\n",
      "[104,]  1972\n",
      "[105,]  1973\n",
      "[106,]  1973\n",
      "[107,]  1973\n",
      "[108,]  1973\n",
      "[109,]  1974\n",
      "[110,]  1974\n",
      "[111,]  1974\n",
      "[112,]  1974\n",
      "[113,]  1975\n",
      "[114,]  1975\n",
      "[115,]  1975\n",
      "[116,]  1975\n",
      "[117,]  1976\n",
      "[118,]  1976\n",
      "[119,]  1976\n",
      "[120,]  1976\n",
      "[121,]  1977\n",
      "[122,]  1977\n",
      "[123,]  1977\n",
      "[124,]  1977\n",
      "[125,]  1978\n",
      "[126,]  1978\n",
      "[127,]  1978\n",
      "[128,]  1978\n",
      "[129,]  1979\n",
      "[130,]  1979\n",
      "[131,]  1979\n",
      "[132,]  1979\n",
      "[133,]  1980\n",
      "[134,]  1980\n",
      "[135,]  1980\n",
      "[136,]  1980\n",
      "[137,]  1981\n",
      "[138,]  1981\n",
      "[139,]  1981\n",
      "[140,]  1981\n",
      "[141,]  1982\n",
      "[142,]  1982\n",
      "[143,]  1982\n",
      "[144,]  1982\n",
      "[145,]  1983\n",
      "[146,]  1983\n",
      "[147,]  1983\n",
      "[148,]  1983\n",
      "[149,]  1984\n",
      "[150,]  1984\n",
      "[151,]  1984\n",
      "[152,]  1984\n",
      "[153,]  1985\n",
      "[154,]  1985\n",
      "[155,]  1985\n",
      "[156,]  1985\n",
      "[157,]  1986\n",
      "[158,]  1986\n",
      "[159,]  1986\n",
      "[160,]  1986\n",
      "[161,]  1987\n",
      "[162,]  1987\n",
      "[163,]  1987\n",
      "[164,]  1987\n",
      "[165,]  1988\n",
      "[166,]  1988\n",
      "[167,]  1988\n",
      "[168,]  1988\n",
      "[169,]  1989\n",
      "[170,]  1989\n",
      "[171,]  1989\n",
      "[172,]  1989\n",
      "[173,]  1990\n",
      "[174,]  1990\n",
      "[175,]  1990\n",
      "[176,]  1990\n",
      "[177,]  1991\n",
      "[178,]  1991\n",
      "[179,]  1991\n",
      "[180,]  1991\n",
      "[181,]  1992\n",
      "[182,]  1992\n",
      "[183,]  1992\n",
      "[184,]  1992\n",
      "[185,]  1993\n",
      "[186,]  1993\n",
      "[187,]  1993\n",
      "[188,]  1993\n",
      "[189,]  1994\n",
      "[190,]  1994\n",
      "[191,]  1994\n",
      "[192,]  1994\n",
      "[193,]  1995\n",
      "[194,]  1995\n",
      "[195,]  1995\n",
      "[196,]  1995\n",
      "[197,]  1996\n",
      "[198,]  1996\n",
      "[199,]  1996\n",
      "[200,]  1996\n",
      "[201,]  1997\n",
      "[202,]  1997\n",
      "[203,]  1997\n",
      "[204,]  1997\n",
      "[205,]  1998\n",
      "[206,]  1998\n",
      "[207,]  1998\n",
      "[208,]  1998\n",
      "[209,]  1999\n",
      "[210,]  1999\n",
      "[211,]  1999\n",
      "[212,]  1999\n",
      "[213,]  2000\n",
      "[214,]  2000\n",
      "[215,]  2000\n",
      "[216,]  2000\n",
      "[217,]  2001\n",
      "[218,]  2001\n",
      "[219,]  2001\n",
      "[220,]  2001\n",
      "[221,]  2002\n",
      "[222,]  2002\n",
      "[223,]  2002\n",
      "[224,]  2002\n",
      "[225,]  2003\n",
      "[226,]  2003\n",
      "[227,]  2003\n",
      "[228,]  2003\n",
      "[229,]  2004\n",
      "[230,]  2004\n",
      "[231,]  2004\n",
      "[232,]  2004\n",
      "[233,]  2005\n",
      "[234,]  2005\n",
      "[235,]  2005\n",
      "[236,]  2005\n",
      "[237,]  2006\n",
      "[238,]  2006\n",
      "[239,]  2006\n",
      "[240,]  2006\n",
      "[241,]  2007\n",
      "[242,]  2007\n",
      "[243,]  2007\n",
      "[244,]  2007\n",
      "[245,]  2008\n",
      "[246,]  2008\n",
      "[247,]  2008\n",
      "[248,]  2008\n",
      "[249,]  2009\n",
      "[250,]  2009\n",
      "[251,]  2009\n",
      "[252,]  2009\n",
      "[253,]  2010\n",
      "[254,]  2010\n",
      "[255,]  2010\n",
      "[256,]  2010\n",
      "[257,]  2011\n",
      "[258,]  2011\n",
      "[259,]  2011\n",
      "[260,]  2011\n",
      "[261,]  2012\n",
      "[262,]  2012\n",
      "[263,]  2012\n",
      "[264,]  2012\n",
      "[265,]  2013\n",
      "[266,]  2013\n",
      "[267,]  2013\n",
      "[268,]  2013\n",
      "[269,]  2014\n",
      "[270,]  2014\n",
      "[271,]  2014\n",
      "[272,]  2014\n",
      "[273,]  2015\n",
      "[274,]  2015\n",
      "[275,]  2015\n",
      "[276,]  2015\n",
      "[277,]  2016\n",
      "[278,]  2016\n",
      "[279,]  2016\n",
      "[280,]  2016\n",
      "[281,]  2017\n",
      "[282,]  2017\n",
      "[283,]  2017\n",
      "[284,]  2017\n",
      "[285,]  2018\n",
      "[286,]  2018\n",
      "[287,]  2018\n",
      "[288,]  2018\n",
      "[289,]  2019\n",
      "[290,]  2019\n",
      "[291,]  2019\n",
      "[292,]  2019\n",
      "[293,]  2020\n",
      "[294,]  2020\n",
      "[295,]  2020\n",
      "[296,]  2020\n",
      "[297,]  2021\n",
      "[298,]  2021\n",
      "[299,]  2021\n",
      "[300,]  2021\n",
      "[301,]  2022\n",
      "[302,]  2022\n",
      "[303,]  2022\n",
      "[304,]  2022\n"
     ]
    }
   ],
   "source": [
    "serie <- ts(data=gov_reciept[,2])\n",
    "print(serie)"
   ]
  },
  {
   "cell_type": "code",
   "execution_count": 56,
   "id": "27234072",
   "metadata": {},
   "outputs": [
    {
     "data": {
      "image/png": "[encoded data removed]",
      "text/plain": [
       "Plot with title \"gross government investement since 1947 to 2022 in billion($)\""
      ]
     },
     "metadata": {},
     "output_type": "display_data"
    }
   ],
   "source": [
    "##graphique de base\n",
    "gross_gov <- gov_reciept$`Gross government investment`\n",
    "plot(serie, gross_gov, col=\"red\", main=\"gross government investement since 1947 to 2022 in billion($)\", ylab=\"gross government investment\", xlab=\"years\", sub=\"figure1.\")"
   ]
  },
  {
   "cell_type": "code",
   "execution_count": 63,
   "id": "a37c8387",
   "metadata": {},
   "outputs": [
    {
     "data": {
      "image/png": "[encoded data removed]",
      "text/plain": [
       "Plot with title \"log of gross government investement since 1947 to 2022 in billion($)\""
      ]
     },
     "metadata": {},
     "output_type": "display_data"
    }
   ],
   "source": [
    "##graphique avec log\n",
    "plot(serie, log(gross_gov), col=\"red\", main=\"log of gross government investement since 1947 to 2022 in billion($)\", sub=\"figure2. \", xlab=\"years\", ylab=\"log of gross government investement\")"
   ]
  },
  {
   "cell_type": "markdown",
   "id": "fc2fee43",
   "metadata": {},
   "source": [
    "#### On constate d'après la figure 2, qu'avec le log, la série se lisse légèrement. On prendra alors, la différence première"
   ]
  },
  {
   "cell_type": "code",
   "execution_count": 65,
   "id": "fe5127b3",
   "metadata": {},
   "outputs": [
    {
     "data": {
      "image/png": "[encoded data removed]",
      "text/plain": [
       "Plot with title \"first difference of gross government investement in billion($)\""
      ]
     },
     "metadata": {},
     "output_type": "display_data"
    }
   ],
   "source": [
    "diff_premiere = diff(log(gross_gov), differences=1)\n",
    "\n",
    "plot(diff_premiere, type=\"l\", col=\"red\", main=\"first difference of gross government investement in billion($)\", sub=\"figure 3.\",xlab=\"years\", ylab=\"first difference of gross government investment\")"
   ]
  },
  {
   "cell_type": "markdown",
   "id": "df3d2ef9",
   "metadata": {},
   "source": [
    "## Test de Dickey-füler pour vérifier si la série est stationnaire"
   ]
  },
  {
   "cell_type": "code",
   "execution_count": 46,
   "id": "34146e6f",
   "metadata": {},
   "outputs": [
    {
     "name": "stderr",
     "output_type": "stream",
     "text": [
      "Warning message in adf.test(diff_premiere, alternative = \"stationary\"):\n",
      "\"p-value smaller than printed p-value\""
     ]
    },
    {
     "data": {
      "text/plain": [
       "\n",
       "\tAugmented Dickey-Fuller Test\n",
       "\n",
       "data:  diff_premiere\n",
       "Dickey-Fuller = -5.9545, Lag order = 6, p-value = 0.01\n",
       "alternative hypothesis: stationary\n"
      ]
     },
     "metadata": {},
     "output_type": "display_data"
    }
   ],
   "source": [
    "##test fuuler\n",
    "\n",
    "adf.test(diff_premiere, alternative=\"stationary\") #test de statinnarité rejeté car p-value=0.01< 5%, donc l'hypothèse de stationnarité"
   ]
  },
  {
   "cell_type": "markdown",
   "id": "b837f83f",
   "metadata": {},
   "source": [
    "## test de Philipps-Perron(PP) pour vérifier la stationnarité"
   ]
  },
  {
   "cell_type": "code",
   "execution_count": 47,
   "id": "9b5d7861",
   "metadata": {},
   "outputs": [
    {
     "data": {
      "text/plain": [
       "\n",
       "\tPhillips-Perron Unit Root Test\n",
       "\n",
       "data:  diff_premiere\n",
       "Dickey-Fuller = -12.333, Truncation lag parameter = 5, p-value = 0.01\n"
      ]
     },
     "metadata": {},
     "output_type": "display_data"
    }
   ],
   "source": [
    "##test de PP\n",
    "PP.test(diff_premiere, lshort = TRUE)"
   ]
  },
  {
   "cell_type": "markdown",
   "id": "7109adaa",
   "metadata": {},
   "source": [
    "### Autocorrélogramme de la différence première"
   ]
  },
  {
   "cell_type": "code",
   "execution_count": 48,
   "id": "f3c75db9",
   "metadata": {},
   "outputs": [
    {
     "data": {
      "image/png": "[encoded data removed]",
      "text/plain": [
       "Plot with title \"Series  diff_premiere\""
      ]
     },
     "metadata": {},
     "output_type": "display_data"
    }
   ],
   "source": [
    "acf(diff_premiere)"
   ]
  },
  {
   "cell_type": "markdown",
   "id": "d294b7c2",
   "metadata": {},
   "source": [
    "## Autocorrélogramme partiel de la différence première"
   ]
  },
  {
   "cell_type": "code",
   "execution_count": 70,
   "id": "c03b65df",
   "metadata": {},
   "outputs": [
    {
     "data": {
      "image/png": "[encoded data removed]",
      "text/plain": [
       "Plot with title \"Series  diff_premiere\""
      ]
     },
     "metadata": {},
     "output_type": "display_data"
    }
   ],
   "source": [
    "pacf(diff_premiere)"
   ]
  },
  {
   "cell_type": "code",
   "execution_count": 71,
   "id": "345b84d3",
   "metadata": {},
   "outputs": [
    {
     "data": {
      "image/png": "[encoded data removed]",
      "text/plain": [
       "Plot with title \"second difference of gross government investement in billion($)\""
      ]
     },
     "metadata": {},
     "output_type": "display_data"
    }
   ],
   "source": [
    "diff_seconde = diff(log(gross_gov), differences=2)\n",
    "\n",
    "plot(diff_seconde, type=\"l\", col=\"red\", main=\"second difference of gross government investement in billion($)\", sub=\"figure 4.\",xlab=\"years\", ylab=\"second difference of gross government investment\")"
   ]
  }
 ],
 "metadata": {
  "kernelspec": {
   "display_name": "R",
   "language": "R",
   "name": "ir"
  },
  "language_info": {
   "codemirror_mode": "r",
   "file_extension": ".r",
   "mimetype": "text/x-r-source",
   "name": "R",
   "pygments_lexer": "r",
   "version": "3.6.1"
  }
 },
 "nbformat": 4,
 "nbformat_minor": 5
}
