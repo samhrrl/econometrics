{
 "cells": [
  {
   "cell_type": "markdown",
   "id": "3276ef5f",
   "metadata": {},
   "source": [
    "# <center>Projet économétrie des séries temporelles<center>"
   ]
  },
  {
   "cell_type": "markdown",
   "id": "22c8f73c",
   "metadata": {},
   "source": [
    "## Définition de l'environnement de travail"
   ]
  },
  {
   "cell_type": "code",
   "execution_count": 1,
   "id": "e7543c93",
   "metadata": {},
   "outputs": [],
   "source": [
    "rm(list = ls())\n",
    "setwd(\"C:/Users/PC/Documents/econometrics/\")"
   ]
  },
  {
   "cell_type": "markdown",
   "id": "039c7db6",
   "metadata": {},
   "source": [
    "## Installation des packages nécessaires aux projet"
   ]
  },
  {
   "cell_type": "code",
   "execution_count": 2,
   "id": "4ad22350",
   "metadata": {},
   "outputs": [
    {
     "name": "stdout",
     "output_type": "stream",
     "text": [
      "\n",
      "  There is a binary version available but the source version is later:\n",
      "         binary  source needs_compilation\n",
      "tseries 0.10-48 0.10-53              TRUE\n",
      "\n",
      "  Binaries will be installed\n",
      "package 'tseries' successfully unpacked and MD5 sums checked\n",
      "\n",
      "The downloaded binary packages are in\n",
      "\tC:\\Users\\PC\\AppData\\Local\\Temp\\Rtmp6TFo2k\\downloaded_packages\n",
      "\n",
      "  There is a binary version available but the source version is later:\n",
      "       binary source needs_compilation\n",
      "readxl  1.3.1  1.4.2              TRUE\n",
      "\n",
      "  Binaries will be installed\n",
      "package 'readxl' successfully unpacked and MD5 sums checked\n",
      "\n",
      "The downloaded binary packages are in\n",
      "\tC:\\Users\\PC\\AppData\\Local\\Temp\\Rtmp6TFo2k\\downloaded_packages\n",
      "\n",
      "  There is a binary version available but the source version is later:\n",
      "    binary source needs_compilation\n",
      "xts 0.12.1 0.12.2              TRUE\n",
      "\n",
      "  Binaries will be installed\n",
      "package 'xts' successfully unpacked and MD5 sums checked\n",
      "\n",
      "The downloaded binary packages are in\n",
      "\tC:\\Users\\PC\\AppData\\Local\\Temp\\Rtmp6TFo2k\\downloaded_packages\n"
     ]
    },
    {
     "name": "stderr",
     "output_type": "stream",
     "text": [
      "also installing the dependencies 'htmltools', 'bslib', 'tinytex', 'xfun', 'knitr', 'x13binary', 'rmarkdown', 'rticles', 'seasonal'\n",
      "\n"
     ]
    },
    {
     "name": "stdout",
     "output_type": "stream",
     "text": [
      "\n",
      "  There are binary versions available but the source versions are later:\n",
      "            binary   source needs_compilation\n",
      "htmltools  0.5.1.1    0.5.4              TRUE\n",
      "bslib        0.2.4    0.4.2             FALSE\n",
      "tinytex       0.31     0.44             FALSE\n",
      "xfun          0.22     0.37              TRUE\n",
      "knitr         1.33     1.42             FALSE\n",
      "x13binary 1.1.39-3 1.1.57-3             FALSE\n",
      "rmarkdown      2.8     2.20             FALSE\n",
      "rticles       0.19     0.24             FALSE\n",
      "seasonal     1.8.2    1.9.0             FALSE\n",
      "forecast      8.14     8.20              TRUE\n",
      "\n",
      "  Binaries will be installed\n",
      "package 'htmltools' successfully unpacked and MD5 sums checked\n"
     ]
    },
    {
     "name": "stderr",
     "output_type": "stream",
     "text": [
      "Warning message:\n",
      "\"cannot remove prior installation of package 'htmltools'\"Warning message in file.copy(savedcopy, lib, recursive = TRUE):\n",
      "\"problème lors de la copie de C:\\Users\\PC\\anaconda3\\envs\\r-env\\Lib\\R\\library\\00LOCK\\htmltools\\libs\\x64\\htmltools.dll vers C:\\Users\\PC\\anaconda3\\envs\\r-env\\Lib\\R\\library\\htmltools\\libs\\x64\\htmltools.dll: Permission denied\"Warning message:\n",
      "\"restored 'htmltools'\""
     ]
    },
    {
     "name": "stdout",
     "output_type": "stream",
     "text": [
      "package 'xfun' successfully unpacked and MD5 sums checked\n",
      "package 'forecast' successfully unpacked and MD5 sums checked\n",
      "\n",
      "The downloaded binary packages are in\n",
      "\tC:\\Users\\PC\\AppData\\Local\\Temp\\Rtmp6TFo2k\\downloaded_packages\n"
     ]
    },
    {
     "name": "stderr",
     "output_type": "stream",
     "text": [
      "installing the source packages 'bslib', 'tinytex', 'knitr', 'x13binary', 'rmarkdown', 'rticles', 'seasonal'\n",
      "\n",
      "Warning message in install.packages(\"forecast\", dependencies = TRUE):\n",
      "\"installation of package 'bslib' had non-zero exit status\"Warning message in install.packages(\"forecast\", dependencies = TRUE):\n",
      "\"installation of package 'tinytex' had non-zero exit status\"Warning message in install.packages(\"forecast\", dependencies = TRUE):\n",
      "\"installation of package 'knitr' had non-zero exit status\"Warning message in install.packages(\"forecast\", dependencies = TRUE):\n",
      "\"installation of package 'x13binary' had non-zero exit status\"Warning message in install.packages(\"forecast\", dependencies = TRUE):\n",
      "\"installation of package 'rmarkdown' had non-zero exit status\"Warning message in install.packages(\"forecast\", dependencies = TRUE):\n",
      "\"installation of package 'seasonal' had non-zero exit status\"Warning message in install.packages(\"forecast\", dependencies = TRUE):\n",
      "\"installation of package 'rticles' had non-zero exit status\"Warning message:\n",
      "\"package 'forecast' was built under R version 3.6.3\"Registered S3 methods overwritten by 'ggplot2':\n",
      "  method         from \n",
      "  [.quosures     rlang\n",
      "  c.quosures     rlang\n",
      "  print.quosures rlang\n",
      "Registered S3 method overwritten by 'quantmod':\n",
      "  method            from\n",
      "  as.zoo.data.frame zoo \n",
      "Warning message:\n",
      "\"package 'readxl' was built under R version 3.6.3\"Warning message:\n",
      "\"package 'tseries' was built under R version 3.6.3\"\n",
      "Attaching package: 'zoo'\n",
      "\n",
      "The following objects are masked from 'package:base':\n",
      "\n",
      "    as.Date, as.Date.numeric\n",
      "\n"
     ]
    }
   ],
   "source": [
    "install.packages(\"tseries\")\n",
    "install.packages(\"readxl\")\n",
    "install.packages(\"xts\")\n",
    "install.packages(\"forecast\", dependencies = TRUE)#pour la fonction auto.arima\n",
    "library(forecast)\n",
    "library(\"readxl\")\n",
    "library(tseries)\n",
    "library(zoo)"
   ]
  },
  {
   "cell_type": "code",
   "execution_count": 3,
   "id": "bcb513cf",
   "metadata": {},
   "outputs": [
    {
     "name": "stderr",
     "output_type": "stream",
     "text": [
      "New names:\n",
      "* `` -> ...1\n",
      "* `Current receipts` -> `Current receipts...4`\n",
      "* `From persons` -> `From persons...11`\n",
      "* `From persons` -> `From persons...20`\n",
      "* `Current expenditures` -> `Current expenditures...23`\n",
      "* ... and 2 more problems\n"
     ]
    },
    {
     "data": {
      "text/plain": [
       "      ...1            Année       trimestre         Current receipts...4\n",
       " Min.   :  0.00   Min.   :1947   Length:304         Min.   :  52.3      \n",
       " 1st Qu.: 75.75   1st Qu.:1966   Class :character   1st Qu.: 189.3      \n",
       " Median :151.50   Median :1984   Mode  :character   Median :1147.7      \n",
       " Mean   :151.50   Mean   :1984                      Mean   :1917.2      \n",
       " 3rd Qu.:227.25   3rd Qu.:2003                      3rd Qu.:3189.6      \n",
       " Max.   :303.00   Max.   :2022                      Max.   :7618.1      \n",
       "                                                    NA's   :1           \n",
       " Current tax receipts Personal current taxes Taxes on production and imports\n",
       " Min.   :  46.7       Min.   :  15.80        Min.   :  17.7                 \n",
       " 1st Qu.: 153.7       1st Qu.:  60.73        1st Qu.:  61.7                 \n",
       " Median : 766.9       Median : 392.20        Median : 299.2                 \n",
       " Mean   :1319.1       Mean   : 695.89        Mean   : 491.3                 \n",
       " 3rd Qu.:2195.1       3rd Qu.:1158.58        3rd Qu.: 827.5                 \n",
       " Max.   :5490.4       Max.   :3243.30        Max.   :1785.3                 \n",
       " NA's   :1                                                                  \n",
       " Taxes on corporate income Taxes from the rest of the world\n",
       " Min.   :  9.50            Min.   : 0.10                   \n",
       " 1st Qu.: 30.15            1st Qu.: 0.40                   \n",
       " Median : 81.70            Median : 2.70                   \n",
       " Mean   :138.40            Mean   : 7.48                   \n",
       " 3rd Qu.:224.65            3rd Qu.:12.45                   \n",
       " Max.   :479.70            Max.   :35.60                   \n",
       " NA's   :1                 NA's   :48                      \n",
       " Contributions for government social insurance From persons...11\n",
       " Min.   :   4.5                                Min.   :   4.5   \n",
       " 1st Qu.:  28.9                                1st Qu.:  28.8   \n",
       " Median : 270.8                                Median : 269.4   \n",
       " Mean   : 449.9                                Mean   : 447.8   \n",
       " 3rd Qu.: 803.4                                3rd Qu.: 799.4   \n",
       " Max.   :1706.0                                Max.   :1700.0   \n",
       "                                                                \n",
       " From the rest of the world1 Income receipts on assets\n",
       " Min.   :0.000               Min.   :  0.200          \n",
       " 1st Qu.:0.200               1st Qu.:  5.975          \n",
       " Median :1.500               Median : 98.000          \n",
       " Mean   :2.183               Mean   : 91.126          \n",
       " 3rd Qu.:4.400               3rd Qu.:139.925          \n",
       " Max.   :6.000               Max.   :456.700          \n",
       " NA's   :16                                           \n",
       " Interest and miscellaneous receipts Interest receipts2 Rents and royalties\n",
       " Min.   :  0.10                      Min.   :  2.30     Min.   : 0.100     \n",
       " 1st Qu.:  4.60                      1st Qu.: 14.10     1st Qu.: 0.775     \n",
       " Median : 80.40                      Median : 81.30     Median : 7.700     \n",
       " Mean   : 61.37                      Mean   : 63.86     Mean   : 8.438     \n",
       " 3rd Qu.:108.78                      3rd Qu.: 94.33     3rd Qu.:15.500     \n",
       " Max.   :151.50                      Max.   :127.90     Max.   :28.800     \n",
       "                                     NA's   :52                            \n",
       "   Dividends      Current transfer receipts From business (net)\n",
       " Min.   :  0.10   Min.   :  0.500           Min.   :  0.30     \n",
       " 1st Qu.:  1.60   1st Qu.:  1.975           1st Qu.:  1.30     \n",
       " Median : 16.40   Median : 19.650           Median :  9.95     \n",
       " Mean   : 29.75   Mean   : 62.583           Mean   : 29.07     \n",
       " 3rd Qu.: 27.05   3rd Qu.:114.675           3rd Qu.: 50.17     \n",
       " Max.   :347.60   Max.   :280.400           Max.   :173.90     \n",
       "                                                               \n",
       " From persons...20 From the rest of the world3\n",
       " Min.   :  0.200   Min.   : 0.000             \n",
       " 1st Qu.:  0.675   1st Qu.: 1.000             \n",
       " Median :  9.700   Median : 2.950             \n",
       " Mean   : 32.000   Mean   : 4.773             \n",
       " 3rd Qu.: 63.225   3rd Qu.: 5.650             \n",
       " Max.   :117.400   Max.   :48.600             \n",
       "                   NA's   :208                \n",
       " Current surplus of government entreprises4 Current expenditures...23\n",
       " Min.   :-21.5000                           Min.   :   51.5          \n",
       " 1st Qu.: -4.1250                           1st Qu.:  193.0          \n",
       " Median : -0.2500                           Median : 1369.8          \n",
       " Mean   : -0.4902                           Mean   : 2299.5          \n",
       " 3rd Qu.:  3.1500                           3rd Qu.: 3695.5          \n",
       " Max.   : 18.6000                           Max.   :10582.2          \n",
       " NA's   :48                                                          \n",
       " Consumption expenditures Current transfer payments Government social benefits\n",
       " Min.   :  32.9           Min.   :  11.1            Min.   :   9.20           \n",
       " 1st Qu.: 124.6           1st Qu.:  39.7            1st Qu.:  36.17           \n",
       " Median : 662.4           Median : 410.6            Median : 396.90           \n",
       " Mean   :1035.4           Mean   : 915.4            Mean   : 897.81           \n",
       " 3rd Qu.:1787.2           3rd Qu.:1383.4            3rd Qu.:1361.65           \n",
       " Max.   :3678.7           Max.   :6060.7            Max.   :6001.60           \n",
       "                                                                              \n",
       "   To persons      To the rest of the world5\n",
       " Min.   :   9.20   Min.   : 0.200           \n",
       " 1st Qu.:  35.77   1st Qu.: 2.150           \n",
       " Median : 393.00   Median : 6.050           \n",
       " Mean   : 890.62   Mean   : 8.679           \n",
       " 3rd Qu.:1350.80   3rd Qu.:13.150           \n",
       " Max.   :5962.90   Max.   :45.400           \n",
       "                   NA's   :52               \n",
       " Other current transfer payments to the rest of the world 3.5\n",
       " Min.   :-74.30                                              \n",
       " 1st Qu.:  4.00                                              \n",
       " Median :  9.15                                              \n",
       " Mean   : 17.59                                              \n",
       " 3rd Qu.: 26.23                                              \n",
       " Max.   :111.90                                              \n",
       "                                                             \n",
       " Interest payments2 To person and business2 To the rest of the world\n",
       " Min.   :   5.90    Min.   : 17.00          Min.   :  0.00          \n",
       " 1st Qu.:  25.48    1st Qu.: 75.45          1st Qu.:  0.50          \n",
       " Median : 275.70    Median :371.30          Median : 21.80          \n",
       " Mean   : 308.75    Mean   :319.41          Mean   : 39.99          \n",
       " 3rd Qu.: 484.10    3rd Qu.:481.45          3rd Qu.: 70.40          \n",
       " Max.   :1117.40    Max.   :811.20          Max.   :193.10          \n",
       "                    NA's   :53              NA's   :1               \n",
       "   Subsidies4       Net government saving Social insurance funds\n",
       " Min.   :   0.000   Min.   :-4947.60      Min.   :-1496.80      \n",
       " 1st Qu.:   3.075   1st Qu.: -410.80      1st Qu.:  -26.45      \n",
       " Median :  21.400   Median : -105.90      Median :    0.45      \n",
       " Mean   :  39.969   Mean   : -360.40      Mean   :  -75.93      \n",
       " 3rd Qu.:  48.900   3rd Qu.:   -5.55      3rd Qu.:   16.65      \n",
       " Max.   :1109.400   Max.   :  148.60      Max.   :  119.00      \n",
       "                    NA's   :1             NA's   :44            \n",
       "     Other         Addenda        Total receipts   Current receipts...39\n",
       " Min.   :-3450.8   Mode:logical   Min.   :  53.2   Min.   :  52.3       \n",
       " 1st Qu.: -495.1   NA's:304       1st Qu.: 193.2   1st Qu.: 189.3       \n",
       " Median : -204.9                  Median :1156.0   Median :1147.7       \n",
       " Mean   : -347.3                  Mean   :1935.1   Mean   :1917.2       \n",
       " 3rd Qu.:  -43.7                  3rd Qu.:3226.2   3rd Qu.:3189.6       \n",
       " Max.   :   30.3                  Max.   :7759.7   Max.   :7618.1       \n",
       " NA's   :45                       NA's   :1        NA's   :1            \n",
       " Capital transfer receipts Total expenditures Current expenditures...42\n",
       " Min.   :  0.800           Min.   :  144.2    Min.   :   51.5          \n",
       " 1st Qu.:  3.775           1st Qu.:  595.9    1st Qu.:  193.0          \n",
       " Median :  9.650           Median : 2178.8    Median : 1369.8          \n",
       " Mean   : 18.118           Mean   : 2856.5    Mean   : 2299.5          \n",
       " 3rd Qu.: 25.700           3rd Qu.: 4758.5    3rd Qu.: 3695.5          \n",
       " Max.   :962.500           Max.   :10998.5    Max.   :10582.2          \n",
       "                           NA's   :52                                  \n",
       " Gross government investment Capital transfer payments\n",
       " Min.   :  4.9               Min.   :  0.00           \n",
       " 1st Qu.: 51.3               1st Qu.:  0.10           \n",
       " Median :206.8               Median :  0.20           \n",
       " Mean   :274.2               Mean   : 11.70           \n",
       " 3rd Qu.:472.9               3rd Qu.: 13.57           \n",
       " Max.   :889.3               Max.   :290.40           \n",
       "                                                      \n",
       " Net  purchases of nonproducted assets Less: Consumption of fixed capital\n",
       " Min.   :-306.900                      Min.   :  8.9                     \n",
       " 1st Qu.:   1.075                      1st Qu.: 27.3                     \n",
       " Median :   3.250                      Median :141.0                     \n",
       " Mean   :   1.879                      Mean   :202.7                     \n",
       " 3rd Qu.:   8.800                      3rd Qu.:312.9                     \n",
       " Max.   :  17.200                      Max.   :737.1                     \n",
       " NA's   :52                                                              \n",
       " Net lending or net borrowing\n",
       " Min.   :-5136.7             \n",
       " 1st Qu.: -700.8             \n",
       " Median : -261.7             \n",
       " Mean   : -513.6             \n",
       " 3rd Qu.:  -58.7             \n",
       " Max.   :   60.3             \n",
       " NA's   :53                  "
      ]
     },
     "metadata": {},
     "output_type": "display_data"
    }
   ],
   "source": [
    "gov_reciept <- read_excel(\"reciept.xlsx\")\n",
    "summary(gov_reciept)\n",
    "#View( gov_reciept) n'existe pas sur jupyter, mais peut être testé sur Rstudio"
   ]
  },
  {
   "cell_type": "code",
   "execution_count": 4,
   "id": "f69e3eec",
   "metadata": {},
   "outputs": [
    {
     "data": {
      "text/html": [
       "<ol class=list-inline>\n",
       "\t<li>304</li>\n",
       "\t<li>47</li>\n",
       "</ol>\n"
      ],
      "text/latex": [
       "\\begin{enumerate*}\n",
       "\\item 304\n",
       "\\item 47\n",
       "\\end{enumerate*}\n"
      ],
      "text/markdown": [
       "1. 304\n",
       "2. 47\n",
       "\n",
       "\n"
      ],
      "text/plain": [
       "[1] 304  47"
      ]
     },
     "metadata": {},
     "output_type": "display_data"
    }
   ],
   "source": [
    "dim(gov_reciept)"
   ]
  },
  {
   "cell_type": "markdown",
   "id": "80b1bd7f",
   "metadata": {},
   "source": [
    "### Présentation du jeu de donnée"
   ]
  },
  {
   "cell_type": "code",
   "execution_count": 5,
   "id": "11d06f15",
   "metadata": {},
   "outputs": [
    {
     "data": {
      "text/html": [
       "<table>\n",
       "<thead><tr><th scope=col>...1</th><th scope=col>Année</th><th scope=col>trimestre</th><th scope=col>Current receipts...4</th><th scope=col>Current tax receipts</th><th scope=col>Personal current taxes</th><th scope=col>Taxes on production and imports</th><th scope=col>Taxes on corporate income</th><th scope=col>Taxes from the rest of the world</th><th scope=col>Contributions for government social insurance</th><th scope=col>...</th><th scope=col>Total receipts</th><th scope=col>Current receipts...39</th><th scope=col>Capital transfer receipts</th><th scope=col>Total expenditures</th><th scope=col>Current expenditures...42</th><th scope=col>Gross government investment</th><th scope=col>Capital transfer payments</th><th scope=col>Net  purchases of nonproducted assets</th><th scope=col>Less: Consumption of fixed capital</th><th scope=col>Net lending or net borrowing</th></tr></thead>\n",
       "<tbody>\n",
       "\t<tr><td> 0  </td><td>1947</td><td>Q1  </td><td>55.4</td><td>48.3</td><td>19.2</td><td>17.7</td><td>11.5</td><td>NA  </td><td>6.3 </td><td>... </td><td>56.4</td><td>55.4</td><td>1.0 </td><td>NA  </td><td>52.8</td><td> 4.9</td><td>0   </td><td>NA  </td><td>11.8</td><td>NA  </td></tr>\n",
       "\t<tr><td> 1  </td><td>1947</td><td>Q2  </td><td>54.8</td><td>48.1</td><td>19.5</td><td>17.7</td><td>10.9</td><td>NA  </td><td>6.0 </td><td>... </td><td>55.7</td><td>54.8</td><td>0.9 </td><td>NA  </td><td>52.4</td><td> 5.1</td><td>0   </td><td>NA  </td><td>11.4</td><td>NA  </td></tr>\n",
       "\t<tr><td> 2  </td><td>1947</td><td>Q3  </td><td>54.4</td><td>48.5</td><td>19.7</td><td>18.0</td><td>10.7</td><td>NA  </td><td>5.2 </td><td>... </td><td>55.4</td><td>54.4</td><td>1.0 </td><td>NA  </td><td>54.7</td><td> 6.1</td><td>0   </td><td>NA  </td><td>11.3</td><td>NA  </td></tr>\n",
       "\t<tr><td> 3  </td><td>1947</td><td>Q4  </td><td>57.0</td><td>51.4</td><td>20.8</td><td>19.0</td><td>11.7</td><td>NA  </td><td>4.8 </td><td>... </td><td>58.0</td><td>57.0</td><td>1.0 </td><td>NA  </td><td>51.5</td><td> 6.6</td><td>0   </td><td>NA  </td><td>11.1</td><td>NA  </td></tr>\n",
       "\t<tr><td> 4  </td><td>1948</td><td>Q1  </td><td>57.9</td><td>52.2</td><td>21.2</td><td>19.0</td><td>12.0</td><td>NA  </td><td>4.8 </td><td>... </td><td>59.0</td><td>57.9</td><td>1.1 </td><td>NA  </td><td>53.1</td><td> 7.5</td><td>0   </td><td>NA  </td><td>10.7</td><td>NA  </td></tr>\n",
       "\t<tr><td> 5  </td><td>1948</td><td>Q2  </td><td>56.7</td><td>51.3</td><td>18.9</td><td>19.7</td><td>12.6</td><td>NA  </td><td>4.6 </td><td>... </td><td>57.9</td><td>56.7</td><td>1.2 </td><td>NA  </td><td>54.1</td><td> 8.2</td><td>0   </td><td>NA  </td><td>10.5</td><td>NA  </td></tr>\n",
       "\t<tr><td> 6  </td><td>1948</td><td>Q3  </td><td>56.2</td><td>50.7</td><td>18.2</td><td>20.0</td><td>12.4</td><td>NA  </td><td>4.6 </td><td>... </td><td>57.2</td><td>56.2</td><td>1.0 </td><td>NA  </td><td>57.3</td><td> 8.8</td><td>0   </td><td>NA  </td><td>10.5</td><td>NA  </td></tr>\n",
       "\t<tr><td> 7  </td><td>1948</td><td>Q4  </td><td>56.2</td><td>50.7</td><td>18.4</td><td>20.3</td><td>12.0</td><td>NA  </td><td>4.5 </td><td>... </td><td>57.1</td><td>56.2</td><td>1.0 </td><td>NA  </td><td>58.4</td><td> 9.4</td><td>0   </td><td>NA  </td><td>10.3</td><td>NA  </td></tr>\n",
       "\t<tr><td> 8  </td><td>1949</td><td>Q1  </td><td>55.2</td><td>49.0</td><td>17.8</td><td>20.4</td><td>10.8</td><td>NA  </td><td>5.2 </td><td>... </td><td>56.2</td><td>55.2</td><td>0.9 </td><td>NA  </td><td>60.6</td><td>10.3</td><td>0   </td><td>NA  </td><td>10.2</td><td>NA  </td></tr>\n",
       "\t<tr><td> 9  </td><td>1949</td><td>Q2  </td><td>53.5</td><td>47.3</td><td>17.0</td><td>20.8</td><td> 9.5</td><td>NA  </td><td>5.1 </td><td>... </td><td>54.4</td><td>53.5</td><td>0.9 </td><td>NA  </td><td>62.1</td><td>11.3</td><td>0   </td><td>NA  </td><td> 9.8</td><td>NA  </td></tr>\n",
       "\t<tr><td>10  </td><td>1949</td><td>Q3  </td><td>53.3</td><td>47.5</td><td>16.3</td><td>21.3</td><td> 9.9</td><td>NA  </td><td>4.8 </td><td>... </td><td>54.3</td><td>53.3</td><td>0.9 </td><td>NA  </td><td>62.1</td><td>11.9</td><td>0   </td><td>NA  </td><td> 9.5</td><td>NA  </td></tr>\n",
       "\t<tr><td>11  </td><td>1949</td><td>Q4  </td><td>52.3</td><td>46.7</td><td>15.8</td><td>21.2</td><td> 9.7</td><td>NA  </td><td>4.5 </td><td>... </td><td>53.2</td><td>52.3</td><td>0.9 </td><td>NA  </td><td>61.4</td><td>11.8</td><td>0   </td><td>NA  </td><td> 9.3</td><td>NA  </td></tr>\n",
       "\t<tr><td>12  </td><td>1950</td><td>Q1  </td><td>57.9</td><td>51.6</td><td>16.6</td><td>21.6</td><td>13.4</td><td>NA  </td><td>5.3 </td><td>... </td><td>58.7</td><td>57.9</td><td>0.8 </td><td>NA  </td><td>69.5</td><td>10.7</td><td>0   </td><td>NA  </td><td> 9.0</td><td>NA  </td></tr>\n",
       "\t<tr><td>13  </td><td>1950</td><td>Q2  </td><td>62.5</td><td>56.2</td><td>17.6</td><td>22.5</td><td>16.1</td><td>NA  </td><td>5.3 </td><td>... </td><td>63.3</td><td>62.5</td><td>0.8 </td><td>NA  </td><td>63.3</td><td>11.1</td><td>0   </td><td>NA  </td><td> 8.9</td><td>NA  </td></tr>\n",
       "\t<tr><td>14  </td><td>1950</td><td>Q3  </td><td>69.5</td><td>63.0</td><td>18.9</td><td>24.4</td><td>19.7</td><td>NA  </td><td>5.5 </td><td>... </td><td>70.4</td><td>69.5</td><td>0.8 </td><td>NA  </td><td>59.2</td><td>11.7</td><td>0   </td><td>NA  </td><td> 9.0</td><td>NA  </td></tr>\n",
       "\t<tr><td>15  </td><td>1950</td><td>Q4  </td><td>74.4</td><td>67.6</td><td>22.5</td><td>23.4</td><td>21.6</td><td>NA  </td><td>5.8 </td><td>... </td><td>75.2</td><td>74.4</td><td>0.8 </td><td>NA  </td><td>63.6</td><td>12.3</td><td>0   </td><td>NA  </td><td> 9.3</td><td>NA  </td></tr>\n",
       "\t<tr><td>16  </td><td>1951</td><td>Q1  </td><td>83.3</td><td>75.6</td><td>24.4</td><td>25.1</td><td>26.0</td><td>NA  </td><td>6.6 </td><td>... </td><td>84.2</td><td>83.3</td><td>0.9 </td><td>NA  </td><td>68.9</td><td>14.9</td><td>0   </td><td>NA  </td><td> 9.7</td><td>NA  </td></tr>\n",
       "\t<tr><td>17  </td><td>1951</td><td>Q2  </td><td>80.3</td><td>72.4</td><td>26.4</td><td>24.1</td><td>22.0</td><td>NA  </td><td>6.7 </td><td>... </td><td>81.2</td><td>80.3</td><td>0.9 </td><td>NA  </td><td>73.7</td><td>18.2</td><td>0   </td><td>NA  </td><td> 9.8</td><td>NA  </td></tr>\n",
       "\t<tr><td>18  </td><td>1951</td><td>Q3  </td><td>79.9</td><td>72.2</td><td>27.8</td><td>24.5</td><td>19.9</td><td>NA  </td><td>6.6 </td><td>... </td><td>80.8</td><td>79.9</td><td>0.9 </td><td>NA  </td><td>79.0</td><td>21.1</td><td>0   </td><td>NA  </td><td>10.1</td><td>NA  </td></tr>\n",
       "\t<tr><td>19  </td><td>1951</td><td>Q4  </td><td>84.1</td><td>76.2</td><td>29.6</td><td>25.3</td><td>21.3</td><td>NA  </td><td>6.7 </td><td>... </td><td>85.2</td><td>84.1</td><td>1.1 </td><td>NA  </td><td>81.7</td><td>24.1</td><td>0   </td><td>NA  </td><td>10.4</td><td>NA  </td></tr>\n",
       "\t<tr><td>20  </td><td>1952</td><td>Q1  </td><td>84.7</td><td>76.5</td><td>30.9</td><td>26.1</td><td>19.5</td><td>NA  </td><td>7.0 </td><td>... </td><td>85.7</td><td>84.7</td><td>1.0 </td><td>NA  </td><td>81.7</td><td>24.1</td><td>0   </td><td>NA  </td><td>10.6</td><td>NA  </td></tr>\n",
       "\t<tr><td>21  </td><td>1952</td><td>Q2  </td><td>85.2</td><td>77.1</td><td>31.8</td><td>26.9</td><td>18.4</td><td>NA  </td><td>6.8 </td><td>... </td><td>86.3</td><td>85.2</td><td>1.1 </td><td>NA  </td><td>86.3</td><td>24.3</td><td>0   </td><td>NA  </td><td>10.9</td><td>NA  </td></tr>\n",
       "\t<tr><td>22  </td><td>1952</td><td>Q3  </td><td>86.1</td><td>77.9</td><td>32.3</td><td>27.3</td><td>18.3</td><td>NA  </td><td>6.9 </td><td>... </td><td>87.2</td><td>86.1</td><td>1.1 </td><td>NA  </td><td>88.7</td><td>24.8</td><td>0   </td><td>NA  </td><td>11.3</td><td>NA  </td></tr>\n",
       "\t<tr><td>23  </td><td>1952</td><td>Q4  </td><td>89.8</td><td>81.4</td><td>33.1</td><td>28.1</td><td>20.2</td><td>NA  </td><td>7.1 </td><td>... </td><td>90.8</td><td>89.8</td><td>1.0 </td><td>NA  </td><td>90.0</td><td>25.3</td><td>0   </td><td>NA  </td><td>11.5</td><td>NA  </td></tr>\n",
       "\t<tr><td>24  </td><td>1953</td><td>Q1  </td><td>91.9</td><td>83.4</td><td>33.4</td><td>28.7</td><td>21.3</td><td>NA  </td><td>7.1 </td><td>... </td><td>93.1</td><td>91.9</td><td>1.2 </td><td>NA  </td><td>91.6</td><td>26.5</td><td>0   </td><td>NA  </td><td>11.8</td><td>NA  </td></tr>\n",
       "\t<tr><td>25  </td><td>1953</td><td>Q2  </td><td>92.5</td><td>84.0</td><td>33.4</td><td>29.2</td><td>21.4</td><td>NA  </td><td>7.2 </td><td>... </td><td>93.6</td><td>92.5</td><td>1.1 </td><td>NA  </td><td>93.0</td><td>27.2</td><td>0   </td><td>NA  </td><td>12.1</td><td>NA  </td></tr>\n",
       "\t<tr><td>26  </td><td>1953</td><td>Q3  </td><td>92.0</td><td>83.4</td><td>33.2</td><td>29.3</td><td>20.9</td><td>NA  </td><td>7.2 </td><td>... </td><td>93.1</td><td>92.0</td><td>1.1 </td><td>NA  </td><td>92.3</td><td>27.0</td><td>0   </td><td>NA  </td><td>12.2</td><td>NA  </td></tr>\n",
       "\t<tr><td>27  </td><td>1953</td><td>Q4  </td><td>86.8</td><td>78.3</td><td>32.9</td><td>29.2</td><td>16.2</td><td>NA  </td><td>7.1 </td><td>... </td><td>88.0</td><td>86.8</td><td>1.2 </td><td>NA  </td><td>93.6</td><td>25.9</td><td>0   </td><td>NA  </td><td>12.4</td><td>NA  </td></tr>\n",
       "\t<tr><td>28  </td><td>1954</td><td>Q1  </td><td>84.5</td><td>75.0</td><td>30.2</td><td>28.7</td><td>16.1</td><td>NA  </td><td>8.1 </td><td>... </td><td>85.7</td><td>84.5</td><td>1.2 </td><td>NA  </td><td>91.9</td><td>26.4</td><td>0   </td><td>NA  </td><td>12.6</td><td>NA  </td></tr>\n",
       "\t<tr><td>29  </td><td>1954</td><td>Q2  </td><td>84.9</td><td>75.4</td><td>30.0</td><td>28.8</td><td>16.6</td><td>NA  </td><td>8.1 </td><td>... </td><td>86.1</td><td>84.9</td><td>1.1 </td><td>NA  </td><td>91.2</td><td>25.9</td><td>0   </td><td>NA  </td><td>12.9</td><td>NA  </td></tr>\n",
       "\t<tr><td>...</td><td>...</td><td>...</td><td>...</td><td>...</td><td>...</td><td>...</td><td>...</td><td>...</td><td>...</td><td>   </td><td>...</td><td>...</td><td>...</td><td>...</td><td>...</td><td>...</td><td>...</td><td>...</td><td>...</td><td>...</td></tr>\n",
       "\t<tr><td>274    </td><td>2015   </td><td>Q3     </td><td>5273.3 </td><td>3625.7 </td><td>1947.3 </td><td>1275.5 </td><td>379.6  </td><td>23.3   </td><td>1216.1 </td><td>...    </td><td>5299.2 </td><td>5273.3 </td><td> 25.9  </td><td> 6225.7</td><td> 6091.1</td><td>630.5  </td><td> 17.1  </td><td>  11.3 </td><td>524.3  </td><td> -926.6</td></tr>\n",
       "\t<tr><td>275    </td><td>2015   </td><td>Q4     </td><td>5421.5 </td><td>3626.1 </td><td>1964.9 </td><td>1289.9 </td><td>349.7  </td><td>21.6   </td><td>1223.6 </td><td>...    </td><td>5447.3 </td><td>5421.5 </td><td> 25.8  </td><td> 6246.0</td><td> 6120.8</td><td>625.5  </td><td> 11.9  </td><td>  11.7 </td><td>524.0  </td><td> -798.7</td></tr>\n",
       "\t<tr><td>276    </td><td>2016   </td><td>Q1     </td><td>5288.4 </td><td>3609.7 </td><td>1924.6 </td><td>1295.9 </td><td>364.6  </td><td>24.6   </td><td>1230.8 </td><td>...    </td><td>5313.4 </td><td>5288.4 </td><td> 25.0  </td><td> 6318.6</td><td> 6174.1</td><td>639.9  </td><td> 14.6  </td><td>  12.0 </td><td>522.0  </td><td>-1005.2</td></tr>\n",
       "\t<tr><td>277    </td><td>2016   </td><td>Q2     </td><td>5304.1 </td><td>3635.6 </td><td>1943.4 </td><td>1301.0 </td><td>367.7  </td><td>23.6   </td><td>1237.0 </td><td>...    </td><td>5329.4 </td><td>5304.1 </td><td> 25.3  </td><td> 6320.5</td><td> 6219.8</td><td>637.2  </td><td> 10.0  </td><td> -20.2 </td><td>526.3  </td><td> -991.0</td></tr>\n",
       "\t<tr><td>278    </td><td>2016   </td><td>Q3     </td><td>5356.4 </td><td>3691.1 </td><td>1972.0 </td><td>1320.8 </td><td>374.8  </td><td>23.5   </td><td>1248.1 </td><td>...    </td><td>5381.6 </td><td>5356.4 </td><td> 25.2  </td><td> 6412.7</td><td> 6281.7</td><td>637.0  </td><td> 11.1  </td><td>  11.2 </td><td>528.3  </td><td>-1031.1</td></tr>\n",
       "\t<tr><td>279    </td><td>2016   </td><td>Q4     </td><td>5395.5 </td><td>3700.1 </td><td>1992.9 </td><td>1328.9 </td><td>353.8  </td><td>24.5   </td><td>1261.5 </td><td>...    </td><td>5421.6 </td><td>5395.5 </td><td> 26.1  </td><td> 6462.2</td><td> 6318.0</td><td>645.6  </td><td> 17.5  </td><td>  13.0 </td><td>531.9  </td><td>-1040.7</td></tr>\n",
       "\t<tr><td>280    </td><td>2017   </td><td>Q1     </td><td>5408.3 </td><td>3635.5 </td><td>2004.1 </td><td>1340.0 </td><td>267.4  </td><td>24.0   </td><td>1282.6 </td><td>...    </td><td>5435.6 </td><td>5408.3 </td><td> 27.3  </td><td> 6506.6</td><td> 6359.7</td><td>652.4  </td><td> 17.1  </td><td>  13.0 </td><td>535.5  </td><td>-1071.0</td></tr>\n",
       "\t<tr><td>281    </td><td>2017   </td><td>Q2     </td><td>5394.5 </td><td>3673.5 </td><td>2012.0 </td><td>1356.6 </td><td>280.0  </td><td>24.8   </td><td>1294.9 </td><td>...    </td><td>5422.4 </td><td>5394.5 </td><td> 28.0  </td><td> 6535.7</td><td> 6384.0</td><td>661.8  </td><td> 16.0  </td><td>  13.4 </td><td>539.4  </td><td>-1113.3</td></tr>\n",
       "\t<tr><td>282    </td><td>2017   </td><td>Q3     </td><td>5480.6 </td><td>3751.4 </td><td>2054.8 </td><td>1376.1 </td><td>295.4  </td><td>25.1   </td><td>1310.1 </td><td>...    </td><td>5515.8 </td><td>5480.6 </td><td> 35.2  </td><td> 6639.4</td><td> 6451.4</td><td>668.1  </td><td> 56.8  </td><td>   7.2 </td><td>544.2  </td><td>-1123.6</td></tr>\n",
       "\t<tr><td>283    </td><td>2017   </td><td>Q4     </td><td>5586.7 </td><td>3843.5 </td><td>2123.6 </td><td>1397.1 </td><td>297.0  </td><td>25.9   </td><td>1329.1 </td><td>...    </td><td>6549.3 </td><td>5586.7 </td><td>962.5  </td><td> 6694.4</td><td> 6522.3</td><td>690.8  </td><td> 15.3  </td><td>  14.8 </td><td>548.8  </td><td> -145.1</td></tr>\n",
       "\t<tr><td>284    </td><td>2018   </td><td>Q1     </td><td>5563.8 </td><td>3787.5 </td><td>2072.8 </td><td>1427.5 </td><td>262.3  </td><td>24.9   </td><td>1349.1 </td><td>...    </td><td>5593.3 </td><td>5563.8 </td><td> 29.5  </td><td> 6786.8</td><td> 6616.1</td><td>696.1  </td><td> 13.8  </td><td>  15.6 </td><td>554.9  </td><td>-1193.5</td></tr>\n",
       "\t<tr><td>285    </td><td>2018   </td><td>Q2     </td><td>5604.2 </td><td>3818.5 </td><td>2057.7 </td><td>1446.8 </td><td>288.4  </td><td>25.7   </td><td>1358.9 </td><td>...    </td><td>5633.5 </td><td>5604.2 </td><td> 29.2  </td><td> 6901.1</td><td> 6714.0</td><td>713.8  </td><td> 20.3  </td><td>  16.0 </td><td>563.0  </td><td>-1267.7</td></tr>\n",
       "\t<tr><td>286    </td><td>2018   </td><td>Q3     </td><td>5716.4 </td><td>3871.1 </td><td>2086.0 </td><td>1469.3 </td><td>290.3  </td><td>25.5   </td><td>1375.7 </td><td>...    </td><td>5747.6 </td><td>5716.4 </td><td> 31.2  </td><td> 6988.1</td><td> 6804.8</td><td>720.3  </td><td> 15.0  </td><td>  16.4 </td><td>568.4  </td><td>-1240.5</td></tr>\n",
       "\t<tr><td>287    </td><td>2018   </td><td>Q4     </td><td>5732.0 </td><td>3912.6 </td><td>2083.1 </td><td>1502.1 </td><td>300.5  </td><td>26.9   </td><td>1384.0 </td><td>...    </td><td>5757.9 </td><td>5732.0 </td><td> 26.0  </td><td> 7074.9</td><td> 6900.3</td><td>717.1  </td><td> 16.6  </td><td>  14.9 </td><td>574.0  </td><td>-1317.0</td></tr>\n",
       "\t<tr><td>288    </td><td>2019   </td><td>Q1     </td><td>5794.4 </td><td>3967.0 </td><td>2160.2 </td><td>1504.7 </td><td>276.4  </td><td>25.8   </td><td>1416.0 </td><td>...    </td><td>5817.7 </td><td>5794.4 </td><td> 23.3  </td><td> 7216.0</td><td> 7021.3</td><td>745.6  </td><td> 18.5  </td><td>  10.5 </td><td>579.7  </td><td>-1398.4</td></tr>\n",
       "\t<tr><td>289    </td><td>2019   </td><td>Q2     </td><td>5904.5 </td><td>4054.7 </td><td>2221.6 </td><td>1516.1 </td><td>290.4  </td><td>26.6   </td><td>1423.4 </td><td>...    </td><td>5925.5 </td><td>5904.5 </td><td> 21.0  </td><td> 7296.6</td><td> 7110.3</td><td>744.7  </td><td> 11.1  </td><td>  14.9 </td><td>584.3  </td><td>-1371.1</td></tr>\n",
       "\t<tr><td>290    </td><td>2019   </td><td>Q3     </td><td>5899.8 </td><td>4042.6 </td><td>2195.8 </td><td>1549.7 </td><td>270.3  </td><td>26.8   </td><td>1430.7 </td><td>...    </td><td>5920.5 </td><td>5899.8 </td><td> 20.7  </td><td> 7379.1</td><td> 7187.3</td><td>754.7  </td><td> 11.4  </td><td>  14.9 </td><td>589.2  </td><td>-1458.6</td></tr>\n",
       "\t<tr><td>291    </td><td>2019   </td><td>Q4     </td><td>5956.8 </td><td>4090.8 </td><td>2216.0 </td><td>1549.6 </td><td>298.3  </td><td>26.8   </td><td>1449.6 </td><td>...    </td><td>5977.7 </td><td>5956.8 </td><td> 20.9  </td><td> 7463.6</td><td> 7219.1</td><td>759.5  </td><td> 61.5  </td><td>  16.2 </td><td>592.8  </td><td>-1485.9</td></tr>\n",
       "\t<tr><td>292    </td><td>2020   </td><td>Q1     </td><td>5995.2 </td><td>4094.0 </td><td>2249.1 </td><td>1565.8 </td><td>250.8  </td><td>28.3   </td><td>1475.7 </td><td>...    </td><td>6017.6 </td><td>5995.2 </td><td> 22.4  </td><td> 7502.1</td><td> 7282.1</td><td>781.6  </td><td> 19.8  </td><td>  16.3 </td><td>597.6  </td><td>-1484.6</td></tr>\n",
       "\t<tr><td>293    </td><td>2020   </td><td>Q2     </td><td>5619.2 </td><td>3793.6 </td><td>2098.2 </td><td>1426.5 </td><td>242.8  </td><td>26.1   </td><td>1405.1 </td><td>...    </td><td>5647.5 </td><td>5619.2 </td><td> 28.4  </td><td>10784.2</td><td>10566.8</td><td>786.1  </td><td> 16.8  </td><td>  16.4 </td><td>601.9  </td><td>-5136.7</td></tr>\n",
       "\t<tr><td>294    </td><td>2020   </td><td>Q3     </td><td>5999.3 </td><td>4110.1 </td><td>2237.5 </td><td>1546.5 </td><td>299.3  </td><td>26.7   </td><td>1452.7 </td><td>...    </td><td>6025.4 </td><td>5999.3 </td><td> 26.1  </td><td> 9690.6</td><td> 9490.9</td><td>789.7  </td><td> 13.4  </td><td>   5.5 </td><td>608.9  </td><td>-3665.2</td></tr>\n",
       "\t<tr><td>295    </td><td>2020   </td><td>Q4     </td><td>6189.8 </td><td>4268.1 </td><td>2360.7 </td><td>1566.4 </td><td>311.3  </td><td>29.7   </td><td>1486.4 </td><td>...    </td><td>6218.1 </td><td>6189.8 </td><td> 28.3  </td><td> 8459.4</td><td> 8240.0</td><td>804.7  </td><td> 13.5  </td><td>  16.7 </td><td>615.4  </td><td>-2241.3</td></tr>\n",
       "\t<tr><td>296    </td><td>2021   </td><td>Q1     </td><td>6388.6 </td><td>4460.3 </td><td>2509.0 </td><td>1583.7 </td><td>337.7  </td><td>30.0   </td><td>1496.8 </td><td>...    </td><td>6420.0 </td><td>6388.6 </td><td> 31.5  </td><td>10998.5</td><td>10582.2</td><td>798.0  </td><td>245.6  </td><td>  -1.2 </td><td>626.1  </td><td>-4578.5</td></tr>\n",
       "\t<tr><td>297    </td><td>2021   </td><td>Q2     </td><td>6692.8 </td><td>4716.9 </td><td>2638.5 </td><td>1676.7 </td><td>371.7  </td><td>30.0   </td><td>1527.0 </td><td>...    </td><td>6726.8 </td><td>6692.8 </td><td> 33.9  </td><td> 9468.9</td><td> 9282.3</td><td>797.0  </td><td> 12.2  </td><td>  16.9 </td><td>639.4  </td><td>-2742.2</td></tr>\n",
       "\t<tr><td>298    </td><td>2021   </td><td>Q3     </td><td>6802.0 </td><td>4777.0 </td><td>2693.2 </td><td>1680.0 </td><td>372.9  </td><td>30.8   </td><td>1559.5 </td><td>...    </td><td>6850.7 </td><td>6802.0 </td><td> 48.8  </td><td> 9156.7</td><td> 8971.6</td><td>810.1  </td><td> 29.1  </td><td>  -0.9 </td><td>653.2  </td><td>-2306.0</td></tr>\n",
       "\t<tr><td>299    </td><td>2021   </td><td>Q4     </td><td>7044.0 </td><td>4966.3 </td><td>2806.1 </td><td>1713.2 </td><td>415.3  </td><td>31.7   </td><td>1601.5 </td><td>...    </td><td>7081.6 </td><td>7044.0 </td><td> 37.6  </td><td> 8720.1</td><td> 8533.1</td><td>822.9  </td><td> 16.6  </td><td>  17.2 </td><td>669.7  </td><td>-1638.5</td></tr>\n",
       "\t<tr><td>300    </td><td>2022   </td><td>Q1     </td><td>7541.0 </td><td>5408.8 </td><td>3145.5 </td><td>1750.1 </td><td>479.7  </td><td>33.6   </td><td>1640.6 </td><td>...    </td><td>7578.9 </td><td>7541.0 </td><td> 38.0  </td><td> 8250.4</td><td> 8402.6</td><td>829.3  </td><td> 16.6  </td><td>-306.9 </td><td>691.2  </td><td> -671.5</td></tr>\n",
       "\t<tr><td>301    </td><td>2022   </td><td>Q2     </td><td>7618.1 </td><td>5462.3 </td><td>3188.5 </td><td>1775.5 </td><td>463.0  </td><td>35.3   </td><td>1660.3 </td><td>...    </td><td>7759.7 </td><td>7618.1 </td><td>141.6  </td><td> 8688.2</td><td> 8535.8</td><td>838.9  </td><td> 24.3  </td><td>   0.3 </td><td>711.2  </td><td> -928.5</td></tr>\n",
       "\t<tr><td>302    </td><td>2022   </td><td>Q3     </td><td>7589.5 </td><td>5490.4 </td><td>3229.2 </td><td>1785.1 </td><td>441.3  </td><td>34.9   </td><td>1686.8 </td><td>...    </td><td>7640.5 </td><td>7589.5 </td><td> 51.0  </td><td> 8853.0</td><td> 8707.3</td><td>868.8  </td><td> 76.1  </td><td> -72.9 </td><td>726.3  </td><td>-1212.5</td></tr>\n",
       "\t<tr><td>303    </td><td>2022   </td><td>Q4     </td><td>    NA </td><td>    NA </td><td>3243.3 </td><td>1785.3 </td><td>   NA  </td><td>35.6   </td><td>1706.0 </td><td>...    </td><td>    NA </td><td>    NA </td><td> 92.3  </td><td> 9132.3</td><td> 8930.5</td><td>889.3  </td><td> 32.5  </td><td>  17.1 </td><td>737.1  </td><td>     NA</td></tr>\n",
       "</tbody>\n",
       "</table>\n"
      ],
      "text/latex": [
       "\\begin{tabular}{r|lllllllllllllllllllllllllllllllllllllllllllllll}\n",
       " ...1 & Année & trimestre & Current receipts...4 & Current tax receipts & Personal current taxes & Taxes on production and imports & Taxes on corporate income & Taxes from the rest of the world & Contributions for government social insurance & ... & Total receipts & Current receipts...39 & Capital transfer receipts & Total expenditures & Current expenditures...42 & Gross government investment & Capital transfer payments & Net  purchases of nonproducted assets & Less: Consumption of fixed capital & Net lending or net borrowing\\\\\n",
       "\\hline\n",
       "\t  0   & 1947 & Q1   & 55.4 & 48.3 & 19.2 & 17.7 & 11.5 & NA   & 6.3  & ...  & 56.4 & 55.4 & 1.0  & NA   & 52.8 &  4.9 & 0    & NA   & 11.8 & NA  \\\\\n",
       "\t  1   & 1947 & Q2   & 54.8 & 48.1 & 19.5 & 17.7 & 10.9 & NA   & 6.0  & ...  & 55.7 & 54.8 & 0.9  & NA   & 52.4 &  5.1 & 0    & NA   & 11.4 & NA  \\\\\n",
       "\t  2   & 1947 & Q3   & 54.4 & 48.5 & 19.7 & 18.0 & 10.7 & NA   & 5.2  & ...  & 55.4 & 54.4 & 1.0  & NA   & 54.7 &  6.1 & 0    & NA   & 11.3 & NA  \\\\\n",
       "\t  3   & 1947 & Q4   & 57.0 & 51.4 & 20.8 & 19.0 & 11.7 & NA   & 4.8  & ...  & 58.0 & 57.0 & 1.0  & NA   & 51.5 &  6.6 & 0    & NA   & 11.1 & NA  \\\\\n",
       "\t  4   & 1948 & Q1   & 57.9 & 52.2 & 21.2 & 19.0 & 12.0 & NA   & 4.8  & ...  & 59.0 & 57.9 & 1.1  & NA   & 53.1 &  7.5 & 0    & NA   & 10.7 & NA  \\\\\n",
       "\t  5   & 1948 & Q2   & 56.7 & 51.3 & 18.9 & 19.7 & 12.6 & NA   & 4.6  & ...  & 57.9 & 56.7 & 1.2  & NA   & 54.1 &  8.2 & 0    & NA   & 10.5 & NA  \\\\\n",
       "\t  6   & 1948 & Q3   & 56.2 & 50.7 & 18.2 & 20.0 & 12.4 & NA   & 4.6  & ...  & 57.2 & 56.2 & 1.0  & NA   & 57.3 &  8.8 & 0    & NA   & 10.5 & NA  \\\\\n",
       "\t  7   & 1948 & Q4   & 56.2 & 50.7 & 18.4 & 20.3 & 12.0 & NA   & 4.5  & ...  & 57.1 & 56.2 & 1.0  & NA   & 58.4 &  9.4 & 0    & NA   & 10.3 & NA  \\\\\n",
       "\t  8   & 1949 & Q1   & 55.2 & 49.0 & 17.8 & 20.4 & 10.8 & NA   & 5.2  & ...  & 56.2 & 55.2 & 0.9  & NA   & 60.6 & 10.3 & 0    & NA   & 10.2 & NA  \\\\\n",
       "\t  9   & 1949 & Q2   & 53.5 & 47.3 & 17.0 & 20.8 &  9.5 & NA   & 5.1  & ...  & 54.4 & 53.5 & 0.9  & NA   & 62.1 & 11.3 & 0    & NA   &  9.8 & NA  \\\\\n",
       "\t 10   & 1949 & Q3   & 53.3 & 47.5 & 16.3 & 21.3 &  9.9 & NA   & 4.8  & ...  & 54.3 & 53.3 & 0.9  & NA   & 62.1 & 11.9 & 0    & NA   &  9.5 & NA  \\\\\n",
       "\t 11   & 1949 & Q4   & 52.3 & 46.7 & 15.8 & 21.2 &  9.7 & NA   & 4.5  & ...  & 53.2 & 52.3 & 0.9  & NA   & 61.4 & 11.8 & 0    & NA   &  9.3 & NA  \\\\\n",
       "\t 12   & 1950 & Q1   & 57.9 & 51.6 & 16.6 & 21.6 & 13.4 & NA   & 5.3  & ...  & 58.7 & 57.9 & 0.8  & NA   & 69.5 & 10.7 & 0    & NA   &  9.0 & NA  \\\\\n",
       "\t 13   & 1950 & Q2   & 62.5 & 56.2 & 17.6 & 22.5 & 16.1 & NA   & 5.3  & ...  & 63.3 & 62.5 & 0.8  & NA   & 63.3 & 11.1 & 0    & NA   &  8.9 & NA  \\\\\n",
       "\t 14   & 1950 & Q3   & 69.5 & 63.0 & 18.9 & 24.4 & 19.7 & NA   & 5.5  & ...  & 70.4 & 69.5 & 0.8  & NA   & 59.2 & 11.7 & 0    & NA   &  9.0 & NA  \\\\\n",
       "\t 15   & 1950 & Q4   & 74.4 & 67.6 & 22.5 & 23.4 & 21.6 & NA   & 5.8  & ...  & 75.2 & 74.4 & 0.8  & NA   & 63.6 & 12.3 & 0    & NA   &  9.3 & NA  \\\\\n",
       "\t 16   & 1951 & Q1   & 83.3 & 75.6 & 24.4 & 25.1 & 26.0 & NA   & 6.6  & ...  & 84.2 & 83.3 & 0.9  & NA   & 68.9 & 14.9 & 0    & NA   &  9.7 & NA  \\\\\n",
       "\t 17   & 1951 & Q2   & 80.3 & 72.4 & 26.4 & 24.1 & 22.0 & NA   & 6.7  & ...  & 81.2 & 80.3 & 0.9  & NA   & 73.7 & 18.2 & 0    & NA   &  9.8 & NA  \\\\\n",
       "\t 18   & 1951 & Q3   & 79.9 & 72.2 & 27.8 & 24.5 & 19.9 & NA   & 6.6  & ...  & 80.8 & 79.9 & 0.9  & NA   & 79.0 & 21.1 & 0    & NA   & 10.1 & NA  \\\\\n",
       "\t 19   & 1951 & Q4   & 84.1 & 76.2 & 29.6 & 25.3 & 21.3 & NA   & 6.7  & ...  & 85.2 & 84.1 & 1.1  & NA   & 81.7 & 24.1 & 0    & NA   & 10.4 & NA  \\\\\n",
       "\t 20   & 1952 & Q1   & 84.7 & 76.5 & 30.9 & 26.1 & 19.5 & NA   & 7.0  & ...  & 85.7 & 84.7 & 1.0  & NA   & 81.7 & 24.1 & 0    & NA   & 10.6 & NA  \\\\\n",
       "\t 21   & 1952 & Q2   & 85.2 & 77.1 & 31.8 & 26.9 & 18.4 & NA   & 6.8  & ...  & 86.3 & 85.2 & 1.1  & NA   & 86.3 & 24.3 & 0    & NA   & 10.9 & NA  \\\\\n",
       "\t 22   & 1952 & Q3   & 86.1 & 77.9 & 32.3 & 27.3 & 18.3 & NA   & 6.9  & ...  & 87.2 & 86.1 & 1.1  & NA   & 88.7 & 24.8 & 0    & NA   & 11.3 & NA  \\\\\n",
       "\t 23   & 1952 & Q4   & 89.8 & 81.4 & 33.1 & 28.1 & 20.2 & NA   & 7.1  & ...  & 90.8 & 89.8 & 1.0  & NA   & 90.0 & 25.3 & 0    & NA   & 11.5 & NA  \\\\\n",
       "\t 24   & 1953 & Q1   & 91.9 & 83.4 & 33.4 & 28.7 & 21.3 & NA   & 7.1  & ...  & 93.1 & 91.9 & 1.2  & NA   & 91.6 & 26.5 & 0    & NA   & 11.8 & NA  \\\\\n",
       "\t 25   & 1953 & Q2   & 92.5 & 84.0 & 33.4 & 29.2 & 21.4 & NA   & 7.2  & ...  & 93.6 & 92.5 & 1.1  & NA   & 93.0 & 27.2 & 0    & NA   & 12.1 & NA  \\\\\n",
       "\t 26   & 1953 & Q3   & 92.0 & 83.4 & 33.2 & 29.3 & 20.9 & NA   & 7.2  & ...  & 93.1 & 92.0 & 1.1  & NA   & 92.3 & 27.0 & 0    & NA   & 12.2 & NA  \\\\\n",
       "\t 27   & 1953 & Q4   & 86.8 & 78.3 & 32.9 & 29.2 & 16.2 & NA   & 7.1  & ...  & 88.0 & 86.8 & 1.2  & NA   & 93.6 & 25.9 & 0    & NA   & 12.4 & NA  \\\\\n",
       "\t 28   & 1954 & Q1   & 84.5 & 75.0 & 30.2 & 28.7 & 16.1 & NA   & 8.1  & ...  & 85.7 & 84.5 & 1.2  & NA   & 91.9 & 26.4 & 0    & NA   & 12.6 & NA  \\\\\n",
       "\t 29   & 1954 & Q2   & 84.9 & 75.4 & 30.0 & 28.8 & 16.6 & NA   & 8.1  & ...  & 86.1 & 84.9 & 1.1  & NA   & 91.2 & 25.9 & 0    & NA   & 12.9 & NA  \\\\\n",
       "\t ... & ... & ... & ... & ... & ... & ... & ... & ... & ... &     & ... & ... & ... & ... & ... & ... & ... & ... & ... & ...\\\\\n",
       "\t 274     & 2015    & Q3      & 5273.3  & 3625.7  & 1947.3  & 1275.5  & 379.6   & 23.3    & 1216.1  & ...     & 5299.2  & 5273.3  &  25.9   &  6225.7 &  6091.1 & 630.5   &  17.1   &   11.3  & 524.3   &  -926.6\\\\\n",
       "\t 275     & 2015    & Q4      & 5421.5  & 3626.1  & 1964.9  & 1289.9  & 349.7   & 21.6    & 1223.6  & ...     & 5447.3  & 5421.5  &  25.8   &  6246.0 &  6120.8 & 625.5   &  11.9   &   11.7  & 524.0   &  -798.7\\\\\n",
       "\t 276     & 2016    & Q1      & 5288.4  & 3609.7  & 1924.6  & 1295.9  & 364.6   & 24.6    & 1230.8  & ...     & 5313.4  & 5288.4  &  25.0   &  6318.6 &  6174.1 & 639.9   &  14.6   &   12.0  & 522.0   & -1005.2\\\\\n",
       "\t 277     & 2016    & Q2      & 5304.1  & 3635.6  & 1943.4  & 1301.0  & 367.7   & 23.6    & 1237.0  & ...     & 5329.4  & 5304.1  &  25.3   &  6320.5 &  6219.8 & 637.2   &  10.0   &  -20.2  & 526.3   &  -991.0\\\\\n",
       "\t 278     & 2016    & Q3      & 5356.4  & 3691.1  & 1972.0  & 1320.8  & 374.8   & 23.5    & 1248.1  & ...     & 5381.6  & 5356.4  &  25.2   &  6412.7 &  6281.7 & 637.0   &  11.1   &   11.2  & 528.3   & -1031.1\\\\\n",
       "\t 279     & 2016    & Q4      & 5395.5  & 3700.1  & 1992.9  & 1328.9  & 353.8   & 24.5    & 1261.5  & ...     & 5421.6  & 5395.5  &  26.1   &  6462.2 &  6318.0 & 645.6   &  17.5   &   13.0  & 531.9   & -1040.7\\\\\n",
       "\t 280     & 2017    & Q1      & 5408.3  & 3635.5  & 2004.1  & 1340.0  & 267.4   & 24.0    & 1282.6  & ...     & 5435.6  & 5408.3  &  27.3   &  6506.6 &  6359.7 & 652.4   &  17.1   &   13.0  & 535.5   & -1071.0\\\\\n",
       "\t 281     & 2017    & Q2      & 5394.5  & 3673.5  & 2012.0  & 1356.6  & 280.0   & 24.8    & 1294.9  & ...     & 5422.4  & 5394.5  &  28.0   &  6535.7 &  6384.0 & 661.8   &  16.0   &   13.4  & 539.4   & -1113.3\\\\\n",
       "\t 282     & 2017    & Q3      & 5480.6  & 3751.4  & 2054.8  & 1376.1  & 295.4   & 25.1    & 1310.1  & ...     & 5515.8  & 5480.6  &  35.2   &  6639.4 &  6451.4 & 668.1   &  56.8   &    7.2  & 544.2   & -1123.6\\\\\n",
       "\t 283     & 2017    & Q4      & 5586.7  & 3843.5  & 2123.6  & 1397.1  & 297.0   & 25.9    & 1329.1  & ...     & 6549.3  & 5586.7  & 962.5   &  6694.4 &  6522.3 & 690.8   &  15.3   &   14.8  & 548.8   &  -145.1\\\\\n",
       "\t 284     & 2018    & Q1      & 5563.8  & 3787.5  & 2072.8  & 1427.5  & 262.3   & 24.9    & 1349.1  & ...     & 5593.3  & 5563.8  &  29.5   &  6786.8 &  6616.1 & 696.1   &  13.8   &   15.6  & 554.9   & -1193.5\\\\\n",
       "\t 285     & 2018    & Q2      & 5604.2  & 3818.5  & 2057.7  & 1446.8  & 288.4   & 25.7    & 1358.9  & ...     & 5633.5  & 5604.2  &  29.2   &  6901.1 &  6714.0 & 713.8   &  20.3   &   16.0  & 563.0   & -1267.7\\\\\n",
       "\t 286     & 2018    & Q3      & 5716.4  & 3871.1  & 2086.0  & 1469.3  & 290.3   & 25.5    & 1375.7  & ...     & 5747.6  & 5716.4  &  31.2   &  6988.1 &  6804.8 & 720.3   &  15.0   &   16.4  & 568.4   & -1240.5\\\\\n",
       "\t 287     & 2018    & Q4      & 5732.0  & 3912.6  & 2083.1  & 1502.1  & 300.5   & 26.9    & 1384.0  & ...     & 5757.9  & 5732.0  &  26.0   &  7074.9 &  6900.3 & 717.1   &  16.6   &   14.9  & 574.0   & -1317.0\\\\\n",
       "\t 288     & 2019    & Q1      & 5794.4  & 3967.0  & 2160.2  & 1504.7  & 276.4   & 25.8    & 1416.0  & ...     & 5817.7  & 5794.4  &  23.3   &  7216.0 &  7021.3 & 745.6   &  18.5   &   10.5  & 579.7   & -1398.4\\\\\n",
       "\t 289     & 2019    & Q2      & 5904.5  & 4054.7  & 2221.6  & 1516.1  & 290.4   & 26.6    & 1423.4  & ...     & 5925.5  & 5904.5  &  21.0   &  7296.6 &  7110.3 & 744.7   &  11.1   &   14.9  & 584.3   & -1371.1\\\\\n",
       "\t 290     & 2019    & Q3      & 5899.8  & 4042.6  & 2195.8  & 1549.7  & 270.3   & 26.8    & 1430.7  & ...     & 5920.5  & 5899.8  &  20.7   &  7379.1 &  7187.3 & 754.7   &  11.4   &   14.9  & 589.2   & -1458.6\\\\\n",
       "\t 291     & 2019    & Q4      & 5956.8  & 4090.8  & 2216.0  & 1549.6  & 298.3   & 26.8    & 1449.6  & ...     & 5977.7  & 5956.8  &  20.9   &  7463.6 &  7219.1 & 759.5   &  61.5   &   16.2  & 592.8   & -1485.9\\\\\n",
       "\t 292     & 2020    & Q1      & 5995.2  & 4094.0  & 2249.1  & 1565.8  & 250.8   & 28.3    & 1475.7  & ...     & 6017.6  & 5995.2  &  22.4   &  7502.1 &  7282.1 & 781.6   &  19.8   &   16.3  & 597.6   & -1484.6\\\\\n",
       "\t 293     & 2020    & Q2      & 5619.2  & 3793.6  & 2098.2  & 1426.5  & 242.8   & 26.1    & 1405.1  & ...     & 5647.5  & 5619.2  &  28.4   & 10784.2 & 10566.8 & 786.1   &  16.8   &   16.4  & 601.9   & -5136.7\\\\\n",
       "\t 294     & 2020    & Q3      & 5999.3  & 4110.1  & 2237.5  & 1546.5  & 299.3   & 26.7    & 1452.7  & ...     & 6025.4  & 5999.3  &  26.1   &  9690.6 &  9490.9 & 789.7   &  13.4   &    5.5  & 608.9   & -3665.2\\\\\n",
       "\t 295     & 2020    & Q4      & 6189.8  & 4268.1  & 2360.7  & 1566.4  & 311.3   & 29.7    & 1486.4  & ...     & 6218.1  & 6189.8  &  28.3   &  8459.4 &  8240.0 & 804.7   &  13.5   &   16.7  & 615.4   & -2241.3\\\\\n",
       "\t 296     & 2021    & Q1      & 6388.6  & 4460.3  & 2509.0  & 1583.7  & 337.7   & 30.0    & 1496.8  & ...     & 6420.0  & 6388.6  &  31.5   & 10998.5 & 10582.2 & 798.0   & 245.6   &   -1.2  & 626.1   & -4578.5\\\\\n",
       "\t 297     & 2021    & Q2      & 6692.8  & 4716.9  & 2638.5  & 1676.7  & 371.7   & 30.0    & 1527.0  & ...     & 6726.8  & 6692.8  &  33.9   &  9468.9 &  9282.3 & 797.0   &  12.2   &   16.9  & 639.4   & -2742.2\\\\\n",
       "\t 298     & 2021    & Q3      & 6802.0  & 4777.0  & 2693.2  & 1680.0  & 372.9   & 30.8    & 1559.5  & ...     & 6850.7  & 6802.0  &  48.8   &  9156.7 &  8971.6 & 810.1   &  29.1   &   -0.9  & 653.2   & -2306.0\\\\\n",
       "\t 299     & 2021    & Q4      & 7044.0  & 4966.3  & 2806.1  & 1713.2  & 415.3   & 31.7    & 1601.5  & ...     & 7081.6  & 7044.0  &  37.6   &  8720.1 &  8533.1 & 822.9   &  16.6   &   17.2  & 669.7   & -1638.5\\\\\n",
       "\t 300     & 2022    & Q1      & 7541.0  & 5408.8  & 3145.5  & 1750.1  & 479.7   & 33.6    & 1640.6  & ...     & 7578.9  & 7541.0  &  38.0   &  8250.4 &  8402.6 & 829.3   &  16.6   & -306.9  & 691.2   &  -671.5\\\\\n",
       "\t 301     & 2022    & Q2      & 7618.1  & 5462.3  & 3188.5  & 1775.5  & 463.0   & 35.3    & 1660.3  & ...     & 7759.7  & 7618.1  & 141.6   &  8688.2 &  8535.8 & 838.9   &  24.3   &    0.3  & 711.2   &  -928.5\\\\\n",
       "\t 302     & 2022    & Q3      & 7589.5  & 5490.4  & 3229.2  & 1785.1  & 441.3   & 34.9    & 1686.8  & ...     & 7640.5  & 7589.5  &  51.0   &  8853.0 &  8707.3 & 868.8   &  76.1   &  -72.9  & 726.3   & -1212.5\\\\\n",
       "\t 303     & 2022    & Q4      &     NA  &     NA  & 3243.3  & 1785.3  &    NA   & 35.6    & 1706.0  & ...     &     NA  &     NA  &  92.3   &  9132.3 &  8930.5 & 889.3   &  32.5   &   17.1  & 737.1   &      NA\\\\\n",
       "\\end{tabular}\n"
      ],
      "text/markdown": [
       "\n",
       "| ...1 | Année | trimestre | Current receipts...4 | Current tax receipts | Personal current taxes | Taxes on production and imports | Taxes on corporate income | Taxes from the rest of the world | Contributions for government social insurance | ... | Total receipts | Current receipts...39 | Capital transfer receipts | Total expenditures | Current expenditures...42 | Gross government investment | Capital transfer payments | Net  purchases of nonproducted assets | Less: Consumption of fixed capital | Net lending or net borrowing |\n",
       "|---|---|---|---|---|---|---|---|---|---|---|---|---|---|---|---|---|---|---|---|---|\n",
       "|  0   | 1947 | Q1   | 55.4 | 48.3 | 19.2 | 17.7 | 11.5 | NA   | 6.3  | ...  | 56.4 | 55.4 | 1.0  | NA   | 52.8 |  4.9 | 0    | NA   | 11.8 | NA   |\n",
       "|  1   | 1947 | Q2   | 54.8 | 48.1 | 19.5 | 17.7 | 10.9 | NA   | 6.0  | ...  | 55.7 | 54.8 | 0.9  | NA   | 52.4 |  5.1 | 0    | NA   | 11.4 | NA   |\n",
       "|  2   | 1947 | Q3   | 54.4 | 48.5 | 19.7 | 18.0 | 10.7 | NA   | 5.2  | ...  | 55.4 | 54.4 | 1.0  | NA   | 54.7 |  6.1 | 0    | NA   | 11.3 | NA   |\n",
       "|  3   | 1947 | Q4   | 57.0 | 51.4 | 20.8 | 19.0 | 11.7 | NA   | 4.8  | ...  | 58.0 | 57.0 | 1.0  | NA   | 51.5 |  6.6 | 0    | NA   | 11.1 | NA   |\n",
       "|  4   | 1948 | Q1   | 57.9 | 52.2 | 21.2 | 19.0 | 12.0 | NA   | 4.8  | ...  | 59.0 | 57.9 | 1.1  | NA   | 53.1 |  7.5 | 0    | NA   | 10.7 | NA   |\n",
       "|  5   | 1948 | Q2   | 56.7 | 51.3 | 18.9 | 19.7 | 12.6 | NA   | 4.6  | ...  | 57.9 | 56.7 | 1.2  | NA   | 54.1 |  8.2 | 0    | NA   | 10.5 | NA   |\n",
       "|  6   | 1948 | Q3   | 56.2 | 50.7 | 18.2 | 20.0 | 12.4 | NA   | 4.6  | ...  | 57.2 | 56.2 | 1.0  | NA   | 57.3 |  8.8 | 0    | NA   | 10.5 | NA   |\n",
       "|  7   | 1948 | Q4   | 56.2 | 50.7 | 18.4 | 20.3 | 12.0 | NA   | 4.5  | ...  | 57.1 | 56.2 | 1.0  | NA   | 58.4 |  9.4 | 0    | NA   | 10.3 | NA   |\n",
       "|  8   | 1949 | Q1   | 55.2 | 49.0 | 17.8 | 20.4 | 10.8 | NA   | 5.2  | ...  | 56.2 | 55.2 | 0.9  | NA   | 60.6 | 10.3 | 0    | NA   | 10.2 | NA   |\n",
       "|  9   | 1949 | Q2   | 53.5 | 47.3 | 17.0 | 20.8 |  9.5 | NA   | 5.1  | ...  | 54.4 | 53.5 | 0.9  | NA   | 62.1 | 11.3 | 0    | NA   |  9.8 | NA   |\n",
       "| 10   | 1949 | Q3   | 53.3 | 47.5 | 16.3 | 21.3 |  9.9 | NA   | 4.8  | ...  | 54.3 | 53.3 | 0.9  | NA   | 62.1 | 11.9 | 0    | NA   |  9.5 | NA   |\n",
       "| 11   | 1949 | Q4   | 52.3 | 46.7 | 15.8 | 21.2 |  9.7 | NA   | 4.5  | ...  | 53.2 | 52.3 | 0.9  | NA   | 61.4 | 11.8 | 0    | NA   |  9.3 | NA   |\n",
       "| 12   | 1950 | Q1   | 57.9 | 51.6 | 16.6 | 21.6 | 13.4 | NA   | 5.3  | ...  | 58.7 | 57.9 | 0.8  | NA   | 69.5 | 10.7 | 0    | NA   |  9.0 | NA   |\n",
       "| 13   | 1950 | Q2   | 62.5 | 56.2 | 17.6 | 22.5 | 16.1 | NA   | 5.3  | ...  | 63.3 | 62.5 | 0.8  | NA   | 63.3 | 11.1 | 0    | NA   |  8.9 | NA   |\n",
       "| 14   | 1950 | Q3   | 69.5 | 63.0 | 18.9 | 24.4 | 19.7 | NA   | 5.5  | ...  | 70.4 | 69.5 | 0.8  | NA   | 59.2 | 11.7 | 0    | NA   |  9.0 | NA   |\n",
       "| 15   | 1950 | Q4   | 74.4 | 67.6 | 22.5 | 23.4 | 21.6 | NA   | 5.8  | ...  | 75.2 | 74.4 | 0.8  | NA   | 63.6 | 12.3 | 0    | NA   |  9.3 | NA   |\n",
       "| 16   | 1951 | Q1   | 83.3 | 75.6 | 24.4 | 25.1 | 26.0 | NA   | 6.6  | ...  | 84.2 | 83.3 | 0.9  | NA   | 68.9 | 14.9 | 0    | NA   |  9.7 | NA   |\n",
       "| 17   | 1951 | Q2   | 80.3 | 72.4 | 26.4 | 24.1 | 22.0 | NA   | 6.7  | ...  | 81.2 | 80.3 | 0.9  | NA   | 73.7 | 18.2 | 0    | NA   |  9.8 | NA   |\n",
       "| 18   | 1951 | Q3   | 79.9 | 72.2 | 27.8 | 24.5 | 19.9 | NA   | 6.6  | ...  | 80.8 | 79.9 | 0.9  | NA   | 79.0 | 21.1 | 0    | NA   | 10.1 | NA   |\n",
       "| 19   | 1951 | Q4   | 84.1 | 76.2 | 29.6 | 25.3 | 21.3 | NA   | 6.7  | ...  | 85.2 | 84.1 | 1.1  | NA   | 81.7 | 24.1 | 0    | NA   | 10.4 | NA   |\n",
       "| 20   | 1952 | Q1   | 84.7 | 76.5 | 30.9 | 26.1 | 19.5 | NA   | 7.0  | ...  | 85.7 | 84.7 | 1.0  | NA   | 81.7 | 24.1 | 0    | NA   | 10.6 | NA   |\n",
       "| 21   | 1952 | Q2   | 85.2 | 77.1 | 31.8 | 26.9 | 18.4 | NA   | 6.8  | ...  | 86.3 | 85.2 | 1.1  | NA   | 86.3 | 24.3 | 0    | NA   | 10.9 | NA   |\n",
       "| 22   | 1952 | Q3   | 86.1 | 77.9 | 32.3 | 27.3 | 18.3 | NA   | 6.9  | ...  | 87.2 | 86.1 | 1.1  | NA   | 88.7 | 24.8 | 0    | NA   | 11.3 | NA   |\n",
       "| 23   | 1952 | Q4   | 89.8 | 81.4 | 33.1 | 28.1 | 20.2 | NA   | 7.1  | ...  | 90.8 | 89.8 | 1.0  | NA   | 90.0 | 25.3 | 0    | NA   | 11.5 | NA   |\n",
       "| 24   | 1953 | Q1   | 91.9 | 83.4 | 33.4 | 28.7 | 21.3 | NA   | 7.1  | ...  | 93.1 | 91.9 | 1.2  | NA   | 91.6 | 26.5 | 0    | NA   | 11.8 | NA   |\n",
       "| 25   | 1953 | Q2   | 92.5 | 84.0 | 33.4 | 29.2 | 21.4 | NA   | 7.2  | ...  | 93.6 | 92.5 | 1.1  | NA   | 93.0 | 27.2 | 0    | NA   | 12.1 | NA   |\n",
       "| 26   | 1953 | Q3   | 92.0 | 83.4 | 33.2 | 29.3 | 20.9 | NA   | 7.2  | ...  | 93.1 | 92.0 | 1.1  | NA   | 92.3 | 27.0 | 0    | NA   | 12.2 | NA   |\n",
       "| 27   | 1953 | Q4   | 86.8 | 78.3 | 32.9 | 29.2 | 16.2 | NA   | 7.1  | ...  | 88.0 | 86.8 | 1.2  | NA   | 93.6 | 25.9 | 0    | NA   | 12.4 | NA   |\n",
       "| 28   | 1954 | Q1   | 84.5 | 75.0 | 30.2 | 28.7 | 16.1 | NA   | 8.1  | ...  | 85.7 | 84.5 | 1.2  | NA   | 91.9 | 26.4 | 0    | NA   | 12.6 | NA   |\n",
       "| 29   | 1954 | Q2   | 84.9 | 75.4 | 30.0 | 28.8 | 16.6 | NA   | 8.1  | ...  | 86.1 | 84.9 | 1.1  | NA   | 91.2 | 25.9 | 0    | NA   | 12.9 | NA   |\n",
       "| ... | ... | ... | ... | ... | ... | ... | ... | ... | ... |     | ... | ... | ... | ... | ... | ... | ... | ... | ... | ... |\n",
       "| 274     | 2015    | Q3      | 5273.3  | 3625.7  | 1947.3  | 1275.5  | 379.6   | 23.3    | 1216.1  | ...     | 5299.2  | 5273.3  |  25.9   |  6225.7 |  6091.1 | 630.5   |  17.1   |   11.3  | 524.3   |  -926.6 |\n",
       "| 275     | 2015    | Q4      | 5421.5  | 3626.1  | 1964.9  | 1289.9  | 349.7   | 21.6    | 1223.6  | ...     | 5447.3  | 5421.5  |  25.8   |  6246.0 |  6120.8 | 625.5   |  11.9   |   11.7  | 524.0   |  -798.7 |\n",
       "| 276     | 2016    | Q1      | 5288.4  | 3609.7  | 1924.6  | 1295.9  | 364.6   | 24.6    | 1230.8  | ...     | 5313.4  | 5288.4  |  25.0   |  6318.6 |  6174.1 | 639.9   |  14.6   |   12.0  | 522.0   | -1005.2 |\n",
       "| 277     | 2016    | Q2      | 5304.1  | 3635.6  | 1943.4  | 1301.0  | 367.7   | 23.6    | 1237.0  | ...     | 5329.4  | 5304.1  |  25.3   |  6320.5 |  6219.8 | 637.2   |  10.0   |  -20.2  | 526.3   |  -991.0 |\n",
       "| 278     | 2016    | Q3      | 5356.4  | 3691.1  | 1972.0  | 1320.8  | 374.8   | 23.5    | 1248.1  | ...     | 5381.6  | 5356.4  |  25.2   |  6412.7 |  6281.7 | 637.0   |  11.1   |   11.2  | 528.3   | -1031.1 |\n",
       "| 279     | 2016    | Q4      | 5395.5  | 3700.1  | 1992.9  | 1328.9  | 353.8   | 24.5    | 1261.5  | ...     | 5421.6  | 5395.5  |  26.1   |  6462.2 |  6318.0 | 645.6   |  17.5   |   13.0  | 531.9   | -1040.7 |\n",
       "| 280     | 2017    | Q1      | 5408.3  | 3635.5  | 2004.1  | 1340.0  | 267.4   | 24.0    | 1282.6  | ...     | 5435.6  | 5408.3  |  27.3   |  6506.6 |  6359.7 | 652.4   |  17.1   |   13.0  | 535.5   | -1071.0 |\n",
       "| 281     | 2017    | Q2      | 5394.5  | 3673.5  | 2012.0  | 1356.6  | 280.0   | 24.8    | 1294.9  | ...     | 5422.4  | 5394.5  |  28.0   |  6535.7 |  6384.0 | 661.8   |  16.0   |   13.4  | 539.4   | -1113.3 |\n",
       "| 282     | 2017    | Q3      | 5480.6  | 3751.4  | 2054.8  | 1376.1  | 295.4   | 25.1    | 1310.1  | ...     | 5515.8  | 5480.6  |  35.2   |  6639.4 |  6451.4 | 668.1   |  56.8   |    7.2  | 544.2   | -1123.6 |\n",
       "| 283     | 2017    | Q4      | 5586.7  | 3843.5  | 2123.6  | 1397.1  | 297.0   | 25.9    | 1329.1  | ...     | 6549.3  | 5586.7  | 962.5   |  6694.4 |  6522.3 | 690.8   |  15.3   |   14.8  | 548.8   |  -145.1 |\n",
       "| 284     | 2018    | Q1      | 5563.8  | 3787.5  | 2072.8  | 1427.5  | 262.3   | 24.9    | 1349.1  | ...     | 5593.3  | 5563.8  |  29.5   |  6786.8 |  6616.1 | 696.1   |  13.8   |   15.6  | 554.9   | -1193.5 |\n",
       "| 285     | 2018    | Q2      | 5604.2  | 3818.5  | 2057.7  | 1446.8  | 288.4   | 25.7    | 1358.9  | ...     | 5633.5  | 5604.2  |  29.2   |  6901.1 |  6714.0 | 713.8   |  20.3   |   16.0  | 563.0   | -1267.7 |\n",
       "| 286     | 2018    | Q3      | 5716.4  | 3871.1  | 2086.0  | 1469.3  | 290.3   | 25.5    | 1375.7  | ...     | 5747.6  | 5716.4  |  31.2   |  6988.1 |  6804.8 | 720.3   |  15.0   |   16.4  | 568.4   | -1240.5 |\n",
       "| 287     | 2018    | Q4      | 5732.0  | 3912.6  | 2083.1  | 1502.1  | 300.5   | 26.9    | 1384.0  | ...     | 5757.9  | 5732.0  |  26.0   |  7074.9 |  6900.3 | 717.1   |  16.6   |   14.9  | 574.0   | -1317.0 |\n",
       "| 288     | 2019    | Q1      | 5794.4  | 3967.0  | 2160.2  | 1504.7  | 276.4   | 25.8    | 1416.0  | ...     | 5817.7  | 5794.4  |  23.3   |  7216.0 |  7021.3 | 745.6   |  18.5   |   10.5  | 579.7   | -1398.4 |\n",
       "| 289     | 2019    | Q2      | 5904.5  | 4054.7  | 2221.6  | 1516.1  | 290.4   | 26.6    | 1423.4  | ...     | 5925.5  | 5904.5  |  21.0   |  7296.6 |  7110.3 | 744.7   |  11.1   |   14.9  | 584.3   | -1371.1 |\n",
       "| 290     | 2019    | Q3      | 5899.8  | 4042.6  | 2195.8  | 1549.7  | 270.3   | 26.8    | 1430.7  | ...     | 5920.5  | 5899.8  |  20.7   |  7379.1 |  7187.3 | 754.7   |  11.4   |   14.9  | 589.2   | -1458.6 |\n",
       "| 291     | 2019    | Q4      | 5956.8  | 4090.8  | 2216.0  | 1549.6  | 298.3   | 26.8    | 1449.6  | ...     | 5977.7  | 5956.8  |  20.9   |  7463.6 |  7219.1 | 759.5   |  61.5   |   16.2  | 592.8   | -1485.9 |\n",
       "| 292     | 2020    | Q1      | 5995.2  | 4094.0  | 2249.1  | 1565.8  | 250.8   | 28.3    | 1475.7  | ...     | 6017.6  | 5995.2  |  22.4   |  7502.1 |  7282.1 | 781.6   |  19.8   |   16.3  | 597.6   | -1484.6 |\n",
       "| 293     | 2020    | Q2      | 5619.2  | 3793.6  | 2098.2  | 1426.5  | 242.8   | 26.1    | 1405.1  | ...     | 5647.5  | 5619.2  |  28.4   | 10784.2 | 10566.8 | 786.1   |  16.8   |   16.4  | 601.9   | -5136.7 |\n",
       "| 294     | 2020    | Q3      | 5999.3  | 4110.1  | 2237.5  | 1546.5  | 299.3   | 26.7    | 1452.7  | ...     | 6025.4  | 5999.3  |  26.1   |  9690.6 |  9490.9 | 789.7   |  13.4   |    5.5  | 608.9   | -3665.2 |\n",
       "| 295     | 2020    | Q4      | 6189.8  | 4268.1  | 2360.7  | 1566.4  | 311.3   | 29.7    | 1486.4  | ...     | 6218.1  | 6189.8  |  28.3   |  8459.4 |  8240.0 | 804.7   |  13.5   |   16.7  | 615.4   | -2241.3 |\n",
       "| 296     | 2021    | Q1      | 6388.6  | 4460.3  | 2509.0  | 1583.7  | 337.7   | 30.0    | 1496.8  | ...     | 6420.0  | 6388.6  |  31.5   | 10998.5 | 10582.2 | 798.0   | 245.6   |   -1.2  | 626.1   | -4578.5 |\n",
       "| 297     | 2021    | Q2      | 6692.8  | 4716.9  | 2638.5  | 1676.7  | 371.7   | 30.0    | 1527.0  | ...     | 6726.8  | 6692.8  |  33.9   |  9468.9 |  9282.3 | 797.0   |  12.2   |   16.9  | 639.4   | -2742.2 |\n",
       "| 298     | 2021    | Q3      | 6802.0  | 4777.0  | 2693.2  | 1680.0  | 372.9   | 30.8    | 1559.5  | ...     | 6850.7  | 6802.0  |  48.8   |  9156.7 |  8971.6 | 810.1   |  29.1   |   -0.9  | 653.2   | -2306.0 |\n",
       "| 299     | 2021    | Q4      | 7044.0  | 4966.3  | 2806.1  | 1713.2  | 415.3   | 31.7    | 1601.5  | ...     | 7081.6  | 7044.0  |  37.6   |  8720.1 |  8533.1 | 822.9   |  16.6   |   17.2  | 669.7   | -1638.5 |\n",
       "| 300     | 2022    | Q1      | 7541.0  | 5408.8  | 3145.5  | 1750.1  | 479.7   | 33.6    | 1640.6  | ...     | 7578.9  | 7541.0  |  38.0   |  8250.4 |  8402.6 | 829.3   |  16.6   | -306.9  | 691.2   |  -671.5 |\n",
       "| 301     | 2022    | Q2      | 7618.1  | 5462.3  | 3188.5  | 1775.5  | 463.0   | 35.3    | 1660.3  | ...     | 7759.7  | 7618.1  | 141.6   |  8688.2 |  8535.8 | 838.9   |  24.3   |    0.3  | 711.2   |  -928.5 |\n",
       "| 302     | 2022    | Q3      | 7589.5  | 5490.4  | 3229.2  | 1785.1  | 441.3   | 34.9    | 1686.8  | ...     | 7640.5  | 7589.5  |  51.0   |  8853.0 |  8707.3 | 868.8   |  76.1   |  -72.9  | 726.3   | -1212.5 |\n",
       "| 303     | 2022    | Q4      |     NA  |     NA  | 3243.3  | 1785.3  |    NA   | 35.6    | 1706.0  | ...     |     NA  |     NA  |  92.3   |  9132.3 |  8930.5 | 889.3   |  32.5   |   17.1  | 737.1   |      NA |\n",
       "\n"
      ],
      "text/plain": [
       "    ...1 Année trimestre Current receipts...4 Current tax receipts\n",
       "1    0   1947  Q1        55.4                 48.3                \n",
       "2    1   1947  Q2        54.8                 48.1                \n",
       "3    2   1947  Q3        54.4                 48.5                \n",
       "4    3   1947  Q4        57.0                 51.4                \n",
       "5    4   1948  Q1        57.9                 52.2                \n",
       "6    5   1948  Q2        56.7                 51.3                \n",
       "7    6   1948  Q3        56.2                 50.7                \n",
       "8    7   1948  Q4        56.2                 50.7                \n",
       "9    8   1949  Q1        55.2                 49.0                \n",
       "10   9   1949  Q2        53.5                 47.3                \n",
       "11  10   1949  Q3        53.3                 47.5                \n",
       "12  11   1949  Q4        52.3                 46.7                \n",
       "13  12   1950  Q1        57.9                 51.6                \n",
       "14  13   1950  Q2        62.5                 56.2                \n",
       "15  14   1950  Q3        69.5                 63.0                \n",
       "16  15   1950  Q4        74.4                 67.6                \n",
       "17  16   1951  Q1        83.3                 75.6                \n",
       "18  17   1951  Q2        80.3                 72.4                \n",
       "19  18   1951  Q3        79.9                 72.2                \n",
       "20  19   1951  Q4        84.1                 76.2                \n",
       "21  20   1952  Q1        84.7                 76.5                \n",
       "22  21   1952  Q2        85.2                 77.1                \n",
       "23  22   1952  Q3        86.1                 77.9                \n",
       "24  23   1952  Q4        89.8                 81.4                \n",
       "25  24   1953  Q1        91.9                 83.4                \n",
       "26  25   1953  Q2        92.5                 84.0                \n",
       "27  26   1953  Q3        92.0                 83.4                \n",
       "28  27   1953  Q4        86.8                 78.3                \n",
       "29  28   1954  Q1        84.5                 75.0                \n",
       "30  29   1954  Q2        84.9                 75.4                \n",
       "... ...  ...   ...       ...                  ...                 \n",
       "275 274  2015  Q3        5273.3               3625.7              \n",
       "276 275  2015  Q4        5421.5               3626.1              \n",
       "277 276  2016  Q1        5288.4               3609.7              \n",
       "278 277  2016  Q2        5304.1               3635.6              \n",
       "279 278  2016  Q3        5356.4               3691.1              \n",
       "280 279  2016  Q4        5395.5               3700.1              \n",
       "281 280  2017  Q1        5408.3               3635.5              \n",
       "282 281  2017  Q2        5394.5               3673.5              \n",
       "283 282  2017  Q3        5480.6               3751.4              \n",
       "284 283  2017  Q4        5586.7               3843.5              \n",
       "285 284  2018  Q1        5563.8               3787.5              \n",
       "286 285  2018  Q2        5604.2               3818.5              \n",
       "287 286  2018  Q3        5716.4               3871.1              \n",
       "288 287  2018  Q4        5732.0               3912.6              \n",
       "289 288  2019  Q1        5794.4               3967.0              \n",
       "290 289  2019  Q2        5904.5               4054.7              \n",
       "291 290  2019  Q3        5899.8               4042.6              \n",
       "292 291  2019  Q4        5956.8               4090.8              \n",
       "293 292  2020  Q1        5995.2               4094.0              \n",
       "294 293  2020  Q2        5619.2               3793.6              \n",
       "295 294  2020  Q3        5999.3               4110.1              \n",
       "296 295  2020  Q4        6189.8               4268.1              \n",
       "297 296  2021  Q1        6388.6               4460.3              \n",
       "298 297  2021  Q2        6692.8               4716.9              \n",
       "299 298  2021  Q3        6802.0               4777.0              \n",
       "300 299  2021  Q4        7044.0               4966.3              \n",
       "301 300  2022  Q1        7541.0               5408.8              \n",
       "302 301  2022  Q2        7618.1               5462.3              \n",
       "303 302  2022  Q3        7589.5               5490.4              \n",
       "304 303  2022  Q4            NA                   NA              \n",
       "    Personal current taxes Taxes on production and imports\n",
       "1   19.2                   17.7                           \n",
       "2   19.5                   17.7                           \n",
       "3   19.7                   18.0                           \n",
       "4   20.8                   19.0                           \n",
       "5   21.2                   19.0                           \n",
       "6   18.9                   19.7                           \n",
       "7   18.2                   20.0                           \n",
       "8   18.4                   20.3                           \n",
       "9   17.8                   20.4                           \n",
       "10  17.0                   20.8                           \n",
       "11  16.3                   21.3                           \n",
       "12  15.8                   21.2                           \n",
       "13  16.6                   21.6                           \n",
       "14  17.6                   22.5                           \n",
       "15  18.9                   24.4                           \n",
       "16  22.5                   23.4                           \n",
       "17  24.4                   25.1                           \n",
       "18  26.4                   24.1                           \n",
       "19  27.8                   24.5                           \n",
       "20  29.6                   25.3                           \n",
       "21  30.9                   26.1                           \n",
       "22  31.8                   26.9                           \n",
       "23  32.3                   27.3                           \n",
       "24  33.1                   28.1                           \n",
       "25  33.4                   28.7                           \n",
       "26  33.4                   29.2                           \n",
       "27  33.2                   29.3                           \n",
       "28  32.9                   29.2                           \n",
       "29  30.2                   28.7                           \n",
       "30  30.0                   28.8                           \n",
       "... ...                    ...                            \n",
       "275 1947.3                 1275.5                         \n",
       "276 1964.9                 1289.9                         \n",
       "277 1924.6                 1295.9                         \n",
       "278 1943.4                 1301.0                         \n",
       "279 1972.0                 1320.8                         \n",
       "280 1992.9                 1328.9                         \n",
       "281 2004.1                 1340.0                         \n",
       "282 2012.0                 1356.6                         \n",
       "283 2054.8                 1376.1                         \n",
       "284 2123.6                 1397.1                         \n",
       "285 2072.8                 1427.5                         \n",
       "286 2057.7                 1446.8                         \n",
       "287 2086.0                 1469.3                         \n",
       "288 2083.1                 1502.1                         \n",
       "289 2160.2                 1504.7                         \n",
       "290 2221.6                 1516.1                         \n",
       "291 2195.8                 1549.7                         \n",
       "292 2216.0                 1549.6                         \n",
       "293 2249.1                 1565.8                         \n",
       "294 2098.2                 1426.5                         \n",
       "295 2237.5                 1546.5                         \n",
       "296 2360.7                 1566.4                         \n",
       "297 2509.0                 1583.7                         \n",
       "298 2638.5                 1676.7                         \n",
       "299 2693.2                 1680.0                         \n",
       "300 2806.1                 1713.2                         \n",
       "301 3145.5                 1750.1                         \n",
       "302 3188.5                 1775.5                         \n",
       "303 3229.2                 1785.1                         \n",
       "304 3243.3                 1785.3                         \n",
       "    Taxes on corporate income Taxes from the rest of the world\n",
       "1   11.5                      NA                              \n",
       "2   10.9                      NA                              \n",
       "3   10.7                      NA                              \n",
       "4   11.7                      NA                              \n",
       "5   12.0                      NA                              \n",
       "6   12.6                      NA                              \n",
       "7   12.4                      NA                              \n",
       "8   12.0                      NA                              \n",
       "9   10.8                      NA                              \n",
       "10   9.5                      NA                              \n",
       "11   9.9                      NA                              \n",
       "12   9.7                      NA                              \n",
       "13  13.4                      NA                              \n",
       "14  16.1                      NA                              \n",
       "15  19.7                      NA                              \n",
       "16  21.6                      NA                              \n",
       "17  26.0                      NA                              \n",
       "18  22.0                      NA                              \n",
       "19  19.9                      NA                              \n",
       "20  21.3                      NA                              \n",
       "21  19.5                      NA                              \n",
       "22  18.4                      NA                              \n",
       "23  18.3                      NA                              \n",
       "24  20.2                      NA                              \n",
       "25  21.3                      NA                              \n",
       "26  21.4                      NA                              \n",
       "27  20.9                      NA                              \n",
       "28  16.2                      NA                              \n",
       "29  16.1                      NA                              \n",
       "30  16.6                      NA                              \n",
       "... ...                       ...                             \n",
       "275 379.6                     23.3                            \n",
       "276 349.7                     21.6                            \n",
       "277 364.6                     24.6                            \n",
       "278 367.7                     23.6                            \n",
       "279 374.8                     23.5                            \n",
       "280 353.8                     24.5                            \n",
       "281 267.4                     24.0                            \n",
       "282 280.0                     24.8                            \n",
       "283 295.4                     25.1                            \n",
       "284 297.0                     25.9                            \n",
       "285 262.3                     24.9                            \n",
       "286 288.4                     25.7                            \n",
       "287 290.3                     25.5                            \n",
       "288 300.5                     26.9                            \n",
       "289 276.4                     25.8                            \n",
       "290 290.4                     26.6                            \n",
       "291 270.3                     26.8                            \n",
       "292 298.3                     26.8                            \n",
       "293 250.8                     28.3                            \n",
       "294 242.8                     26.1                            \n",
       "295 299.3                     26.7                            \n",
       "296 311.3                     29.7                            \n",
       "297 337.7                     30.0                            \n",
       "298 371.7                     30.0                            \n",
       "299 372.9                     30.8                            \n",
       "300 415.3                     31.7                            \n",
       "301 479.7                     33.6                            \n",
       "302 463.0                     35.3                            \n",
       "303 441.3                     34.9                            \n",
       "304    NA                     35.6                            \n",
       "    Contributions for government social insurance ... Total receipts\n",
       "1   6.3                                           ... 56.4          \n",
       "2   6.0                                           ... 55.7          \n",
       "3   5.2                                           ... 55.4          \n",
       "4   4.8                                           ... 58.0          \n",
       "5   4.8                                           ... 59.0          \n",
       "6   4.6                                           ... 57.9          \n",
       "7   4.6                                           ... 57.2          \n",
       "8   4.5                                           ... 57.1          \n",
       "9   5.2                                           ... 56.2          \n",
       "10  5.1                                           ... 54.4          \n",
       "11  4.8                                           ... 54.3          \n",
       "12  4.5                                           ... 53.2          \n",
       "13  5.3                                           ... 58.7          \n",
       "14  5.3                                           ... 63.3          \n",
       "15  5.5                                           ... 70.4          \n",
       "16  5.8                                           ... 75.2          \n",
       "17  6.6                                           ... 84.2          \n",
       "18  6.7                                           ... 81.2          \n",
       "19  6.6                                           ... 80.8          \n",
       "20  6.7                                           ... 85.2          \n",
       "21  7.0                                           ... 85.7          \n",
       "22  6.8                                           ... 86.3          \n",
       "23  6.9                                           ... 87.2          \n",
       "24  7.1                                           ... 90.8          \n",
       "25  7.1                                           ... 93.1          \n",
       "26  7.2                                           ... 93.6          \n",
       "27  7.2                                           ... 93.1          \n",
       "28  7.1                                           ... 88.0          \n",
       "29  8.1                                           ... 85.7          \n",
       "30  8.1                                           ... 86.1          \n",
       "... ...                                               ...           \n",
       "275 1216.1                                        ... 5299.2        \n",
       "276 1223.6                                        ... 5447.3        \n",
       "277 1230.8                                        ... 5313.4        \n",
       "278 1237.0                                        ... 5329.4        \n",
       "279 1248.1                                        ... 5381.6        \n",
       "280 1261.5                                        ... 5421.6        \n",
       "281 1282.6                                        ... 5435.6        \n",
       "282 1294.9                                        ... 5422.4        \n",
       "283 1310.1                                        ... 5515.8        \n",
       "284 1329.1                                        ... 6549.3        \n",
       "285 1349.1                                        ... 5593.3        \n",
       "286 1358.9                                        ... 5633.5        \n",
       "287 1375.7                                        ... 5747.6        \n",
       "288 1384.0                                        ... 5757.9        \n",
       "289 1416.0                                        ... 5817.7        \n",
       "290 1423.4                                        ... 5925.5        \n",
       "291 1430.7                                        ... 5920.5        \n",
       "292 1449.6                                        ... 5977.7        \n",
       "293 1475.7                                        ... 6017.6        \n",
       "294 1405.1                                        ... 5647.5        \n",
       "295 1452.7                                        ... 6025.4        \n",
       "296 1486.4                                        ... 6218.1        \n",
       "297 1496.8                                        ... 6420.0        \n",
       "298 1527.0                                        ... 6726.8        \n",
       "299 1559.5                                        ... 6850.7        \n",
       "300 1601.5                                        ... 7081.6        \n",
       "301 1640.6                                        ... 7578.9        \n",
       "302 1660.3                                        ... 7759.7        \n",
       "303 1686.8                                        ... 7640.5        \n",
       "304 1706.0                                        ...     NA        \n",
       "    Current receipts...39 Capital transfer receipts Total expenditures\n",
       "1   55.4                  1.0                       NA                \n",
       "2   54.8                  0.9                       NA                \n",
       "3   54.4                  1.0                       NA                \n",
       "4   57.0                  1.0                       NA                \n",
       "5   57.9                  1.1                       NA                \n",
       "6   56.7                  1.2                       NA                \n",
       "7   56.2                  1.0                       NA                \n",
       "8   56.2                  1.0                       NA                \n",
       "9   55.2                  0.9                       NA                \n",
       "10  53.5                  0.9                       NA                \n",
       "11  53.3                  0.9                       NA                \n",
       "12  52.3                  0.9                       NA                \n",
       "13  57.9                  0.8                       NA                \n",
       "14  62.5                  0.8                       NA                \n",
       "15  69.5                  0.8                       NA                \n",
       "16  74.4                  0.8                       NA                \n",
       "17  83.3                  0.9                       NA                \n",
       "18  80.3                  0.9                       NA                \n",
       "19  79.9                  0.9                       NA                \n",
       "20  84.1                  1.1                       NA                \n",
       "21  84.7                  1.0                       NA                \n",
       "22  85.2                  1.1                       NA                \n",
       "23  86.1                  1.1                       NA                \n",
       "24  89.8                  1.0                       NA                \n",
       "25  91.9                  1.2                       NA                \n",
       "26  92.5                  1.1                       NA                \n",
       "27  92.0                  1.1                       NA                \n",
       "28  86.8                  1.2                       NA                \n",
       "29  84.5                  1.2                       NA                \n",
       "30  84.9                  1.1                       NA                \n",
       "... ...                   ...                       ...               \n",
       "275 5273.3                 25.9                      6225.7           \n",
       "276 5421.5                 25.8                      6246.0           \n",
       "277 5288.4                 25.0                      6318.6           \n",
       "278 5304.1                 25.3                      6320.5           \n",
       "279 5356.4                 25.2                      6412.7           \n",
       "280 5395.5                 26.1                      6462.2           \n",
       "281 5408.3                 27.3                      6506.6           \n",
       "282 5394.5                 28.0                      6535.7           \n",
       "283 5480.6                 35.2                      6639.4           \n",
       "284 5586.7                962.5                      6694.4           \n",
       "285 5563.8                 29.5                      6786.8           \n",
       "286 5604.2                 29.2                      6901.1           \n",
       "287 5716.4                 31.2                      6988.1           \n",
       "288 5732.0                 26.0                      7074.9           \n",
       "289 5794.4                 23.3                      7216.0           \n",
       "290 5904.5                 21.0                      7296.6           \n",
       "291 5899.8                 20.7                      7379.1           \n",
       "292 5956.8                 20.9                      7463.6           \n",
       "293 5995.2                 22.4                      7502.1           \n",
       "294 5619.2                 28.4                     10784.2           \n",
       "295 5999.3                 26.1                      9690.6           \n",
       "296 6189.8                 28.3                      8459.4           \n",
       "297 6388.6                 31.5                     10998.5           \n",
       "298 6692.8                 33.9                      9468.9           \n",
       "299 6802.0                 48.8                      9156.7           \n",
       "300 7044.0                 37.6                      8720.1           \n",
       "301 7541.0                 38.0                      8250.4           \n",
       "302 7618.1                141.6                      8688.2           \n",
       "303 7589.5                 51.0                      8853.0           \n",
       "304     NA                 92.3                      9132.3           \n",
       "    Current expenditures...42 Gross government investment\n",
       "1   52.8                       4.9                       \n",
       "2   52.4                       5.1                       \n",
       "3   54.7                       6.1                       \n",
       "4   51.5                       6.6                       \n",
       "5   53.1                       7.5                       \n",
       "6   54.1                       8.2                       \n",
       "7   57.3                       8.8                       \n",
       "8   58.4                       9.4                       \n",
       "9   60.6                      10.3                       \n",
       "10  62.1                      11.3                       \n",
       "11  62.1                      11.9                       \n",
       "12  61.4                      11.8                       \n",
       "13  69.5                      10.7                       \n",
       "14  63.3                      11.1                       \n",
       "15  59.2                      11.7                       \n",
       "16  63.6                      12.3                       \n",
       "17  68.9                      14.9                       \n",
       "18  73.7                      18.2                       \n",
       "19  79.0                      21.1                       \n",
       "20  81.7                      24.1                       \n",
       "21  81.7                      24.1                       \n",
       "22  86.3                      24.3                       \n",
       "23  88.7                      24.8                       \n",
       "24  90.0                      25.3                       \n",
       "25  91.6                      26.5                       \n",
       "26  93.0                      27.2                       \n",
       "27  92.3                      27.0                       \n",
       "28  93.6                      25.9                       \n",
       "29  91.9                      26.4                       \n",
       "30  91.2                      25.9                       \n",
       "... ...                       ...                        \n",
       "275  6091.1                   630.5                      \n",
       "276  6120.8                   625.5                      \n",
       "277  6174.1                   639.9                      \n",
       "278  6219.8                   637.2                      \n",
       "279  6281.7                   637.0                      \n",
       "280  6318.0                   645.6                      \n",
       "281  6359.7                   652.4                      \n",
       "282  6384.0                   661.8                      \n",
       "283  6451.4                   668.1                      \n",
       "284  6522.3                   690.8                      \n",
       "285  6616.1                   696.1                      \n",
       "286  6714.0                   713.8                      \n",
       "287  6804.8                   720.3                      \n",
       "288  6900.3                   717.1                      \n",
       "289  7021.3                   745.6                      \n",
       "290  7110.3                   744.7                      \n",
       "291  7187.3                   754.7                      \n",
       "292  7219.1                   759.5                      \n",
       "293  7282.1                   781.6                      \n",
       "294 10566.8                   786.1                      \n",
       "295  9490.9                   789.7                      \n",
       "296  8240.0                   804.7                      \n",
       "297 10582.2                   798.0                      \n",
       "298  9282.3                   797.0                      \n",
       "299  8971.6                   810.1                      \n",
       "300  8533.1                   822.9                      \n",
       "301  8402.6                   829.3                      \n",
       "302  8535.8                   838.9                      \n",
       "303  8707.3                   868.8                      \n",
       "304  8930.5                   889.3                      \n",
       "    Capital transfer payments Net  purchases of nonproducted assets\n",
       "1   0                         NA                                   \n",
       "2   0                         NA                                   \n",
       "3   0                         NA                                   \n",
       "4   0                         NA                                   \n",
       "5   0                         NA                                   \n",
       "6   0                         NA                                   \n",
       "7   0                         NA                                   \n",
       "8   0                         NA                                   \n",
       "9   0                         NA                                   \n",
       "10  0                         NA                                   \n",
       "11  0                         NA                                   \n",
       "12  0                         NA                                   \n",
       "13  0                         NA                                   \n",
       "14  0                         NA                                   \n",
       "15  0                         NA                                   \n",
       "16  0                         NA                                   \n",
       "17  0                         NA                                   \n",
       "18  0                         NA                                   \n",
       "19  0                         NA                                   \n",
       "20  0                         NA                                   \n",
       "21  0                         NA                                   \n",
       "22  0                         NA                                   \n",
       "23  0                         NA                                   \n",
       "24  0                         NA                                   \n",
       "25  0                         NA                                   \n",
       "26  0                         NA                                   \n",
       "27  0                         NA                                   \n",
       "28  0                         NA                                   \n",
       "29  0                         NA                                   \n",
       "30  0                         NA                                   \n",
       "... ...                       ...                                  \n",
       "275  17.1                       11.3                               \n",
       "276  11.9                       11.7                               \n",
       "277  14.6                       12.0                               \n",
       "278  10.0                      -20.2                               \n",
       "279  11.1                       11.2                               \n",
       "280  17.5                       13.0                               \n",
       "281  17.1                       13.0                               \n",
       "282  16.0                       13.4                               \n",
       "283  56.8                        7.2                               \n",
       "284  15.3                       14.8                               \n",
       "285  13.8                       15.6                               \n",
       "286  20.3                       16.0                               \n",
       "287  15.0                       16.4                               \n",
       "288  16.6                       14.9                               \n",
       "289  18.5                       10.5                               \n",
       "290  11.1                       14.9                               \n",
       "291  11.4                       14.9                               \n",
       "292  61.5                       16.2                               \n",
       "293  19.8                       16.3                               \n",
       "294  16.8                       16.4                               \n",
       "295  13.4                        5.5                               \n",
       "296  13.5                       16.7                               \n",
       "297 245.6                       -1.2                               \n",
       "298  12.2                       16.9                               \n",
       "299  29.1                       -0.9                               \n",
       "300  16.6                       17.2                               \n",
       "301  16.6                     -306.9                               \n",
       "302  24.3                        0.3                               \n",
       "303  76.1                      -72.9                               \n",
       "304  32.5                       17.1                               \n",
       "    Less: Consumption of fixed capital Net lending or net borrowing\n",
       "1   11.8                               NA                          \n",
       "2   11.4                               NA                          \n",
       "3   11.3                               NA                          \n",
       "4   11.1                               NA                          \n",
       "5   10.7                               NA                          \n",
       "6   10.5                               NA                          \n",
       "7   10.5                               NA                          \n",
       "8   10.3                               NA                          \n",
       "9   10.2                               NA                          \n",
       "10   9.8                               NA                          \n",
       "11   9.5                               NA                          \n",
       "12   9.3                               NA                          \n",
       "13   9.0                               NA                          \n",
       "14   8.9                               NA                          \n",
       "15   9.0                               NA                          \n",
       "16   9.3                               NA                          \n",
       "17   9.7                               NA                          \n",
       "18   9.8                               NA                          \n",
       "19  10.1                               NA                          \n",
       "20  10.4                               NA                          \n",
       "21  10.6                               NA                          \n",
       "22  10.9                               NA                          \n",
       "23  11.3                               NA                          \n",
       "24  11.5                               NA                          \n",
       "25  11.8                               NA                          \n",
       "26  12.1                               NA                          \n",
       "27  12.2                               NA                          \n",
       "28  12.4                               NA                          \n",
       "29  12.6                               NA                          \n",
       "30  12.9                               NA                          \n",
       "... ...                                ...                         \n",
       "275 524.3                               -926.6                     \n",
       "276 524.0                               -798.7                     \n",
       "277 522.0                              -1005.2                     \n",
       "278 526.3                               -991.0                     \n",
       "279 528.3                              -1031.1                     \n",
       "280 531.9                              -1040.7                     \n",
       "281 535.5                              -1071.0                     \n",
       "282 539.4                              -1113.3                     \n",
       "283 544.2                              -1123.6                     \n",
       "284 548.8                               -145.1                     \n",
       "285 554.9                              -1193.5                     \n",
       "286 563.0                              -1267.7                     \n",
       "287 568.4                              -1240.5                     \n",
       "288 574.0                              -1317.0                     \n",
       "289 579.7                              -1398.4                     \n",
       "290 584.3                              -1371.1                     \n",
       "291 589.2                              -1458.6                     \n",
       "292 592.8                              -1485.9                     \n",
       "293 597.6                              -1484.6                     \n",
       "294 601.9                              -5136.7                     \n",
       "295 608.9                              -3665.2                     \n",
       "296 615.4                              -2241.3                     \n",
       "297 626.1                              -4578.5                     \n",
       "298 639.4                              -2742.2                     \n",
       "299 653.2                              -2306.0                     \n",
       "300 669.7                              -1638.5                     \n",
       "301 691.2                               -671.5                     \n",
       "302 711.2                               -928.5                     \n",
       "303 726.3                              -1212.5                     \n",
       "304 737.1                                   NA                     "
      ]
     },
     "metadata": {},
     "output_type": "display_data"
    }
   ],
   "source": [
    "gov_reciept"
   ]
  },
  {
   "cell_type": "markdown",
   "id": "2445f9fd",
   "metadata": {},
   "source": [
    "On constate que le dataset contient plusieurs informations relatifs au gouvernement, dans le cadre de ce projet, nous analyserons uniquement les données relatives aux investissementsd bruts du gouvernement"
   ]
  },
  {
   "cell_type": "code",
   "execution_count": 6,
   "id": "e96c79d7",
   "metadata": {},
   "outputs": [
    {
     "data": {
      "text/plain": [
       "     Année     \n",
       " Min.   :1947  \n",
       " 1st Qu.:1966  \n",
       " Median :1984  \n",
       " Mean   :1984  \n",
       " 3rd Qu.:2003  \n",
       " Max.   :2022  "
      ]
     },
     "metadata": {},
     "output_type": "display_data"
    }
   ],
   "source": [
    "serie <- ts(data=gov_reciept[,2])\n",
    "summary(serie)"
   ]
  },
  {
   "cell_type": "code",
   "execution_count": 7,
   "id": "27234072",
   "metadata": {},
   "outputs": [
    {
     "data": {
      "image/png": "[encoded data removed]",
      "text/plain": [
       "Plot with title \"gross government investement since 1947 to 2022 in billion($)\""
      ]
     },
     "metadata": {},
     "output_type": "display_data"
    }
   ],
   "source": [
    "##graphique de base\n",
    "gross_gov <- gov_reciept$`Gross government investment`\n",
    "plot(serie, gross_gov, col=\"red\", main=\"gross government investement since 1947 to 2022 in billion($)\", ylab=\"gross government investment\", xlab=\"years\", sub=\"figure1.\")"
   ]
  },
  {
   "cell_type": "code",
   "execution_count": 8,
   "id": "a37c8387",
   "metadata": {},
   "outputs": [
    {
     "data": {
      "image/png": "[encoded data removed]",
      "text/plain": [
       "Plot with title \"log of gross government investement since 1947 to 2022 in billion($)\""
      ]
     },
     "metadata": {},
     "output_type": "display_data"
    }
   ],
   "source": [
    "##graphique avec log\n",
    "plot(serie, log(gross_gov), col=\"red\", main=\"log of gross government investement since 1947 to 2022 in billion($)\", sub=\"figure2. \", xlab=\"years\", ylab=\"log of gross government investement\")"
   ]
  },
  {
   "cell_type": "markdown",
   "id": "fc2fee43",
   "metadata": {},
   "source": [
    "On constate d'après la figure 2, qu'avec le log, la série se lisse légèrement. On prendra alors, la différence première"
   ]
  },
  {
   "cell_type": "code",
   "execution_count": 101,
   "id": "fe5127b3",
   "metadata": {},
   "outputs": [
    {
     "data": {
      "image/png": "[encoded data removed]",
      "text/plain": [
       "Plot with title \"first difference of gross government investement in billion($)\""
      ]
     },
     "metadata": {},
     "output_type": "display_data"
    }
   ],
   "source": [
    "diff_premiere = diff(log(gross_gov), differences=1)\n",
    "\n",
    "plot(diff_premiere, type=\"l\", col=\"red\", main=\"first difference of gross government investement in billion($)\", sub=\"figure 3.\",xlab=\"years\", ylab=\"first difference of gross government investment\")"
   ]
  },
  {
   "cell_type": "markdown",
   "id": "6afaad14",
   "metadata": {},
   "source": [
    "D'après la figure3, on constate que la série semble être stationnaire, on va donc devoir tester l'hypothèse de stationnarité à l'aide du test de Dickey-Füler."
   ]
  },
  {
   "cell_type": "markdown",
   "id": "df3d2ef9",
   "metadata": {},
   "source": [
    "## Test de Dickey-füler"
   ]
  },
  {
   "cell_type": "code",
   "execution_count": 102,
   "id": "34146e6f",
   "metadata": {},
   "outputs": [
    {
     "name": "stderr",
     "output_type": "stream",
     "text": [
      "Warning message in adf.test(diff_premiere, alternative = \"stationary\"):\n",
      "\"p-value smaller than printed p-value\""
     ]
    },
    {
     "data": {
      "text/plain": [
       "\n",
       "\tAugmented Dickey-Fuller Test\n",
       "\n",
       "data:  diff_premiere\n",
       "Dickey-Fuller = -5.9545, Lag order = 6, p-value = 0.01\n",
       "alternative hypothesis: stationary\n"
      ]
     },
     "metadata": {},
     "output_type": "display_data"
    }
   ],
   "source": [
    "##test fuuler\n",
    "\n",
    "adf.test(diff_premiere, alternative=\"stationary\") #test de statinnarité rejeté car p-value=0.01< 5%, donc l'hypothèse de stationnarité"
   ]
  },
  {
   "cell_type": "markdown",
   "id": "0b773b0a",
   "metadata": {},
   "source": [
    "Le test de Dickey-füler nous permet de voir que l'hypothèse alternative(la série est stationnaire) est vérifié car on obtient une p-value(0.01) < 5%. L'hypothèse de stationarité est donc vérifié. "
   ]
  },
  {
   "cell_type": "markdown",
   "id": "7109adaa",
   "metadata": {},
   "source": [
    "### ACF / PACF"
   ]
  },
  {
   "cell_type": "markdown",
   "id": "8cff947f",
   "metadata": {},
   "source": [
    "Nous allons maintenant étudier l'ACF et le PACF, pour estimer un modèle "
   ]
  },
  {
   "cell_type": "code",
   "execution_count": 11,
   "id": "f3c75db9",
   "metadata": {},
   "outputs": [
    {
     "data": {
      "image/png": "[encoded data removed]",
      "text/plain": [
       "Plot with title \"Series  diff_premiere\""
      ]
     },
     "metadata": {},
     "output_type": "display_data"
    }
   ],
   "source": [
    "acf(diff_premiere)"
   ]
  },
  {
   "cell_type": "markdown",
   "id": "a9105579",
   "metadata": {},
   "source": [
    "On constate sur l'ACF, un possible effet de saisonalité, ce qui peut nous laisser indifférent car il peut s'agir d'un auto-regressif(AR), car on constate une décroissance des lag. cependant, l'effet de saisonalité ne nous permet pas d'observer correctement, on supposera donc qu'il s'agit d'un AR, mais cela n'est pas encore sûr tant que la saisonalité ne sera pas enlevé."
   ]
  },
  {
   "cell_type": "markdown",
   "id": "d294b7c2",
   "metadata": {},
   "source": [
    "## Autocorrélogramme partiel de la différence première"
   ]
  },
  {
   "cell_type": "code",
   "execution_count": 132,
   "id": "c03b65df",
   "metadata": {},
   "outputs": [
    {
     "data": {
      "image/png": "[encoded data removed]",
      "text/plain": [
       "Plot with title \"PACF of the first difference of gross government investment\""
      ]
     },
     "metadata": {},
     "output_type": "display_data"
    }
   ],
   "source": [
    "pacf(diff_premiere, main=\"PACF of the first difference of gross government investment\", sub=\"2 bares out of the blue lines(q=2)\")"
   ]
  },
  {
   "cell_type": "markdown",
   "id": "79887230",
   "metadata": {},
   "source": [
    "On constate sur l'ACF, un effet sinusoïdale, ce qui nous permet de dire qu'il ne s'agit pas d'un modèle AR pûr. On a donc un modèle à moyenne mobile."
   ]
  },
  {
   "cell_type": "markdown",
   "id": "5fbc2210",
   "metadata": {},
   "source": [
    "### Conjecture du modèle ARIMA"
   ]
  },
  {
   "cell_type": "markdown",
   "id": "c39e43b3",
   "metadata": {},
   "source": [
    "On a donc un modèle ARIMA, on regardant le PACF, on peut déterminer le paramètre p de la partie auto-régressive. On voit que c'est significatif à 2. on peut donc penser qu'on a un AR(1) ou un AR(2).\n",
    "\n",
    "Pour la partie moyenne mobile, on regarde l'ACF, et on constate que c'est significatif entre 3 et 4. On aurait donc un MA(3) ou un MA(4). \n",
    "\n",
    "L'objectif sera donc de tester pour qu'elle paramètre p et q, le modèle maximise le critère d'information et sa significativité."
   ]
  },
  {
   "cell_type": "markdown",
   "id": "21fb7a50",
   "metadata": {},
   "source": [
    "### Estimation du meilleur modèle ARIMA"
   ]
  },
  {
   "cell_type": "code",
   "execution_count": 134,
   "id": "2a776dd5",
   "metadata": {},
   "outputs": [],
   "source": [
    "model1 <- auto.arima(diff_premiere, max.d=1, max.p =1, max.q=3)"
   ]
  },
  {
   "cell_type": "code",
   "execution_count": 136,
   "id": "10c9f8b9",
   "metadata": {},
   "outputs": [
    {
     "data": {
      "text/plain": [
       "Series: diff_premiere \n",
       "ARIMA(1,1,3) \n",
       "\n",
       "Coefficients:\n",
       "         ar1      ma1     ma2      ma3\n",
       "      0.2183  -0.9208  0.1484  -0.1522\n",
       "s.e.  0.2490   0.2442  0.1837   0.0747\n",
       "\n",
       "sigma^2 estimated as 0.0009039:  log likelihood=631.09\n",
       "AIC=-1252.19   AICc=-1251.98   BIC=-1233.63"
      ]
     },
     "metadata": {},
     "output_type": "display_data"
    }
   ],
   "source": [
    "model1"
   ]
  },
  {
   "cell_type": "code",
   "execution_count": 140,
   "id": "03c65670",
   "metadata": {},
   "outputs": [],
   "source": [
    "model2 <- auto.arima(diff_premiere, max.d=2, max.p =1, max.q=4)"
   ]
  },
  {
   "cell_type": "code",
   "execution_count": 142,
   "id": "7eb42414",
   "metadata": {},
   "outputs": [
    {
     "data": {
      "text/plain": [
       "Series: diff_premiere \n",
       "ARIMA(1,1,4) \n",
       "\n",
       "Coefficients:\n",
       "          ar1      ma1      ma2      ma3      ma4\n",
       "      -0.2800  -0.4198  -0.2044  -0.1375  -0.1144\n",
       "s.e.   0.7016   0.6965   0.5009   0.0625   0.1342\n",
       "\n",
       "sigma^2 estimated as 0.0009055:  log likelihood=631.33\n",
       "AIC=-1250.65   AICc=-1250.37   BIC=-1228.39"
      ]
     },
     "metadata": {},
     "output_type": "display_data"
    }
   ],
   "source": [
    "model2"
   ]
  },
  {
   "cell_type": "code",
   "execution_count": 116,
   "id": "767dbecf",
   "metadata": {},
   "outputs": [
    {
     "name": "stdout",
     "output_type": "stream",
     "text": [
      "\n",
      "  There is a binary version available but the source version is later:\n",
      "          binary source needs_compilation\n",
      "seastests 0.14.2 0.15.4             FALSE\n",
      "\n"
     ]
    },
    {
     "name": "stderr",
     "output_type": "stream",
     "text": [
      "installing the source package 'seastests'\n",
      "\n"
     ]
    }
   ],
   "source": [
    "install.packages(\"seastests\")\n",
    "library(\"seastests\")"
   ]
  },
  {
   "cell_type": "code",
   "execution_count": 118,
   "id": "8cef461a",
   "metadata": {},
   "outputs": [],
   "source": [
    "df_diff_prem <- data.frame(serie, gross_gov)"
   ]
  },
  {
   "cell_type": "code",
   "execution_count": 130,
   "id": "4cecb7c0",
   "metadata": {},
   "outputs": [
    {
     "data": {
      "text/html": [
       "<table>\n",
       "<thead><tr><th scope=col>Année</th><th scope=col>gross_gov</th></tr></thead>\n",
       "<tbody>\n",
       "\t<tr><td>1947</td><td>4.9 </td></tr>\n",
       "\t<tr><td>1947</td><td>5.1 </td></tr>\n",
       "\t<tr><td>1947</td><td>6.1 </td></tr>\n",
       "\t<tr><td>1947</td><td>6.6 </td></tr>\n",
       "\t<tr><td>1948</td><td>7.5 </td></tr>\n",
       "\t<tr><td>1948</td><td>8.2 </td></tr>\n",
       "</tbody>\n",
       "</table>\n"
      ],
      "text/latex": [
       "\\begin{tabular}{r|ll}\n",
       " Année & gross\\_gov\\\\\n",
       "\\hline\n",
       "\t 1947 & 4.9 \\\\\n",
       "\t 1947 & 5.1 \\\\\n",
       "\t 1947 & 6.1 \\\\\n",
       "\t 1947 & 6.6 \\\\\n",
       "\t 1948 & 7.5 \\\\\n",
       "\t 1948 & 8.2 \\\\\n",
       "\\end{tabular}\n"
      ],
      "text/markdown": [
       "\n",
       "| Année | gross_gov |\n",
       "|---|---|\n",
       "| 1947 | 4.9  |\n",
       "| 1947 | 5.1  |\n",
       "| 1947 | 6.1  |\n",
       "| 1947 | 6.6  |\n",
       "| 1948 | 7.5  |\n",
       "| 1948 | 8.2  |\n",
       "\n"
      ],
      "text/plain": [
       "  Année gross_gov\n",
       "1 1947  4.9      \n",
       "2 1947  5.1      \n",
       "3 1947  6.1      \n",
       "4 1947  6.6      \n",
       "5 1948  7.5      \n",
       "6 1948  8.2      "
      ]
     },
     "metadata": {},
     "output_type": "display_data"
    }
   ],
   "source": [
    "head(df_diff_prem)"
   ]
  },
  {
   "cell_type": "code",
   "execution_count": 124,
   "id": "532218f8",
   "metadata": {},
   "outputs": [],
   "source": [
    "gross_gov_series_diff_prem<-ts(df_diff_prem$gross_gov,start=c(1947), end=c(2022), frequency=4)"
   ]
  },
  {
   "cell_type": "code",
   "execution_count": 125,
   "id": "439675b7",
   "metadata": {},
   "outputs": [
    {
     "name": "stderr",
     "output_type": "stream",
     "text": [
      "ERROR while rich displaying an object: Error in repr_matrix_generic(obj, \"\\n%s%s\\n\", sprintf(\"|%%s\\n|%s|\\n\", : argument formel \"cols\" correspondant à plusieurs arguments fournis\n",
      "\n",
      "Traceback:\n",
      "1. tryCatch(withCallingHandlers({\n",
      " .     if (!mime %in% names(repr::mime2repr)) \n",
      " .         stop(\"No repr_* for mimetype \", mime, \" in repr::mime2repr\")\n",
      " .     rpr <- repr::mime2repr[[mime]](obj)\n",
      " .     if (is.null(rpr)) \n",
      " .         return(NULL)\n",
      " .     prepare_content(is.raw(rpr), rpr)\n",
      " . }, error = error_handler), error = outer_handler)\n",
      "2. tryCatchList(expr, classes, parentenv, handlers)\n",
      "3. tryCatchOne(expr, names, parentenv, handlers[[1L]])\n",
      "4. doTryCatch(return(expr), name, parentenv, handler)\n",
      "5. withCallingHandlers({\n",
      " .     if (!mime %in% names(repr::mime2repr)) \n",
      " .         stop(\"No repr_* for mimetype \", mime, \" in repr::mime2repr\")\n",
      " .     rpr <- repr::mime2repr[[mime]](obj)\n",
      " .     if (is.null(rpr)) \n",
      " .         return(NULL)\n",
      " .     prepare_content(is.raw(rpr), rpr)\n",
      " . }, error = error_handler)\n",
      "6. repr::mime2repr[[mime]](obj)\n",
      "7. repr_markdown.ts(obj)\n",
      "8. repr_ts_generic(obj, repr_markdown.matrix, ...)\n",
      "9. repr_func(m, ..., rows = nrow(m), cols = ncol(m))\n"
     ]
    },
    {
     "data": {
      "text/html": [
       "<table>\n",
       "<thead><tr><th></th><th scope=col>Qtr1</th><th scope=col>Qtr2</th><th scope=col>Qtr3</th><th scope=col>Qtr4</th></tr></thead>\n",
       "<tbody>\n",
       "\t<tr><th scope=row>1947</th><td>  4.9</td><td>  5.1</td><td>  6.1</td><td>  6.6</td></tr>\n",
       "\t<tr><th scope=row>1948</th><td>  7.5</td><td>  8.2</td><td>  8.8</td><td>  9.4</td></tr>\n",
       "\t<tr><th scope=row>1949</th><td> 10.3</td><td> 11.3</td><td> 11.9</td><td> 11.8</td></tr>\n",
       "\t<tr><th scope=row>1950</th><td> 10.7</td><td> 11.1</td><td> 11.7</td><td> 12.3</td></tr>\n",
       "\t<tr><th scope=row>1951</th><td> 14.9</td><td> 18.2</td><td> 21.1</td><td> 24.1</td></tr>\n",
       "\t<tr><th scope=row>1952</th><td> 24.1</td><td> 24.3</td><td> 24.8</td><td> 25.3</td></tr>\n",
       "\t<tr><th scope=row>1953</th><td> 26.5</td><td> 27.2</td><td> 27.0</td><td> 25.9</td></tr>\n",
       "\t<tr><th scope=row>1954</th><td> 26.4</td><td> 25.9</td><td> 24.7</td><td> 24.5</td></tr>\n",
       "\t<tr><th scope=row>1955</th><td> 24.1</td><td> 24.8</td><td> 24.3</td><td> 24.3</td></tr>\n",
       "\t<tr><th scope=row>1956</th><td> 25.6</td><td> 26.6</td><td> 27.8</td><td> 28.7</td></tr>\n",
       "\t<tr><th scope=row>1957</th><td> 29.8</td><td> 29.7</td><td> 30.6</td><td> 30.8</td></tr>\n",
       "\t<tr><th scope=row>1958</th><td> 31.3</td><td> 32.0</td><td> 32.9</td><td> 34.3</td></tr>\n",
       "\t<tr><th scope=row>1959</th><td> 36.2</td><td> 36.2</td><td> 36.1</td><td> 34.9</td></tr>\n",
       "\t<tr><th scope=row>1960</th><td> 35.1</td><td> 35.2</td><td> 36.8</td><td> 36.9</td></tr>\n",
       "\t<tr><th scope=row>1961</th><td> 39.6</td><td> 38.5</td><td> 39.9</td><td> 41.6</td></tr>\n",
       "\t<tr><th scope=row>1962</th><td> 42.0</td><td> 41.9</td><td> 43.1</td><td> 43.5</td></tr>\n",
       "\t<tr><th scope=row>1963</th><td> 43.3</td><td> 43.6</td><td> 45.8</td><td> 45.1</td></tr>\n",
       "\t<tr><th scope=row>1964</th><td> 45.8</td><td> 46.5</td><td> 46.6</td><td> 46.7</td></tr>\n",
       "\t<tr><th scope=row>1965</th><td> 46.2</td><td> 46.9</td><td> 48.9</td><td> 49.5</td></tr>\n",
       "\t<tr><th scope=row>1966</th><td> 51.9</td><td> 51.9</td><td> 54.2</td><td> 56.2</td></tr>\n",
       "\t<tr><th scope=row>1967</th><td> 57.9</td><td> 56.6</td><td> 57.9</td><td> 58.3</td></tr>\n",
       "\t<tr><th scope=row>1968</th><td> 58.4</td><td> 59.5</td><td> 59.5</td><td> 59.6</td></tr>\n",
       "\t<tr><th scope=row>1969</th><td> 61.5</td><td> 59.7</td><td> 59.9</td><td> 57.0</td></tr>\n",
       "\t<tr><th scope=row>1970</th><td> 59.0</td><td> 58.8</td><td> 60.2</td><td> 61.1</td></tr>\n",
       "\t<tr><th scope=row>1971</th><td> 58.1</td><td> 58.3</td><td> 59.2</td><td> 58.5</td></tr>\n",
       "\t<tr><th scope=row>1972</th><td> 60.0</td><td> 60.9</td><td> 59.2</td><td> 62.6</td></tr>\n",
       "\t<tr><th scope=row>1973</th><td> 66.2</td><td> 65.5</td><td> 64.6</td><td> 66.2</td></tr>\n",
       "\t<tr><th scope=row>1974</th><td> 71.0</td><td> 76.0</td><td> 78.2</td><td> 79.5</td></tr>\n",
       "\t<tr><th scope=row>1975</th><td> 83.0</td><td> 79.2</td><td> 85.5</td><td> 89.9</td></tr>\n",
       "\t<tr><th scope=row>1976</th><td> 92.9</td><td> 89.0</td><td> 88.7</td><td> 88.0</td></tr>\n",
       "\t<tr><th scope=row>1977</th><td> 91.4</td><td> 94.2</td><td> 93.6</td><td> 93.4</td></tr>\n",
       "\t<tr><th scope=row>1978</th><td> 93.5</td><td>105.0</td><td>109.7</td><td>114.1</td></tr>\n",
       "\t<tr><th scope=row>1979</th><td>109.7</td><td>116.9</td><td>125.4</td><td>128.4</td></tr>\n",
       "\t<tr><th scope=row>1980</th><td>135.7</td><td>134.7</td><td>134.4</td><td>139.0</td></tr>\n",
       "\t<tr><th scope=row>1981</th><td>146.4</td><td>145.3</td><td>145.7</td><td>152.0</td></tr>\n",
       "\t<tr><th scope=row>1982</th><td>150.2</td><td>156.4</td><td>157.4</td><td>163.8</td></tr>\n",
       "\t<tr><th scope=row>1983</th><td>164.7</td><td>167.1</td><td>174.5</td><td>178.4</td></tr>\n",
       "\t<tr><th scope=row>1984</th><td>184.1</td><td>189.5</td><td>193.8</td><td>205.4</td></tr>\n",
       "\t<tr><th scope=row>1985</th><td>208.3</td><td>218.4</td><td>226.3</td><td>226.6</td></tr>\n",
       "\t<tr><th scope=row>1986</th><td>229.0</td><td>234.4</td><td>245.7</td><td>243.2</td></tr>\n",
       "\t<tr><th scope=row>1987</th><td>247.7</td><td>253.5</td><td>258.3</td><td>259.1</td></tr>\n",
       "\t<tr><th scope=row>1988</th><td>253.5</td><td>258.2</td><td>258.1</td><td>263.8</td></tr>\n",
       "\t<tr><th scope=row>1989</th><td>263.8</td><td>267.2</td><td>275.0</td><td>275.6</td></tr>\n",
       "\t<tr><th scope=row>1990</th><td>286.8</td><td>288.3</td><td>291.6</td><td>294.7</td></tr>\n",
       "\t<tr><th scope=row>1991</th><td>291.1</td><td>296.0</td><td>296.0</td><td>293.2</td></tr>\n",
       "\t<tr><th scope=row>1992</th><td>299.5</td><td>297.1</td><td>294.1</td><td>293.7</td></tr>\n",
       "\t<tr><th scope=row>1993</th><td>288.5</td><td>293.2</td><td>290.7</td><td>295.2</td></tr>\n",
       "\t<tr><th scope=row>1994</th><td>283.7</td><td>290.3</td><td>302.1</td><td>300.6</td></tr>\n",
       "\t<tr><th scope=row>1995</th><td>307.0</td><td>310.4</td><td>307.1</td><td>306.3</td></tr>\n",
       "\t<tr><th scope=row>1996</th><td>316.8</td><td>317.8</td><td>321.0</td><td>324.2</td></tr>\n",
       "\t<tr><th scope=row>1997</th><td>319.3</td><td>324.0</td><td>331.5</td><td>331.7</td></tr>\n",
       "\t<tr><th scope=row>1998</th><td>331.2</td><td>341.1</td><td>354.2</td><td>349.5</td></tr>\n",
       "\t<tr><th scope=row>1999</th><td>357.1</td><td>362.5</td><td>370.0</td><td>384.3</td></tr>\n",
       "\t<tr><th scope=row>2000</th><td>389.2</td><td>385.8</td><td>386.2</td><td>394.2</td></tr>\n",
       "\t<tr><th scope=row>2001</th><td>400.9</td><td>418.9</td><td>403.5</td><td>424.3</td></tr>\n",
       "\t<tr><th scope=row>2002</th><td>434.7</td><td>438.4</td><td>447.1</td><td>454.5</td></tr>\n",
       "\t<tr><th scope=row>2003</th><td>457.1</td><td>458.3</td><td>469.1</td><td>472.4</td></tr>\n",
       "\t<tr><th scope=row>2004</th><td>474.3</td><td>483.3</td><td>490.1</td><td>497.1</td></tr>\n",
       "\t<tr><th scope=row>2005</th><td>501.6</td><td>510.2</td><td>517.3</td><td>524.0</td></tr>\n",
       "\t<tr><th scope=row>2006</th><td>539.7</td><td>551.8</td><td>550.1</td><td>562.0</td></tr>\n",
       "\t<tr><th scope=row>2007</th><td>574.3</td><td>589.6</td><td>596.0</td><td>608.2</td></tr>\n",
       "\t<tr><th scope=row>2008</th><td>611.6</td><td>627.6</td><td>637.7</td><td>641.4</td></tr>\n",
       "\t<tr><th scope=row>2009</th><td>640.0</td><td>646.5</td><td>644.9</td><td>640.1</td></tr>\n",
       "\t<tr><th scope=row>2010</th><td>633.2</td><td>648.0</td><td>649.4</td><td>647.4</td></tr>\n",
       "\t<tr><th scope=row>2011</th><td>639.4</td><td>636.3</td><td>635.1</td><td>635.7</td></tr>\n",
       "\t<tr><th scope=row>2012</th><td>626.8</td><td>627.1</td><td>619.4</td><td>610.8</td></tr>\n",
       "\t<tr><th scope=row>2013</th><td>598.7</td><td>598.5</td><td>603.2</td><td>601.3</td></tr>\n",
       "\t<tr><th scope=row>2014</th><td>588.7</td><td>602.7</td><td>606.5</td><td>612.3</td></tr>\n",
       "\t<tr><th scope=row>2015</th><td>608.0</td><td>626.4</td><td>630.5</td><td>625.5</td></tr>\n",
       "\t<tr><th scope=row>2016</th><td>639.9</td><td>637.2</td><td>637.0</td><td>645.6</td></tr>\n",
       "\t<tr><th scope=row>2017</th><td>652.4</td><td>661.8</td><td>668.1</td><td>690.8</td></tr>\n",
       "\t<tr><th scope=row>2018</th><td>696.1</td><td>713.8</td><td>720.3</td><td>717.1</td></tr>\n",
       "\t<tr><th scope=row>2019</th><td>745.6</td><td>744.7</td><td>754.7</td><td>759.5</td></tr>\n",
       "\t<tr><th scope=row>2020</th><td>781.6</td><td>786.1</td><td>789.7</td><td>804.7</td></tr>\n",
       "\t<tr><th scope=row>2021</th><td>798.0</td><td>797.0</td><td>810.1</td><td>822.9</td></tr>\n",
       "\t<tr><th scope=row>2022</th><td>829.3</td><td>     </td><td>     </td><td>     </td></tr>\n",
       "</tbody>\n",
       "</table>\n"
      ],
      "text/latex": [
       "\\begin{tabular}{r|llll}\n",
       "  & Qtr1 & Qtr2 & Qtr3 & Qtr4\\\\\n",
       "\\hline\n",
       "\t1947 &   4.9 &   5.1 &   6.1 &   6.6\\\\\n",
       "\t1948 &   7.5 &   8.2 &   8.8 &   9.4\\\\\n",
       "\t1949 &  10.3 &  11.3 &  11.9 &  11.8\\\\\n",
       "\t1950 &  10.7 &  11.1 &  11.7 &  12.3\\\\\n",
       "\t1951 &  14.9 &  18.2 &  21.1 &  24.1\\\\\n",
       "\t1952 &  24.1 &  24.3 &  24.8 &  25.3\\\\\n",
       "\t1953 &  26.5 &  27.2 &  27.0 &  25.9\\\\\n",
       "\t1954 &  26.4 &  25.9 &  24.7 &  24.5\\\\\n",
       "\t1955 &  24.1 &  24.8 &  24.3 &  24.3\\\\\n",
       "\t1956 &  25.6 &  26.6 &  27.8 &  28.7\\\\\n",
       "\t1957 &  29.8 &  29.7 &  30.6 &  30.8\\\\\n",
       "\t1958 &  31.3 &  32.0 &  32.9 &  34.3\\\\\n",
       "\t1959 &  36.2 &  36.2 &  36.1 &  34.9\\\\\n",
       "\t1960 &  35.1 &  35.2 &  36.8 &  36.9\\\\\n",
       "\t1961 &  39.6 &  38.5 &  39.9 &  41.6\\\\\n",
       "\t1962 &  42.0 &  41.9 &  43.1 &  43.5\\\\\n",
       "\t1963 &  43.3 &  43.6 &  45.8 &  45.1\\\\\n",
       "\t1964 &  45.8 &  46.5 &  46.6 &  46.7\\\\\n",
       "\t1965 &  46.2 &  46.9 &  48.9 &  49.5\\\\\n",
       "\t1966 &  51.9 &  51.9 &  54.2 &  56.2\\\\\n",
       "\t1967 &  57.9 &  56.6 &  57.9 &  58.3\\\\\n",
       "\t1968 &  58.4 &  59.5 &  59.5 &  59.6\\\\\n",
       "\t1969 &  61.5 &  59.7 &  59.9 &  57.0\\\\\n",
       "\t1970 &  59.0 &  58.8 &  60.2 &  61.1\\\\\n",
       "\t1971 &  58.1 &  58.3 &  59.2 &  58.5\\\\\n",
       "\t1972 &  60.0 &  60.9 &  59.2 &  62.6\\\\\n",
       "\t1973 &  66.2 &  65.5 &  64.6 &  66.2\\\\\n",
       "\t1974 &  71.0 &  76.0 &  78.2 &  79.5\\\\\n",
       "\t1975 &  83.0 &  79.2 &  85.5 &  89.9\\\\\n",
       "\t1976 &  92.9 &  89.0 &  88.7 &  88.0\\\\\n",
       "\t1977 &  91.4 &  94.2 &  93.6 &  93.4\\\\\n",
       "\t1978 &  93.5 & 105.0 & 109.7 & 114.1\\\\\n",
       "\t1979 & 109.7 & 116.9 & 125.4 & 128.4\\\\\n",
       "\t1980 & 135.7 & 134.7 & 134.4 & 139.0\\\\\n",
       "\t1981 & 146.4 & 145.3 & 145.7 & 152.0\\\\\n",
       "\t1982 & 150.2 & 156.4 & 157.4 & 163.8\\\\\n",
       "\t1983 & 164.7 & 167.1 & 174.5 & 178.4\\\\\n",
       "\t1984 & 184.1 & 189.5 & 193.8 & 205.4\\\\\n",
       "\t1985 & 208.3 & 218.4 & 226.3 & 226.6\\\\\n",
       "\t1986 & 229.0 & 234.4 & 245.7 & 243.2\\\\\n",
       "\t1987 & 247.7 & 253.5 & 258.3 & 259.1\\\\\n",
       "\t1988 & 253.5 & 258.2 & 258.1 & 263.8\\\\\n",
       "\t1989 & 263.8 & 267.2 & 275.0 & 275.6\\\\\n",
       "\t1990 & 286.8 & 288.3 & 291.6 & 294.7\\\\\n",
       "\t1991 & 291.1 & 296.0 & 296.0 & 293.2\\\\\n",
       "\t1992 & 299.5 & 297.1 & 294.1 & 293.7\\\\\n",
       "\t1993 & 288.5 & 293.2 & 290.7 & 295.2\\\\\n",
       "\t1994 & 283.7 & 290.3 & 302.1 & 300.6\\\\\n",
       "\t1995 & 307.0 & 310.4 & 307.1 & 306.3\\\\\n",
       "\t1996 & 316.8 & 317.8 & 321.0 & 324.2\\\\\n",
       "\t1997 & 319.3 & 324.0 & 331.5 & 331.7\\\\\n",
       "\t1998 & 331.2 & 341.1 & 354.2 & 349.5\\\\\n",
       "\t1999 & 357.1 & 362.5 & 370.0 & 384.3\\\\\n",
       "\t2000 & 389.2 & 385.8 & 386.2 & 394.2\\\\\n",
       "\t2001 & 400.9 & 418.9 & 403.5 & 424.3\\\\\n",
       "\t2002 & 434.7 & 438.4 & 447.1 & 454.5\\\\\n",
       "\t2003 & 457.1 & 458.3 & 469.1 & 472.4\\\\\n",
       "\t2004 & 474.3 & 483.3 & 490.1 & 497.1\\\\\n",
       "\t2005 & 501.6 & 510.2 & 517.3 & 524.0\\\\\n",
       "\t2006 & 539.7 & 551.8 & 550.1 & 562.0\\\\\n",
       "\t2007 & 574.3 & 589.6 & 596.0 & 608.2\\\\\n",
       "\t2008 & 611.6 & 627.6 & 637.7 & 641.4\\\\\n",
       "\t2009 & 640.0 & 646.5 & 644.9 & 640.1\\\\\n",
       "\t2010 & 633.2 & 648.0 & 649.4 & 647.4\\\\\n",
       "\t2011 & 639.4 & 636.3 & 635.1 & 635.7\\\\\n",
       "\t2012 & 626.8 & 627.1 & 619.4 & 610.8\\\\\n",
       "\t2013 & 598.7 & 598.5 & 603.2 & 601.3\\\\\n",
       "\t2014 & 588.7 & 602.7 & 606.5 & 612.3\\\\\n",
       "\t2015 & 608.0 & 626.4 & 630.5 & 625.5\\\\\n",
       "\t2016 & 639.9 & 637.2 & 637.0 & 645.6\\\\\n",
       "\t2017 & 652.4 & 661.8 & 668.1 & 690.8\\\\\n",
       "\t2018 & 696.1 & 713.8 & 720.3 & 717.1\\\\\n",
       "\t2019 & 745.6 & 744.7 & 754.7 & 759.5\\\\\n",
       "\t2020 & 781.6 & 786.1 & 789.7 & 804.7\\\\\n",
       "\t2021 & 798.0 & 797.0 & 810.1 & 822.9\\\\\n",
       "\t2022 & 829.3 &       &       &      \\\\\n",
       "\\end{tabular}\n"
      ],
      "text/plain": [
       "     Qtr1  Qtr2  Qtr3  Qtr4 \n",
       "1947   4.9   5.1   6.1   6.6\n",
       "1948   7.5   8.2   8.8   9.4\n",
       "1949  10.3  11.3  11.9  11.8\n",
       "1950  10.7  11.1  11.7  12.3\n",
       "1951  14.9  18.2  21.1  24.1\n",
       "1952  24.1  24.3  24.8  25.3\n",
       "1953  26.5  27.2  27.0  25.9\n",
       "1954  26.4  25.9  24.7  24.5\n",
       "1955  24.1  24.8  24.3  24.3\n",
       "1956  25.6  26.6  27.8  28.7\n",
       "1957  29.8  29.7  30.6  30.8\n",
       "1958  31.3  32.0  32.9  34.3\n",
       "1959  36.2  36.2  36.1  34.9\n",
       "1960  35.1  35.2  36.8  36.9\n",
       "1961  39.6  38.5  39.9  41.6\n",
       "1962  42.0  41.9  43.1  43.5\n",
       "1963  43.3  43.6  45.8  45.1\n",
       "1964  45.8  46.5  46.6  46.7\n",
       "1965  46.2  46.9  48.9  49.5\n",
       "1966  51.9  51.9  54.2  56.2\n",
       "1967  57.9  56.6  57.9  58.3\n",
       "1968  58.4  59.5  59.5  59.6\n",
       "1969  61.5  59.7  59.9  57.0\n",
       "1970  59.0  58.8  60.2  61.1\n",
       "1971  58.1  58.3  59.2  58.5\n",
       "1972  60.0  60.9  59.2  62.6\n",
       "1973  66.2  65.5  64.6  66.2\n",
       "1974  71.0  76.0  78.2  79.5\n",
       "1975  83.0  79.2  85.5  89.9\n",
       "1976  92.9  89.0  88.7  88.0\n",
       "1977  91.4  94.2  93.6  93.4\n",
       "1978  93.5 105.0 109.7 114.1\n",
       "1979 109.7 116.9 125.4 128.4\n",
       "1980 135.7 134.7 134.4 139.0\n",
       "1981 146.4 145.3 145.7 152.0\n",
       "1982 150.2 156.4 157.4 163.8\n",
       "1983 164.7 167.1 174.5 178.4\n",
       "1984 184.1 189.5 193.8 205.4\n",
       "1985 208.3 218.4 226.3 226.6\n",
       "1986 229.0 234.4 245.7 243.2\n",
       "1987 247.7 253.5 258.3 259.1\n",
       "1988 253.5 258.2 258.1 263.8\n",
       "1989 263.8 267.2 275.0 275.6\n",
       "1990 286.8 288.3 291.6 294.7\n",
       "1991 291.1 296.0 296.0 293.2\n",
       "1992 299.5 297.1 294.1 293.7\n",
       "1993 288.5 293.2 290.7 295.2\n",
       "1994 283.7 290.3 302.1 300.6\n",
       "1995 307.0 310.4 307.1 306.3\n",
       "1996 316.8 317.8 321.0 324.2\n",
       "1997 319.3 324.0 331.5 331.7\n",
       "1998 331.2 341.1 354.2 349.5\n",
       "1999 357.1 362.5 370.0 384.3\n",
       "2000 389.2 385.8 386.2 394.2\n",
       "2001 400.9 418.9 403.5 424.3\n",
       "2002 434.7 438.4 447.1 454.5\n",
       "2003 457.1 458.3 469.1 472.4\n",
       "2004 474.3 483.3 490.1 497.1\n",
       "2005 501.6 510.2 517.3 524.0\n",
       "2006 539.7 551.8 550.1 562.0\n",
       "2007 574.3 589.6 596.0 608.2\n",
       "2008 611.6 627.6 637.7 641.4\n",
       "2009 640.0 646.5 644.9 640.1\n",
       "2010 633.2 648.0 649.4 647.4\n",
       "2011 639.4 636.3 635.1 635.7\n",
       "2012 626.8 627.1 619.4 610.8\n",
       "2013 598.7 598.5 603.2 601.3\n",
       "2014 588.7 602.7 606.5 612.3\n",
       "2015 608.0 626.4 630.5 625.5\n",
       "2016 639.9 637.2 637.0 645.6\n",
       "2017 652.4 661.8 668.1 690.8\n",
       "2018 696.1 713.8 720.3 717.1\n",
       "2019 745.6 744.7 754.7 759.5\n",
       "2020 781.6 786.1 789.7 804.7\n",
       "2021 798.0 797.0 810.1 822.9\n",
       "2022 829.3                  "
      ]
     },
     "metadata": {},
     "output_type": "display_data"
    }
   ],
   "source": [
    "gross_gov_series_diff_prem"
   ]
  },
  {
   "cell_type": "code",
   "execution_count": 128,
   "id": "c85a6b24",
   "metadata": {},
   "outputs": [],
   "source": [
    "test_welch <- welch(gross_gov_series_diff_prem, diff=1)"
   ]
  },
  {
   "cell_type": "code",
   "execution_count": 129,
   "id": "6021b052",
   "metadata": {},
   "outputs": [
    {
     "data": {
      "text/plain": [
       "Test used:  Kruskall Wallis \n",
       " \n",
       "Test statistic:  0.73 \n",
       "P-value:  0.533586"
      ]
     },
     "metadata": {},
     "output_type": "display_data"
    }
   ],
   "source": [
    "test_welch"
   ]
  },
  {
   "cell_type": "markdown",
   "id": "75912d01",
   "metadata": {},
   "source": [
    "D'après l'autocorrélogramme partiel, on constate une tendance sinusoïdale, toujours un effet de saisonalité présent, on peut donc penser qu'on a un modèle ARIMA, avec une partie autorégressif AR(2), et une partie moyenne mobile MA(3). Ceci sera à tester par la suite afin d'estimer le meilleur modèle maximisant le critère d'informatione et sa p-value"
   ]
  },
  {
   "cell_type": "markdown",
   "id": "a37f4141",
   "metadata": {},
   "source": [
    "### Suppression de la saisonalité"
   ]
  },
  {
   "cell_type": "markdown",
   "id": "5f8ea153",
   "metadata": {},
   "source": [
    "Reprenons notre série telle qu'elle était avant la différence première, nous allons à partir de ces données créer un dataframe unique"
   ]
  },
  {
   "cell_type": "code",
   "execution_count": 42,
   "id": "1e428536",
   "metadata": {},
   "outputs": [],
   "source": [
    "serie <- ts(data=gov_reciept[,2])\n",
    "gross_gov <- gov_reciept$`Gross government investment`"
   ]
  },
  {
   "cell_type": "code",
   "execution_count": 40,
   "id": "6622d66c",
   "metadata": {},
   "outputs": [
    {
     "data": {
      "text/html": [
       "<ol class=list-inline>\n",
       "\t<li>304</li>\n",
       "\t<li>1</li>\n",
       "</ol>\n"
      ],
      "text/latex": [
       "\\begin{enumerate*}\n",
       "\\item 304\n",
       "\\item 1\n",
       "\\end{enumerate*}\n"
      ],
      "text/markdown": [
       "1. 304\n",
       "2. 1\n",
       "\n",
       "\n"
      ],
      "text/plain": [
       "[1] 304   1"
      ]
     },
     "metadata": {},
     "output_type": "display_data"
    }
   ],
   "source": [
    "dim(serie) #304 dates au total"
   ]
  },
  {
   "cell_type": "code",
   "execution_count": 19,
   "id": "6b1808ed",
   "metadata": {},
   "outputs": [],
   "source": [
    "df_season_gov <- data.frame(serie, gross_gov)"
   ]
  },
  {
   "cell_type": "code",
   "execution_count": 21,
   "id": "7199f220",
   "metadata": {},
   "outputs": [
    {
     "data": {
      "text/html": [
       "<table>\n",
       "<thead><tr><th scope=col>Année</th><th scope=col>gross_gov</th></tr></thead>\n",
       "<tbody>\n",
       "\t<tr><td>1947</td><td>4.9 </td></tr>\n",
       "\t<tr><td>1947</td><td>5.1 </td></tr>\n",
       "\t<tr><td>1947</td><td>6.1 </td></tr>\n",
       "\t<tr><td>1947</td><td>6.6 </td></tr>\n",
       "\t<tr><td>1948</td><td>7.5 </td></tr>\n",
       "\t<tr><td>1948</td><td>8.2 </td></tr>\n",
       "</tbody>\n",
       "</table>\n"
      ],
      "text/latex": [
       "\\begin{tabular}{r|ll}\n",
       " Année & gross\\_gov\\\\\n",
       "\\hline\n",
       "\t 1947 & 4.9 \\\\\n",
       "\t 1947 & 5.1 \\\\\n",
       "\t 1947 & 6.1 \\\\\n",
       "\t 1947 & 6.6 \\\\\n",
       "\t 1948 & 7.5 \\\\\n",
       "\t 1948 & 8.2 \\\\\n",
       "\\end{tabular}\n"
      ],
      "text/markdown": [
       "\n",
       "| Année | gross_gov |\n",
       "|---|---|\n",
       "| 1947 | 4.9  |\n",
       "| 1947 | 5.1  |\n",
       "| 1947 | 6.1  |\n",
       "| 1947 | 6.6  |\n",
       "| 1948 | 7.5  |\n",
       "| 1948 | 8.2  |\n",
       "\n"
      ],
      "text/plain": [
       "  Année gross_gov\n",
       "1 1947  4.9      \n",
       "2 1947  5.1      \n",
       "3 1947  6.1      \n",
       "4 1947  6.6      \n",
       "5 1948  7.5      \n",
       "6 1948  8.2      "
      ]
     },
     "metadata": {},
     "output_type": "display_data"
    }
   ],
   "source": [
    "head(df_season_gov)"
   ]
  },
  {
   "cell_type": "code",
   "execution_count": 23,
   "id": "9abb0258",
   "metadata": {},
   "outputs": [
    {
     "data": {
      "text/plain": [
       "     Année        gross_gov    \n",
       " Min.   :1947   Min.   :  4.9  \n",
       " 1st Qu.:1966   1st Qu.: 51.3  \n",
       " Median :1984   Median :206.8  \n",
       " Mean   :1984   Mean   :274.2  \n",
       " 3rd Qu.:2003   3rd Qu.:472.9  \n",
       " Max.   :2022   Max.   :889.3  "
      ]
     },
     "metadata": {},
     "output_type": "display_data"
    }
   ],
   "source": [
    "summary(df_season_gov)"
   ]
  },
  {
   "cell_type": "code",
   "execution_count": 44,
   "id": "a5048617",
   "metadata": {},
   "outputs": [
    {
     "data": {
      "text/html": [
       "<ol class=list-inline>\n",
       "\t<li>304</li>\n",
       "\t<li>2</li>\n",
       "</ol>\n"
      ],
      "text/latex": [
       "\\begin{enumerate*}\n",
       "\\item 304\n",
       "\\item 2\n",
       "\\end{enumerate*}\n"
      ],
      "text/markdown": [
       "1. 304\n",
       "2. 2\n",
       "\n",
       "\n"
      ],
      "text/plain": [
       "[1] 304   2"
      ]
     },
     "metadata": {},
     "output_type": "display_data"
    }
   ],
   "source": [
    "dim(df_season_gov)"
   ]
  },
  {
   "cell_type": "code",
   "execution_count": 54,
   "id": "8dbc478e",
   "metadata": {},
   "outputs": [],
   "source": [
    "gross_gov_series<-ts(df_season_gov$gross_gov,start=c(1947), end=c(2022), frequency=4)"
   ]
  },
  {
   "cell_type": "code",
   "execution_count": 56,
   "id": "041b0410",
   "metadata": {},
   "outputs": [],
   "source": [
    "decompose_df_season <- decompose(gross_gov_series)"
   ]
  },
  {
   "cell_type": "code",
   "execution_count": 58,
   "id": "2a443fcd",
   "metadata": {},
   "outputs": [
    {
     "data": {
      "image/png": "[encoded data removed]",
      "text/plain": [
       "plot without title"
      ]
     },
     "metadata": {},
     "output_type": "display_data"
    }
   ],
   "source": [
    "plot(decompose_df_season)"
   ]
  },
  {
   "cell_type": "code",
   "execution_count": 60,
   "id": "67101861",
   "metadata": {},
   "outputs": [
    {
     "name": "stdout",
     "output_type": "stream",
     "text": [
      "$x\n",
      "      Qtr1  Qtr2  Qtr3  Qtr4\n",
      "1947   4.9   5.1   6.1   6.6\n",
      "1948   7.5   8.2   8.8   9.4\n",
      "1949  10.3  11.3  11.9  11.8\n",
      "1950  10.7  11.1  11.7  12.3\n",
      "1951  14.9  18.2  21.1  24.1\n",
      "1952  24.1  24.3  24.8  25.3\n",
      "1953  26.5  27.2  27.0  25.9\n",
      "1954  26.4  25.9  24.7  24.5\n",
      "1955  24.1  24.8  24.3  24.3\n",
      "1956  25.6  26.6  27.8  28.7\n",
      "1957  29.8  29.7  30.6  30.8\n",
      "1958  31.3  32.0  32.9  34.3\n",
      "1959  36.2  36.2  36.1  34.9\n",
      "1960  35.1  35.2  36.8  36.9\n",
      "1961  39.6  38.5  39.9  41.6\n",
      "1962  42.0  41.9  43.1  43.5\n",
      "1963  43.3  43.6  45.8  45.1\n",
      "1964  45.8  46.5  46.6  46.7\n",
      "1965  46.2  46.9  48.9  49.5\n",
      "1966  51.9  51.9  54.2  56.2\n",
      "1967  57.9  56.6  57.9  58.3\n",
      "1968  58.4  59.5  59.5  59.6\n",
      "1969  61.5  59.7  59.9  57.0\n",
      "1970  59.0  58.8  60.2  61.1\n",
      "1971  58.1  58.3  59.2  58.5\n",
      "1972  60.0  60.9  59.2  62.6\n",
      "1973  66.2  65.5  64.6  66.2\n",
      "1974  71.0  76.0  78.2  79.5\n",
      "1975  83.0  79.2  85.5  89.9\n",
      "1976  92.9  89.0  88.7  88.0\n",
      "1977  91.4  94.2  93.6  93.4\n",
      "1978  93.5 105.0 109.7 114.1\n",
      "1979 109.7 116.9 125.4 128.4\n",
      "1980 135.7 134.7 134.4 139.0\n",
      "1981 146.4 145.3 145.7 152.0\n",
      "1982 150.2 156.4 157.4 163.8\n",
      "1983 164.7 167.1 174.5 178.4\n",
      "1984 184.1 189.5 193.8 205.4\n",
      "1985 208.3 218.4 226.3 226.6\n",
      "1986 229.0 234.4 245.7 243.2\n",
      "1987 247.7 253.5 258.3 259.1\n",
      "1988 253.5 258.2 258.1 263.8\n",
      "1989 263.8 267.2 275.0 275.6\n",
      "1990 286.8 288.3 291.6 294.7\n",
      "1991 291.1 296.0 296.0 293.2\n",
      "1992 299.5 297.1 294.1 293.7\n",
      "1993 288.5 293.2 290.7 295.2\n",
      "1994 283.7 290.3 302.1 300.6\n",
      "1995 307.0 310.4 307.1 306.3\n",
      "1996 316.8 317.8 321.0 324.2\n",
      "1997 319.3 324.0 331.5 331.7\n",
      "1998 331.2 341.1 354.2 349.5\n",
      "1999 357.1 362.5 370.0 384.3\n",
      "2000 389.2 385.8 386.2 394.2\n",
      "2001 400.9 418.9 403.5 424.3\n",
      "2002 434.7 438.4 447.1 454.5\n",
      "2003 457.1 458.3 469.1 472.4\n",
      "2004 474.3 483.3 490.1 497.1\n",
      "2005 501.6 510.2 517.3 524.0\n",
      "2006 539.7 551.8 550.1 562.0\n",
      "2007 574.3 589.6 596.0 608.2\n",
      "2008 611.6 627.6 637.7 641.4\n",
      "2009 640.0 646.5 644.9 640.1\n",
      "2010 633.2 648.0 649.4 647.4\n",
      "2011 639.4 636.3 635.1 635.7\n",
      "2012 626.8 627.1 619.4 610.8\n",
      "2013 598.7 598.5 603.2 601.3\n",
      "2014 588.7 602.7 606.5 612.3\n",
      "2015 608.0 626.4 630.5 625.5\n",
      "2016 639.9 637.2 637.0 645.6\n",
      "2017 652.4 661.8 668.1 690.8\n",
      "2018 696.1 713.8 720.3 717.1\n",
      "2019 745.6 744.7 754.7 759.5\n",
      "2020 781.6 786.1 789.7 804.7\n",
      "2021 798.0 797.0 810.1 822.9\n",
      "2022 829.3                  \n",
      "\n",
      "$seasonal\n",
      "            Qtr1        Qtr2        Qtr3        Qtr4\n",
      "1947 -0.55606757  0.28666892  0.18239189  0.08700676\n",
      "1948 -0.55606757  0.28666892  0.18239189  0.08700676\n",
      "1949 -0.55606757  0.28666892  0.18239189  0.08700676\n",
      "1950 -0.55606757  0.28666892  0.18239189  0.08700676\n",
      "1951 -0.55606757  0.28666892  0.18239189  0.08700676\n",
      "1952 -0.55606757  0.28666892  0.18239189  0.08700676\n",
      "1953 -0.55606757  0.28666892  0.18239189  0.08700676\n",
      "1954 -0.55606757  0.28666892  0.18239189  0.08700676\n",
      "1955 -0.55606757  0.28666892  0.18239189  0.08700676\n",
      "1956 -0.55606757  0.28666892  0.18239189  0.08700676\n",
      "1957 -0.55606757  0.28666892  0.18239189  0.08700676\n",
      "1958 -0.55606757  0.28666892  0.18239189  0.08700676\n",
      "1959 -0.55606757  0.28666892  0.18239189  0.08700676\n",
      "1960 -0.55606757  0.28666892  0.18239189  0.08700676\n",
      "1961 -0.55606757  0.28666892  0.18239189  0.08700676\n",
      "1962 -0.55606757  0.28666892  0.18239189  0.08700676\n",
      "1963 -0.55606757  0.28666892  0.18239189  0.08700676\n",
      "1964 -0.55606757  0.28666892  0.18239189  0.08700676\n",
      "1965 -0.55606757  0.28666892  0.18239189  0.08700676\n",
      "1966 -0.55606757  0.28666892  0.18239189  0.08700676\n",
      "1967 -0.55606757  0.28666892  0.18239189  0.08700676\n",
      "1968 -0.55606757  0.28666892  0.18239189  0.08700676\n",
      "1969 -0.55606757  0.28666892  0.18239189  0.08700676\n",
      "1970 -0.55606757  0.28666892  0.18239189  0.08700676\n",
      "1971 -0.55606757  0.28666892  0.18239189  0.08700676\n",
      "1972 -0.55606757  0.28666892  0.18239189  0.08700676\n",
      "1973 -0.55606757  0.28666892  0.18239189  0.08700676\n",
      "1974 -0.55606757  0.28666892  0.18239189  0.08700676\n",
      "1975 -0.55606757  0.28666892  0.18239189  0.08700676\n",
      "1976 -0.55606757  0.28666892  0.18239189  0.08700676\n",
      "1977 -0.55606757  0.28666892  0.18239189  0.08700676\n",
      "1978 -0.55606757  0.28666892  0.18239189  0.08700676\n",
      "1979 -0.55606757  0.28666892  0.18239189  0.08700676\n",
      "1980 -0.55606757  0.28666892  0.18239189  0.08700676\n",
      "1981 -0.55606757  0.28666892  0.18239189  0.08700676\n",
      "1982 -0.55606757  0.28666892  0.18239189  0.08700676\n",
      "1983 -0.55606757  0.28666892  0.18239189  0.08700676\n",
      "1984 -0.55606757  0.28666892  0.18239189  0.08700676\n",
      "1985 -0.55606757  0.28666892  0.18239189  0.08700676\n",
      "1986 -0.55606757  0.28666892  0.18239189  0.08700676\n",
      "1987 -0.55606757  0.28666892  0.18239189  0.08700676\n",
      "1988 -0.55606757  0.28666892  0.18239189  0.08700676\n",
      "1989 -0.55606757  0.28666892  0.18239189  0.08700676\n",
      "1990 -0.55606757  0.28666892  0.18239189  0.08700676\n",
      "1991 -0.55606757  0.28666892  0.18239189  0.08700676\n",
      "1992 -0.55606757  0.28666892  0.18239189  0.08700676\n",
      "1993 -0.55606757  0.28666892  0.18239189  0.08700676\n",
      "1994 -0.55606757  0.28666892  0.18239189  0.08700676\n",
      "1995 -0.55606757  0.28666892  0.18239189  0.08700676\n",
      "1996 -0.55606757  0.28666892  0.18239189  0.08700676\n",
      "1997 -0.55606757  0.28666892  0.18239189  0.08700676\n",
      "1998 -0.55606757  0.28666892  0.18239189  0.08700676\n",
      "1999 -0.55606757  0.28666892  0.18239189  0.08700676\n",
      "2000 -0.55606757  0.28666892  0.18239189  0.08700676\n",
      "2001 -0.55606757  0.28666892  0.18239189  0.08700676\n",
      "2002 -0.55606757  0.28666892  0.18239189  0.08700676\n",
      "2003 -0.55606757  0.28666892  0.18239189  0.08700676\n",
      "2004 -0.55606757  0.28666892  0.18239189  0.08700676\n",
      "2005 -0.55606757  0.28666892  0.18239189  0.08700676\n",
      "2006 -0.55606757  0.28666892  0.18239189  0.08700676\n",
      "2007 -0.55606757  0.28666892  0.18239189  0.08700676\n",
      "2008 -0.55606757  0.28666892  0.18239189  0.08700676\n",
      "2009 -0.55606757  0.28666892  0.18239189  0.08700676\n",
      "2010 -0.55606757  0.28666892  0.18239189  0.08700676\n",
      "2011 -0.55606757  0.28666892  0.18239189  0.08700676\n",
      "2012 -0.55606757  0.28666892  0.18239189  0.08700676\n",
      "2013 -0.55606757  0.28666892  0.18239189  0.08700676\n",
      "2014 -0.55606757  0.28666892  0.18239189  0.08700676\n",
      "2015 -0.55606757  0.28666892  0.18239189  0.08700676\n",
      "2016 -0.55606757  0.28666892  0.18239189  0.08700676\n",
      "2017 -0.55606757  0.28666892  0.18239189  0.08700676\n",
      "2018 -0.55606757  0.28666892  0.18239189  0.08700676\n",
      "2019 -0.55606757  0.28666892  0.18239189  0.08700676\n",
      "2020 -0.55606757  0.28666892  0.18239189  0.08700676\n",
      "2021 -0.55606757  0.28666892  0.18239189  0.08700676\n",
      "2022 -0.55606757                                    \n",
      "\n",
      "$trend\n",
      "         Qtr1     Qtr2     Qtr3     Qtr4\n",
      "1947       NA       NA   6.0000   6.7125\n",
      "1948   7.4375   8.1250   8.8250   9.5625\n",
      "1949  10.3375  11.0250  11.3750  11.4000\n",
      "1950  11.3500  11.3875  11.9750  13.3875\n",
      "1951  15.4500  18.1000  20.7250  22.6375\n",
      "1952  23.8625  24.4750  24.9250  25.5875\n",
      "1953  26.2250  26.5750  26.6375  26.4625\n",
      "1954  26.0125  25.5500  25.0875  24.6625\n",
      "1955  24.4750  24.4000  24.5625  24.9750\n",
      "1956  25.6375  26.6250  27.7000  28.6125\n",
      "1957  29.3500  29.9625  30.4125  30.8875\n",
      "1958  31.4625  32.1875  33.2375  34.3750\n",
      "1959  35.3000  35.7750  35.7125  35.4500\n",
      "1960  35.4125  35.7500  36.5625  37.5375\n",
      "1961  38.3375  39.3125  40.2000  40.9250\n",
      "1962  41.7500  42.3875  42.7875  43.1625\n",
      "1963  43.7125  44.2500  44.7625  45.4375\n",
      "1964  45.9000  46.2000  46.4500  46.5500\n",
      "1965  46.8875  47.5250  48.5875  49.9250\n",
      "1966  51.2125  52.7125  54.3000  55.6375\n",
      "1967  56.6875  57.4125  57.7375  58.1625\n",
      "1968  58.7250  59.0875  59.6375  60.0500\n",
      "1969  60.1250  59.8500  59.2125  58.7875\n",
      "1970  58.7125  59.2625  59.6625  59.4875\n",
      "1971  59.3000  58.8500  58.7625  59.3250\n",
      "1972  59.6500  60.1625  61.4500  62.8000\n",
      "1973  64.0500  65.1750  66.2250  68.1375\n",
      "1974  71.1500  74.5125  77.6750  79.5750\n",
      "1975  80.8875  83.1000  85.6375  88.1000\n",
      "1976  89.7250  89.8875  89.4625  89.9250\n",
      "1977  91.1875  92.4750  93.4125  95.0250\n",
      "1978  98.3875 102.9875 107.6000 111.1125\n",
      "1979 114.5625 118.3125 123.3500 128.8250\n",
      "1980 132.1750 134.6250 137.2875 139.9500\n",
      "1981 142.6875 145.7250 147.8250 149.6875\n",
      "1982 152.5375 155.4750 158.7625 161.9125\n",
      "1983 165.3875 169.3500 173.6000 178.8250\n",
      "1984 184.0375 189.8250 196.2250 202.8625\n",
      "1985 210.5375 217.2500 222.4875 227.0750\n",
      "1986 231.5000 236.0000 240.4125 245.1375\n",
      "1987 249.1000 252.6625 255.3750 256.6875\n",
      "1988 257.2500 257.8125 259.6875 262.1000\n",
      "1989 265.3375 268.9250 273.2750 278.7875\n",
      "1990 283.5000 287.9625 290.8875 292.3875\n",
      "1991 293.9000 294.2625 295.1250 296.3125\n",
      "1992 296.2125 296.0375 294.7250 292.8625\n",
      "1993 291.9500 291.7125 291.3000 290.3375\n",
      "1994 291.4000 293.5000 297.0875 302.5125\n",
      "1995 305.6500 306.9875 308.9250 311.0750\n",
      "1996 313.7375 317.7125 320.2625 321.3500\n",
      "1997 323.4375 325.6875 328.1125 331.7375\n",
      "1998 336.7125 341.7750 347.2375 353.1500\n",
      "1999 357.8000 364.1250 372.4875 379.4125\n",
      "2000 384.3500 387.6125 390.3125 395.9125\n",
      "2001 402.2125 408.1375 416.1250 422.7875\n",
      "2002 430.6750 439.9000 446.4750 451.7625\n",
      "2003 457.0000 461.9875 466.3750 471.6500\n",
      "2004 477.4000 483.1125 489.6125 496.3875\n",
      "2005 503.1500 509.9125 518.0375 528.0000\n",
      "2006 537.3000 546.1500 555.2250 564.2750\n",
      "2007 574.7375 586.2500 596.6875 606.1000\n",
      "2008 616.0625 625.4250 633.1250 639.0375\n",
      "2009 642.3000 643.0375 642.0250 641.3625\n",
      "2010 642.1125 643.5875 645.2750 644.5875\n",
      "2011 641.3375 638.0875 635.0500 632.3250\n",
      "2012 629.2125 624.1375 617.5125 610.4250\n",
      "2013 604.8250 601.6125 599.1750 598.4500\n",
      "2014 599.3875 601.1750 604.9625 610.3375\n",
      "2015 616.3000 620.9500 626.5875 631.9250\n",
      "2016 634.0875 637.4125 641.4875 646.1250\n",
      "2017 653.0875 662.6250 673.7375 685.7000\n",
      "2018 698.7250 708.5375 718.0125 728.0625\n",
      "2019 736.2250 745.8250 755.6250 765.3000\n",
      "2020 774.8500 784.8750 792.5750 795.9875\n",
      "2021 799.9000 804.7250 810.9125       NA\n",
      "2022       NA                           \n",
      "\n",
      "$random\n",
      "              Qtr1          Qtr2          Qtr3          Qtr4\n",
      "1947            NA            NA -8.239189e-02 -1.995068e-01\n",
      "1948  6.185676e-01 -2.116689e-01 -2.073919e-01 -2.495068e-01\n",
      "1949  5.185676e-01 -1.166892e-02  3.426081e-01  3.129932e-01\n",
      "1950 -9.393243e-02 -5.741689e-01 -4.573919e-01 -1.174507e+00\n",
      "1951  6.067568e-03 -1.866689e-01  1.926081e-01  1.375493e+00\n",
      "1952  7.935676e-01 -4.616689e-01 -3.073919e-01 -3.745068e-01\n",
      "1953  8.310676e-01  3.383311e-01  1.801081e-01 -6.495068e-01\n",
      "1954  9.435676e-01  6.333108e-02 -5.698919e-01 -2.495068e-01\n",
      "1955  1.810676e-01  1.133311e-01 -4.448919e-01 -7.620068e-01\n",
      "1956  5.185676e-01 -3.116689e-01 -8.239189e-02  4.932432e-04\n",
      "1957  1.006068e+00 -5.491689e-01  5.108108e-03 -1.745068e-01\n",
      "1958  3.935676e-01 -4.741689e-01 -5.198919e-01 -1.620068e-01\n",
      "1959  1.456068e+00  1.383311e-01  2.051081e-01 -6.370068e-01\n",
      "1960  2.435676e-01 -8.366689e-01  5.510811e-02 -7.245068e-01\n",
      "1961  1.818568e+00 -1.099169e+00 -4.823919e-01  5.879932e-01\n",
      "1962  8.060676e-01 -7.741689e-01  1.301081e-01  2.504932e-01\n",
      "1963  1.435676e-01 -9.366689e-01  8.551081e-01 -4.245068e-01\n",
      "1964  4.560676e-01  1.333108e-02 -3.239189e-02  6.299324e-02\n",
      "1965 -1.314324e-01 -9.116689e-01  1.301081e-01 -5.120068e-01\n",
      "1966  1.243568e+00 -1.099169e+00 -2.823919e-01  4.754932e-01\n",
      "1967  1.768568e+00 -1.099169e+00 -1.989189e-02  5.049324e-02\n",
      "1968  2.310676e-01  1.258311e-01 -3.198919e-01 -5.370068e-01\n",
      "1969  1.931068e+00 -4.366689e-01  5.051081e-01 -1.874507e+00\n",
      "1970  8.435676e-01 -7.491689e-01  3.551081e-01  1.525493e+00\n",
      "1971 -6.439324e-01 -8.366689e-01  2.551081e-01 -9.120068e-01\n",
      "1972  9.060676e-01  4.508311e-01 -2.432392e+00 -2.870068e-01\n",
      "1973  2.706068e+00  3.833108e-02 -1.807392e+00 -2.024507e+00\n",
      "1974  4.060676e-01  1.200831e+00  3.426081e-01 -1.620068e-01\n",
      "1975  2.668568e+00 -4.186669e+00 -3.198919e-01  1.712993e+00\n",
      "1976  3.731068e+00 -1.174169e+00 -9.448919e-01 -2.012007e+00\n",
      "1977  7.685676e-01  1.438331e+00  5.108108e-03 -1.712007e+00\n",
      "1978 -4.331432e+00  1.725831e+00  1.917608e+00  2.900493e+00\n",
      "1979 -4.306432e+00 -1.699169e+00  1.867608e+00 -5.120068e-01\n",
      "1980  4.081068e+00 -2.116689e-01 -3.069892e+00 -1.037007e+00\n",
      "1981  4.268568e+00 -7.116689e-01 -2.307392e+00  2.225493e+00\n",
      "1982 -1.781432e+00  6.383311e-01 -1.544892e+00  1.800493e+00\n",
      "1983 -1.314324e-01 -2.536669e+00  7.176081e-01 -5.120068e-01\n",
      "1984  6.185676e-01 -6.116689e-01 -2.607392e+00  2.450493e+00\n",
      "1985 -1.681432e+00  8.633311e-01  3.630108e+00 -5.620068e-01\n",
      "1986 -1.943932e+00 -1.886669e+00  5.105108e+00 -2.024507e+00\n",
      "1987 -8.439324e-01  5.508311e-01  2.742608e+00  2.325493e+00\n",
      "1988 -3.193932e+00  1.008311e-01 -1.769892e+00  1.612993e+00\n",
      "1989 -9.814324e-01 -2.011669e+00  1.542608e+00 -3.274507e+00\n",
      "1990  3.856068e+00  5.083108e-02  5.301081e-01  2.225493e+00\n",
      "1991 -2.243932e+00  1.450831e+00  6.926081e-01 -3.199507e+00\n",
      "1992  3.843568e+00  7.758311e-01 -8.073919e-01  7.504932e-01\n",
      "1993 -2.893932e+00  1.200831e+00 -7.823919e-01  4.775493e+00\n",
      "1994 -7.143932e+00 -3.486669e+00  4.830108e+00 -1.999507e+00\n",
      "1995  1.906068e+00  3.125831e+00 -2.007392e+00 -4.862007e+00\n",
      "1996  3.618568e+00 -1.991689e-01  5.551081e-01  2.762993e+00\n",
      "1997 -3.581432e+00 -1.974169e+00  3.205108e+00 -1.245068e-01\n",
      "1998 -4.956432e+00 -9.616689e-01  6.780108e+00 -3.737007e+00\n",
      "1999 -1.439324e-01 -1.911669e+00 -2.669892e+00  4.800493e+00\n",
      "2000  5.406068e+00 -2.099169e+00 -4.294892e+00 -1.799507e+00\n",
      "2001 -7.564324e-01  1.047583e+01 -1.280739e+01  1.425493e+00\n",
      "2002  4.581068e+00 -1.786669e+00  4.426081e-01  2.650493e+00\n",
      "2003  6.560676e-01 -3.974169e+00  2.542608e+00  6.629932e-01\n",
      "2004 -2.543932e+00 -9.916892e-02  3.051081e-01  6.254932e-01\n",
      "2005 -9.939324e-01  8.310811e-04 -9.198919e-01 -4.087007e+00\n",
      "2006  2.956068e+00  5.363331e+00 -5.307392e+00 -2.362007e+00\n",
      "2007  1.185676e-01  3.063331e+00 -8.698919e-01  2.012993e+00\n",
      "2008 -3.906432e+00  1.888331e+00  4.392608e+00  2.275493e+00\n",
      "2009 -1.743932e+00  3.175831e+00  2.692608e+00 -1.349507e+00\n",
      "2010 -8.356432e+00  4.125831e+00  3.942608e+00  2.725493e+00\n",
      "2011 -1.381432e+00 -2.074169e+00 -1.323919e-01  3.287993e+00\n",
      "2012 -1.856432e+00  2.675831e+00  1.705108e+00  2.879932e-01\n",
      "2013 -5.568932e+00 -3.399169e+00  3.842608e+00  2.762993e+00\n",
      "2014 -1.013143e+01  1.238331e+00  1.355108e+00  1.875493e+00\n",
      "2015 -7.743932e+00  5.163331e+00  3.730108e+00 -6.512007e+00\n",
      "2016  6.368568e+00 -4.991689e-01 -4.669892e+00 -6.120068e-01\n",
      "2017 -1.314324e-01 -1.111669e+00 -5.819892e+00  5.012993e+00\n",
      "2018 -2.068932e+00  4.975831e+00  2.105108e+00 -1.104951e+01\n",
      "2019  9.931068e+00 -1.411669e+00 -1.107392e+00 -5.887007e+00\n",
      "2020  7.306068e+00  9.383311e-01 -3.057392e+00  8.625493e+00\n",
      "2021 -1.343932e+00 -8.011669e+00 -9.948919e-01            NA\n",
      "2022            NA                                          \n",
      "\n",
      "$figure\n",
      "[1] -0.55606757  0.28666892  0.18239189  0.08700676\n",
      "\n",
      "$type\n",
      "[1] \"additive\"\n",
      "\n",
      "attr(,\"class\")\n",
      "[1] \"decomposed.ts\"\n"
     ]
    }
   ],
   "source": [
    "print(decompose_df_season)"
   ]
  },
  {
   "cell_type": "markdown",
   "id": "9caf0664",
   "metadata": {},
   "source": [
    "Ensuite, nous utiliserons la libraririe forecast pour avoir nos données sans effet saisonier"
   ]
  },
  {
   "cell_type": "code",
   "execution_count": 64,
   "id": "1bc930aa",
   "metadata": {},
   "outputs": [],
   "source": [
    "deseason_gross_gov <- seasadj(decompose_df_season)"
   ]
  },
  {
   "cell_type": "code",
   "execution_count": 84,
   "id": "7df893a9",
   "metadata": {},
   "outputs": [
    {
     "data": {
      "image/png": "[encoded data removed]",
      "text/plain": [
       "plot without title"
      ]
     },
     "metadata": {},
     "output_type": "display_data"
    }
   ],
   "source": [
    "plot(deseason_gross_gov, col=\"blue\")"
   ]
  },
  {
   "cell_type": "markdown",
   "id": "a860f8a2",
   "metadata": {},
   "source": [
    "La série semble explosive, il va falloir la stationnariser en prenant la différence première"
   ]
  },
  {
   "cell_type": "code",
   "execution_count": 87,
   "id": "a25ca236",
   "metadata": {},
   "outputs": [],
   "source": [
    "diff_prem_deseason <- diff(log(deseason_gross_gov), differences=1)"
   ]
  },
  {
   "cell_type": "code",
   "execution_count": 89,
   "id": "f3dd71af",
   "metadata": {},
   "outputs": [
    {
     "name": "stderr",
     "output_type": "stream",
     "text": [
      "ERROR while rich displaying an object: Error in repr_matrix_generic(obj, \"\\n%s%s\\n\", sprintf(\"|%%s\\n|%s|\\n\", : argument formel \"cols\" correspondant à plusieurs arguments fournis\n",
      "\n",
      "Traceback:\n",
      "1. tryCatch(withCallingHandlers({\n",
      " .     if (!mime %in% names(repr::mime2repr)) \n",
      " .         stop(\"No repr_* for mimetype \", mime, \" in repr::mime2repr\")\n",
      " .     rpr <- repr::mime2repr[[mime]](obj)\n",
      " .     if (is.null(rpr)) \n",
      " .         return(NULL)\n",
      " .     prepare_content(is.raw(rpr), rpr)\n",
      " . }, error = error_handler), error = outer_handler)\n",
      "2. tryCatchList(expr, classes, parentenv, handlers)\n",
      "3. tryCatchOne(expr, names, parentenv, handlers[[1L]])\n",
      "4. doTryCatch(return(expr), name, parentenv, handler)\n",
      "5. withCallingHandlers({\n",
      " .     if (!mime %in% names(repr::mime2repr)) \n",
      " .         stop(\"No repr_* for mimetype \", mime, \" in repr::mime2repr\")\n",
      " .     rpr <- repr::mime2repr[[mime]](obj)\n",
      " .     if (is.null(rpr)) \n",
      " .         return(NULL)\n",
      " .     prepare_content(is.raw(rpr), rpr)\n",
      " . }, error = error_handler)\n",
      "6. repr::mime2repr[[mime]](obj)\n",
      "7. repr_markdown.ts(obj)\n",
      "8. repr_ts_generic(obj, repr_markdown.matrix, ...)\n",
      "9. repr_func(m, ..., rows = nrow(m), cols = ncol(m))\n"
     ]
    },
    {
     "data": {
      "text/html": [
       "<table>\n",
       "<thead><tr><th></th><th scope=col>Qtr1</th><th scope=col>Qtr2</th><th scope=col>Qtr3</th><th scope=col>Qtr4</th></tr></thead>\n",
       "<tbody>\n",
       "\t<tr><th scope=row>1947</th><td>             </td><td>-1.253389e-01</td><td> 2.065430e-01</td><td> 9.586681e-02</td></tr>\n",
       "\t<tr><th scope=row>1948</th><td> 2.126264e-01</td><td>-1.787673e-02</td><td> 8.525875e-02</td><td> 7.760298e-02</td></tr>\n",
       "\t<tr><th scope=row>1949</th><td> 1.533136e-01</td><td> 1.438231e-02</td><td> 6.198622e-02</td><td>-3.939178e-04</td></tr>\n",
       "\t<tr><th scope=row>1950</th><td>-3.979144e-02</td><td>-4.012759e-02</td><td> 6.309727e-02</td><td> 5.862340e-02</td></tr>\n",
       "\t<tr><th scope=row>1951</th><td> 2.355012e-01</td><td> 1.475435e-01</td><td> 1.550461e-01</td><td> 1.380038e-01</td></tr>\n",
       "\t<tr><th scope=row>1952</th><td> 2.642795e-02</td><td>-2.641388e-02</td><td> 2.485283e-02</td><td> 2.389750e-02</td></tr>\n",
       "\t<tr><th scope=row>1953</th><td> 7.055182e-02</td><td>-5.289546e-03</td><td>-3.563052e-03</td><td>-3.818071e-02</td></tr>\n",
       "\t<tr><th scope=row>1954</th><td> 4.333043e-02</td><td>-5.109545e-02</td><td>-4.372140e-02</td><td>-4.276057e-03</td></tr>\n",
       "\t<tr><th scope=row>1955</th><td> 9.907518e-03</td><td>-5.805924e-03</td><td>-1.627489e-02</td><td> 3.947199e-03</td></tr>\n",
       "\t<tr><th scope=row>1956</th><td> 7.719179e-02</td><td> 5.994503e-03</td><td> 4.837785e-02</td><td> 3.540738e-02</td></tr>\n",
       "\t<tr><th scope=row>1957</th><td> 5.913549e-02</td><td>-3.154841e-02</td><td> 3.357365e-02</td><td> 9.664143e-03</td></tr>\n",
       "\t<tr><th scope=row>1958</th><td> 3.654207e-02</td><td>-4.490737e-03</td><td> 3.117628e-02</td><td> 4.469208e-02</td></tr>\n",
       "\t<tr><th scope=row>1959</th><td> 7.169782e-02</td><td>-2.319475e-02</td><td> 1.190859e-04</td><td>-3.123697e-02</td></tr>\n",
       "\t<tr><th scope=row>1960</th><td> 2.392864e-02</td><td>-2.105059e-02</td><td> 4.766048e-02</td><td> 5.321640e-03</td></tr>\n",
       "\t<tr><th scope=row>1961</th><td> 8.692269e-02</td><td>-4.958912e-02</td><td> 3.861018e-02</td><td> 4.421185e-02</td></tr>\n",
       "\t<tr><th scope=row>1962</th><td> 2.481597e-02</td><td>-2.240187e-02</td><td> 3.086161e-02</td><td> 1.147659e-02</td></tr>\n",
       "\t<tr><th scope=row>1963</th><td> 1.015430e-02</td><td>-1.245262e-02</td><td> 5.183332e-02</td><td>-1.334260e-02</td></tr>\n",
       "\t<tr><th scope=row>1964</th><td> 2.940100e-02</td><td>-3.083883e-03</td><td> 4.410564e-03</td><td> 4.200455e-03</td></tr>\n",
       "\t<tr><th scope=row>1965</th><td> 3.064708e-03</td><td>-3.057460e-03</td><td> 4.415395e-02</td><td> 1.417288e-02</td></tr>\n",
       "\t<tr><th scope=row>1966</th><td> 5.976260e-02</td><td>-1.619602e-02</td><td> 4.553008e-02</td><td> 3.805732e-02</td></tr>\n",
       "\t<tr><th scope=row>1967</th><td> 4.090810e-02</td><td>-3.734420e-02</td><td> 2.463100e-02</td><td> 8.546288e-03</td></tr>\n",
       "\t<tr><th scope=row>1968</th><td> 1.268397e-02</td><td> 4.354155e-03</td><td> 1.759491e-03</td><td> 3.288468e-03</td></tr>\n",
       "\t<tr><th scope=row>1969</th><td> 4.184363e-02</td><td>-4.351966e-02</td><td> 5.108290e-03</td><td>-4.810325e-02</td></tr>\n",
       "\t<tr><th scope=row>1970</th><td> 4.539451e-02</td><td>-1.766357e-02</td><td> 2.538338e-02</td><td> 1.644886e-02</td></tr>\n",
       "\t<tr><th scope=row>1971</th><td>-3.939582e-02</td><td>-1.101819e-02</td><td> 1.716301e-02</td><td>-1.029749e-02</td></tr>\n",
       "\t<tr><th scope=row>1972</th><td> 3.603132e-02</td><td> 9.451812e-04</td><td>-2.667901e-02</td><td> 5.753859e-02</td></tr>\n",
       "\t<tr><th scope=row>1973</th><td> 6.567077e-02</td><td>-2.338128e-02</td><td>-1.227690e-02</td><td> 2.597828e-02</td></tr>\n",
       "\t<tr><th scope=row>1974</th><td> 7.911601e-02</td><td> 5.647294e-02</td><td> 2.998030e-02</td><td> 1.772745e-02</td></tr>\n",
       "\t<tr><th scope=row>1975</th><td> 5.085588e-02</td><td>-5.716770e-02</td><td> 7.803068e-02</td><td> 5.134880e-02</td></tr>\n",
       "\t<tr><th scope=row>1976</th><td> 3.976180e-02</td><td>-5.208129e-02</td><td>-2.208678e-03</td><td>-6.853882e-03</td></tr>\n",
       "\t<tr><th scope=row>1977</th><td> 4.496332e-02</td><td> 2.106141e-02</td><td>-5.292496e-03</td><td>-1.120490e-03</td></tr>\n",
       "\t<tr><th scope=row>1978</th><td> 7.931707e-03</td><td> 1.073354e-01</td><td> 4.485890e-02</td><td> 4.022708e-02</td></tr>\n",
       "\t<tr><th scope=row>1979</th><td>-3.350687e-02</td><td> 5.605805e-02</td><td> 7.118949e-02</td><td> 2.441945e-02</td></tr>\n",
       "\t<tr><th scope=row>1980</th><td> 6.006343e-02</td><td>-1.361635e-02</td><td>-1.457189e-03</td><td> 3.438537e-02</td></tr>\n",
       "\t<tr><th scope=row>1981</th><td> 5.628589e-02</td><td>-1.330801e-02</td><td> 3.471421e-03</td><td> 4.301085e-02</td></tr>\n",
       "\t<tr><th scope=row>1982</th><td>-7.644860e-03</td><td> 3.491914e-02</td><td> 7.048660e-03</td><td> 4.048397e-02</td></tr>\n",
       "\t<tr><th scope=row>1983</th><td> 9.381342e-03</td><td> 9.379214e-03</td><td> 4.400356e-02</td><td> 2.266143e-02</td></tr>\n",
       "\t<tr><th scope=row>1984</th><td> 3.495461e-02</td><td> 2.438011e-02</td><td> 2.301001e-02</td><td> 5.865049e-02</td></tr>\n",
       "\t<tr><th scope=row>1985</th><td> 1.710973e-02</td><td> 4.336945e-02</td><td> 3.604046e-02</td><td> 1.747055e-03</td></tr>\n",
       "\t<tr><th scope=row>1986</th><td> 1.334499e-02</td><td> 1.965802e-02</td><td> 4.756335e-02</td><td>-9.842340e-03</td></tr>\n",
       "\t<tr><th scope=row>1987</th><td> 2.093442e-02</td><td> 1.977160e-02</td><td> 1.918299e-02</td><td> 3.462901e-03</td></tr>\n",
       "\t<tr><th scope=row>1988</th><td>-1.932325e-02</td><td> 1.506862e-02</td><td> 1.658306e-05</td><td> 2.222118e-02</td></tr>\n",
       "\t<tr><th scope=row>1989</th><td> 2.435570e-03</td><td> 9.627068e-03</td><td> 2.918363e-02</td><td> 2.527156e-03</td></tr>\n",
       "\t<tr><th scope=row>1990</th><td> 4.208731e-02</td><td> 2.284667e-03</td><td> 1.175055e-02</td><td> 1.090529e-02</td></tr>\n",
       "\t<tr><th scope=row>1991</th><td>-1.008735e-02</td><td> 1.381525e-02</td><td> 3.525666e-04</td><td>-9.184898e-03</td></tr>\n",
       "\t<tr><th scope=row>1992</th><td> 2.341117e-02</td><td>-1.086592e-02</td><td>-9.803943e-03</td><td>-1.036933e-03</td></tr>\n",
       "\t<tr><th scope=row>1993</th><td>-1.564188e-02</td><td> 1.325609e-02</td><td>-8.212579e-03</td><td> 1.569412e-02</td></tr>\n",
       "\t<tr><th scope=row>1994</th><td>-3.748283e-02</td><td> 2.005141e-02</td><td> 4.022727e-02</td><td>-4.663168e-03</td></tr>\n",
       "\t<tr><th scope=row>1995</th><td> 2.316641e-02</td><td> 8.280411e-03</td><td>-1.035848e-02</td><td>-2.298418e-03</td></tr>\n",
       "\t<tr><th scope=row>1996</th><td> 3.574347e-02</td><td> 4.954201e-04</td><td> 1.035296e-02</td><td> 1.021944e-02</td></tr>\n",
       "\t<tr><th scope=row>1997</th><td>-1.322109e-02</td><td> 1.198724e-02</td><td> 2.321911e-02</td><td> 8.911496e-04</td></tr>\n",
       "\t<tr><th scope=row>1998</th><td> 4.313566e-04</td><td> 2.693495e-02</td><td> 3.801174e-02</td><td>-1.309207e-02</td></tr>\n",
       "\t<tr><th scope=row>1999</th><td> 2.331724e-02</td><td> 1.266153e-02</td><td> 2.077658e-02</td><td> 3.818714e-02</td></tr>\n",
       "\t<tr><th scope=row>2000</th><td> 1.432401e-02</td><td>-1.094530e-02</td><td> 1.307212e-03</td><td> 2.075467e-02</td></tr>\n",
       "\t<tr><th scope=row>2001</th><td> 1.846045e-02</td><td> 4.184955e-02</td><td>-3.722330e-02</td><td> 5.051131e-02</td></tr>\n",
       "\t<tr><th scope=row>2002</th><td> 2.569885e-02</td><td> 6.543105e-03</td><td> 1.989663e-02</td><td> 1.663221e-02</td></tr>\n",
       "\t<tr><th scope=row>2003</th><td> 7.111497e-03</td><td> 7.803330e-04</td><td> 2.352879e-02</td><td> 7.214810e-03</td></tr>\n",
       "\t<tr><th scope=row>2004</th><td> 5.369855e-03</td><td> 1.703251e-02</td><td> 1.419298e-02</td><td> 1.437894e-02</td></tr>\n",
       "\t<tr><th scope=row>2005</th><td> 1.029479e-02</td><td> 1.532981e-02</td><td> 1.402956e-02</td><td> 1.305530e-02</td></tr>\n",
       "\t<tr><th scope=row>2006</th><td> 3.071760e-02</td><td> 2.062278e-02</td><td>-2.897547e-03</td><td> 2.157856e-02</td></tr>\n",
       "\t<tr><th scope=row>2007</th><td> 2.277267e-02</td><td> 2.483832e-02</td><td> 1.097658e-02</td><td> 2.042612e-02</td></tr>\n",
       "\t<tr><th scope=row>2008</th><td> 6.626554e-03</td><td> 2.445888e-02</td><td> 1.613575e-02</td><td> 5.935730e-03</td></tr>\n",
       "\t<tr><th scope=row>2009</th><td>-1.180972e-03</td><td> 8.793028e-03</td><td>-2.317279e-03</td><td>-7.323926e-03</td></tr>\n",
       "\t<tr><th scope=row>2010</th><td>-9.824349e-03</td><td> 2.178408e-02</td><td> 2.319750e-03</td><td>-2.938020e-03</td></tr>\n",
       "\t<tr><th scope=row>2011</th><td>-1.143041e-02</td><td>-6.180006e-03</td><td>-1.724284e-03</td><td> 1.094637e-03</td></tr>\n",
       "\t<tr><th scope=row>2012</th><td>-1.307561e-02</td><td>-8.654916e-04</td><td>-1.219202e-02</td><td>-1.382964e-02</td></tr>\n",
       "\t<tr><th scope=row>2013</th><td>-1.893812e-02</td><td>-1.741567e-03</td><td> 7.998966e-03</td><td>-2.997127e-03</td></tr>\n",
       "\t<tr><th scope=row>2014</th><td>-2.008843e-02</td><td> 2.208297e-02</td><td> 6.460148e-03</td><td> 9.676296e-03</td></tr>\n",
       "\t<tr><th scope=row>2015</th><td>-5.991201e-03</td><td> 2.844235e-02</td><td> 6.692437e-03</td><td>-7.811612e-03</td></tr>\n",
       "\t<tr><th scope=row>2016</th><td> 2.376831e-02</td><td>-5.546940e-03</td><td>-1.503033e-04</td><td> 1.356205e-02</td></tr>\n",
       "\t<tr><th scope=row>2017</th><td> 1.146451e-02</td><td> 1.302029e-02</td><td> 9.634689e-03</td><td> 3.355956e-02</td></tr>\n",
       "\t<tr><th scope=row>2018</th><td> 8.567455e-03</td><td> 2.390928e-02</td><td> 9.213422e-03</td><td>-4.320581e-03</td></tr>\n",
       "\t<tr><th scope=row>2019</th><td> 3.984082e-02</td><td>-2.338351e-03</td><td> 1.348218e-02</td><td> 6.467142e-03</td></tr>\n",
       "\t<tr><th scope=row>2020</th><td> 2.950854e-02</td><td> 4.664976e-03</td><td> 4.702864e-03</td><td> 1.893927e-02</td></tr>\n",
       "\t<tr><th scope=row>2021</th><td>-7.556227e-03</td><td>-2.310252e-03</td><td> 1.643759e-02</td><td> 1.579643e-02</td></tr>\n",
       "\t<tr><th scope=row>2022</th><td> 8.523324e-03</td><td>             </td><td>             </td><td>             </td></tr>\n",
       "</tbody>\n",
       "</table>\n"
      ],
      "text/latex": [
       "\\begin{tabular}{r|llll}\n",
       "  & Qtr1 & Qtr2 & Qtr3 & Qtr4\\\\\n",
       "\\hline\n",
       "\t1947 &               & -1.253389e-01 &  2.065430e-01 &  9.586681e-02\\\\\n",
       "\t1948 &  2.126264e-01 & -1.787673e-02 &  8.525875e-02 &  7.760298e-02\\\\\n",
       "\t1949 &  1.533136e-01 &  1.438231e-02 &  6.198622e-02 & -3.939178e-04\\\\\n",
       "\t1950 & -3.979144e-02 & -4.012759e-02 &  6.309727e-02 &  5.862340e-02\\\\\n",
       "\t1951 &  2.355012e-01 &  1.475435e-01 &  1.550461e-01 &  1.380038e-01\\\\\n",
       "\t1952 &  2.642795e-02 & -2.641388e-02 &  2.485283e-02 &  2.389750e-02\\\\\n",
       "\t1953 &  7.055182e-02 & -5.289546e-03 & -3.563052e-03 & -3.818071e-02\\\\\n",
       "\t1954 &  4.333043e-02 & -5.109545e-02 & -4.372140e-02 & -4.276057e-03\\\\\n",
       "\t1955 &  9.907518e-03 & -5.805924e-03 & -1.627489e-02 &  3.947199e-03\\\\\n",
       "\t1956 &  7.719179e-02 &  5.994503e-03 &  4.837785e-02 &  3.540738e-02\\\\\n",
       "\t1957 &  5.913549e-02 & -3.154841e-02 &  3.357365e-02 &  9.664143e-03\\\\\n",
       "\t1958 &  3.654207e-02 & -4.490737e-03 &  3.117628e-02 &  4.469208e-02\\\\\n",
       "\t1959 &  7.169782e-02 & -2.319475e-02 &  1.190859e-04 & -3.123697e-02\\\\\n",
       "\t1960 &  2.392864e-02 & -2.105059e-02 &  4.766048e-02 &  5.321640e-03\\\\\n",
       "\t1961 &  8.692269e-02 & -4.958912e-02 &  3.861018e-02 &  4.421185e-02\\\\\n",
       "\t1962 &  2.481597e-02 & -2.240187e-02 &  3.086161e-02 &  1.147659e-02\\\\\n",
       "\t1963 &  1.015430e-02 & -1.245262e-02 &  5.183332e-02 & -1.334260e-02\\\\\n",
       "\t1964 &  2.940100e-02 & -3.083883e-03 &  4.410564e-03 &  4.200455e-03\\\\\n",
       "\t1965 &  3.064708e-03 & -3.057460e-03 &  4.415395e-02 &  1.417288e-02\\\\\n",
       "\t1966 &  5.976260e-02 & -1.619602e-02 &  4.553008e-02 &  3.805732e-02\\\\\n",
       "\t1967 &  4.090810e-02 & -3.734420e-02 &  2.463100e-02 &  8.546288e-03\\\\\n",
       "\t1968 &  1.268397e-02 &  4.354155e-03 &  1.759491e-03 &  3.288468e-03\\\\\n",
       "\t1969 &  4.184363e-02 & -4.351966e-02 &  5.108290e-03 & -4.810325e-02\\\\\n",
       "\t1970 &  4.539451e-02 & -1.766357e-02 &  2.538338e-02 &  1.644886e-02\\\\\n",
       "\t1971 & -3.939582e-02 & -1.101819e-02 &  1.716301e-02 & -1.029749e-02\\\\\n",
       "\t1972 &  3.603132e-02 &  9.451812e-04 & -2.667901e-02 &  5.753859e-02\\\\\n",
       "\t1973 &  6.567077e-02 & -2.338128e-02 & -1.227690e-02 &  2.597828e-02\\\\\n",
       "\t1974 &  7.911601e-02 &  5.647294e-02 &  2.998030e-02 &  1.772745e-02\\\\\n",
       "\t1975 &  5.085588e-02 & -5.716770e-02 &  7.803068e-02 &  5.134880e-02\\\\\n",
       "\t1976 &  3.976180e-02 & -5.208129e-02 & -2.208678e-03 & -6.853882e-03\\\\\n",
       "\t1977 &  4.496332e-02 &  2.106141e-02 & -5.292496e-03 & -1.120490e-03\\\\\n",
       "\t1978 &  7.931707e-03 &  1.073354e-01 &  4.485890e-02 &  4.022708e-02\\\\\n",
       "\t1979 & -3.350687e-02 &  5.605805e-02 &  7.118949e-02 &  2.441945e-02\\\\\n",
       "\t1980 &  6.006343e-02 & -1.361635e-02 & -1.457189e-03 &  3.438537e-02\\\\\n",
       "\t1981 &  5.628589e-02 & -1.330801e-02 &  3.471421e-03 &  4.301085e-02\\\\\n",
       "\t1982 & -7.644860e-03 &  3.491914e-02 &  7.048660e-03 &  4.048397e-02\\\\\n",
       "\t1983 &  9.381342e-03 &  9.379214e-03 &  4.400356e-02 &  2.266143e-02\\\\\n",
       "\t1984 &  3.495461e-02 &  2.438011e-02 &  2.301001e-02 &  5.865049e-02\\\\\n",
       "\t1985 &  1.710973e-02 &  4.336945e-02 &  3.604046e-02 &  1.747055e-03\\\\\n",
       "\t1986 &  1.334499e-02 &  1.965802e-02 &  4.756335e-02 & -9.842340e-03\\\\\n",
       "\t1987 &  2.093442e-02 &  1.977160e-02 &  1.918299e-02 &  3.462901e-03\\\\\n",
       "\t1988 & -1.932325e-02 &  1.506862e-02 &  1.658306e-05 &  2.222118e-02\\\\\n",
       "\t1989 &  2.435570e-03 &  9.627068e-03 &  2.918363e-02 &  2.527156e-03\\\\\n",
       "\t1990 &  4.208731e-02 &  2.284667e-03 &  1.175055e-02 &  1.090529e-02\\\\\n",
       "\t1991 & -1.008735e-02 &  1.381525e-02 &  3.525666e-04 & -9.184898e-03\\\\\n",
       "\t1992 &  2.341117e-02 & -1.086592e-02 & -9.803943e-03 & -1.036933e-03\\\\\n",
       "\t1993 & -1.564188e-02 &  1.325609e-02 & -8.212579e-03 &  1.569412e-02\\\\\n",
       "\t1994 & -3.748283e-02 &  2.005141e-02 &  4.022727e-02 & -4.663168e-03\\\\\n",
       "\t1995 &  2.316641e-02 &  8.280411e-03 & -1.035848e-02 & -2.298418e-03\\\\\n",
       "\t1996 &  3.574347e-02 &  4.954201e-04 &  1.035296e-02 &  1.021944e-02\\\\\n",
       "\t1997 & -1.322109e-02 &  1.198724e-02 &  2.321911e-02 &  8.911496e-04\\\\\n",
       "\t1998 &  4.313566e-04 &  2.693495e-02 &  3.801174e-02 & -1.309207e-02\\\\\n",
       "\t1999 &  2.331724e-02 &  1.266153e-02 &  2.077658e-02 &  3.818714e-02\\\\\n",
       "\t2000 &  1.432401e-02 & -1.094530e-02 &  1.307212e-03 &  2.075467e-02\\\\\n",
       "\t2001 &  1.846045e-02 &  4.184955e-02 & -3.722330e-02 &  5.051131e-02\\\\\n",
       "\t2002 &  2.569885e-02 &  6.543105e-03 &  1.989663e-02 &  1.663221e-02\\\\\n",
       "\t2003 &  7.111497e-03 &  7.803330e-04 &  2.352879e-02 &  7.214810e-03\\\\\n",
       "\t2004 &  5.369855e-03 &  1.703251e-02 &  1.419298e-02 &  1.437894e-02\\\\\n",
       "\t2005 &  1.029479e-02 &  1.532981e-02 &  1.402956e-02 &  1.305530e-02\\\\\n",
       "\t2006 &  3.071760e-02 &  2.062278e-02 & -2.897547e-03 &  2.157856e-02\\\\\n",
       "\t2007 &  2.277267e-02 &  2.483832e-02 &  1.097658e-02 &  2.042612e-02\\\\\n",
       "\t2008 &  6.626554e-03 &  2.445888e-02 &  1.613575e-02 &  5.935730e-03\\\\\n",
       "\t2009 & -1.180972e-03 &  8.793028e-03 & -2.317279e-03 & -7.323926e-03\\\\\n",
       "\t2010 & -9.824349e-03 &  2.178408e-02 &  2.319750e-03 & -2.938020e-03\\\\\n",
       "\t2011 & -1.143041e-02 & -6.180006e-03 & -1.724284e-03 &  1.094637e-03\\\\\n",
       "\t2012 & -1.307561e-02 & -8.654916e-04 & -1.219202e-02 & -1.382964e-02\\\\\n",
       "\t2013 & -1.893812e-02 & -1.741567e-03 &  7.998966e-03 & -2.997127e-03\\\\\n",
       "\t2014 & -2.008843e-02 &  2.208297e-02 &  6.460148e-03 &  9.676296e-03\\\\\n",
       "\t2015 & -5.991201e-03 &  2.844235e-02 &  6.692437e-03 & -7.811612e-03\\\\\n",
       "\t2016 &  2.376831e-02 & -5.546940e-03 & -1.503033e-04 &  1.356205e-02\\\\\n",
       "\t2017 &  1.146451e-02 &  1.302029e-02 &  9.634689e-03 &  3.355956e-02\\\\\n",
       "\t2018 &  8.567455e-03 &  2.390928e-02 &  9.213422e-03 & -4.320581e-03\\\\\n",
       "\t2019 &  3.984082e-02 & -2.338351e-03 &  1.348218e-02 &  6.467142e-03\\\\\n",
       "\t2020 &  2.950854e-02 &  4.664976e-03 &  4.702864e-03 &  1.893927e-02\\\\\n",
       "\t2021 & -7.556227e-03 & -2.310252e-03 &  1.643759e-02 &  1.579643e-02\\\\\n",
       "\t2022 &  8.523324e-03 &               &               &              \\\\\n",
       "\\end{tabular}\n"
      ],
      "text/plain": [
       "     Qtr1          Qtr2          Qtr3          Qtr4         \n",
       "1947               -1.253389e-01  2.065430e-01  9.586681e-02\n",
       "1948  2.126264e-01 -1.787673e-02  8.525875e-02  7.760298e-02\n",
       "1949  1.533136e-01  1.438231e-02  6.198622e-02 -3.939178e-04\n",
       "1950 -3.979144e-02 -4.012759e-02  6.309727e-02  5.862340e-02\n",
       "1951  2.355012e-01  1.475435e-01  1.550461e-01  1.380038e-01\n",
       "1952  2.642795e-02 -2.641388e-02  2.485283e-02  2.389750e-02\n",
       "1953  7.055182e-02 -5.289546e-03 -3.563052e-03 -3.818071e-02\n",
       "1954  4.333043e-02 -5.109545e-02 -4.372140e-02 -4.276057e-03\n",
       "1955  9.907518e-03 -5.805924e-03 -1.627489e-02  3.947199e-03\n",
       "1956  7.719179e-02  5.994503e-03  4.837785e-02  3.540738e-02\n",
       "1957  5.913549e-02 -3.154841e-02  3.357365e-02  9.664143e-03\n",
       "1958  3.654207e-02 -4.490737e-03  3.117628e-02  4.469208e-02\n",
       "1959  7.169782e-02 -2.319475e-02  1.190859e-04 -3.123697e-02\n",
       "1960  2.392864e-02 -2.105059e-02  4.766048e-02  5.321640e-03\n",
       "1961  8.692269e-02 -4.958912e-02  3.861018e-02  4.421185e-02\n",
       "1962  2.481597e-02 -2.240187e-02  3.086161e-02  1.147659e-02\n",
       "1963  1.015430e-02 -1.245262e-02  5.183332e-02 -1.334260e-02\n",
       "1964  2.940100e-02 -3.083883e-03  4.410564e-03  4.200455e-03\n",
       "1965  3.064708e-03 -3.057460e-03  4.415395e-02  1.417288e-02\n",
       "1966  5.976260e-02 -1.619602e-02  4.553008e-02  3.805732e-02\n",
       "1967  4.090810e-02 -3.734420e-02  2.463100e-02  8.546288e-03\n",
       "1968  1.268397e-02  4.354155e-03  1.759491e-03  3.288468e-03\n",
       "1969  4.184363e-02 -4.351966e-02  5.108290e-03 -4.810325e-02\n",
       "1970  4.539451e-02 -1.766357e-02  2.538338e-02  1.644886e-02\n",
       "1971 -3.939582e-02 -1.101819e-02  1.716301e-02 -1.029749e-02\n",
       "1972  3.603132e-02  9.451812e-04 -2.667901e-02  5.753859e-02\n",
       "1973  6.567077e-02 -2.338128e-02 -1.227690e-02  2.597828e-02\n",
       "1974  7.911601e-02  5.647294e-02  2.998030e-02  1.772745e-02\n",
       "1975  5.085588e-02 -5.716770e-02  7.803068e-02  5.134880e-02\n",
       "1976  3.976180e-02 -5.208129e-02 -2.208678e-03 -6.853882e-03\n",
       "1977  4.496332e-02  2.106141e-02 -5.292496e-03 -1.120490e-03\n",
       "1978  7.931707e-03  1.073354e-01  4.485890e-02  4.022708e-02\n",
       "1979 -3.350687e-02  5.605805e-02  7.118949e-02  2.441945e-02\n",
       "1980  6.006343e-02 -1.361635e-02 -1.457189e-03  3.438537e-02\n",
       "1981  5.628589e-02 -1.330801e-02  3.471421e-03  4.301085e-02\n",
       "1982 -7.644860e-03  3.491914e-02  7.048660e-03  4.048397e-02\n",
       "1983  9.381342e-03  9.379214e-03  4.400356e-02  2.266143e-02\n",
       "1984  3.495461e-02  2.438011e-02  2.301001e-02  5.865049e-02\n",
       "1985  1.710973e-02  4.336945e-02  3.604046e-02  1.747055e-03\n",
       "1986  1.334499e-02  1.965802e-02  4.756335e-02 -9.842340e-03\n",
       "1987  2.093442e-02  1.977160e-02  1.918299e-02  3.462901e-03\n",
       "1988 -1.932325e-02  1.506862e-02  1.658306e-05  2.222118e-02\n",
       "1989  2.435570e-03  9.627068e-03  2.918363e-02  2.527156e-03\n",
       "1990  4.208731e-02  2.284667e-03  1.175055e-02  1.090529e-02\n",
       "1991 -1.008735e-02  1.381525e-02  3.525666e-04 -9.184898e-03\n",
       "1992  2.341117e-02 -1.086592e-02 -9.803943e-03 -1.036933e-03\n",
       "1993 -1.564188e-02  1.325609e-02 -8.212579e-03  1.569412e-02\n",
       "1994 -3.748283e-02  2.005141e-02  4.022727e-02 -4.663168e-03\n",
       "1995  2.316641e-02  8.280411e-03 -1.035848e-02 -2.298418e-03\n",
       "1996  3.574347e-02  4.954201e-04  1.035296e-02  1.021944e-02\n",
       "1997 -1.322109e-02  1.198724e-02  2.321911e-02  8.911496e-04\n",
       "1998  4.313566e-04  2.693495e-02  3.801174e-02 -1.309207e-02\n",
       "1999  2.331724e-02  1.266153e-02  2.077658e-02  3.818714e-02\n",
       "2000  1.432401e-02 -1.094530e-02  1.307212e-03  2.075467e-02\n",
       "2001  1.846045e-02  4.184955e-02 -3.722330e-02  5.051131e-02\n",
       "2002  2.569885e-02  6.543105e-03  1.989663e-02  1.663221e-02\n",
       "2003  7.111497e-03  7.803330e-04  2.352879e-02  7.214810e-03\n",
       "2004  5.369855e-03  1.703251e-02  1.419298e-02  1.437894e-02\n",
       "2005  1.029479e-02  1.532981e-02  1.402956e-02  1.305530e-02\n",
       "2006  3.071760e-02  2.062278e-02 -2.897547e-03  2.157856e-02\n",
       "2007  2.277267e-02  2.483832e-02  1.097658e-02  2.042612e-02\n",
       "2008  6.626554e-03  2.445888e-02  1.613575e-02  5.935730e-03\n",
       "2009 -1.180972e-03  8.793028e-03 -2.317279e-03 -7.323926e-03\n",
       "2010 -9.824349e-03  2.178408e-02  2.319750e-03 -2.938020e-03\n",
       "2011 -1.143041e-02 -6.180006e-03 -1.724284e-03  1.094637e-03\n",
       "2012 -1.307561e-02 -8.654916e-04 -1.219202e-02 -1.382964e-02\n",
       "2013 -1.893812e-02 -1.741567e-03  7.998966e-03 -2.997127e-03\n",
       "2014 -2.008843e-02  2.208297e-02  6.460148e-03  9.676296e-03\n",
       "2015 -5.991201e-03  2.844235e-02  6.692437e-03 -7.811612e-03\n",
       "2016  2.376831e-02 -5.546940e-03 -1.503033e-04  1.356205e-02\n",
       "2017  1.146451e-02  1.302029e-02  9.634689e-03  3.355956e-02\n",
       "2018  8.567455e-03  2.390928e-02  9.213422e-03 -4.320581e-03\n",
       "2019  3.984082e-02 -2.338351e-03  1.348218e-02  6.467142e-03\n",
       "2020  2.950854e-02  4.664976e-03  4.702864e-03  1.893927e-02\n",
       "2021 -7.556227e-03 -2.310252e-03  1.643759e-02  1.579643e-02\n",
       "2022  8.523324e-03                                          "
      ]
     },
     "metadata": {},
     "output_type": "display_data"
    }
   ],
   "source": [
    "diff_prem_deseason"
   ]
  },
  {
   "cell_type": "code",
   "execution_count": 91,
   "id": "d013d848",
   "metadata": {},
   "outputs": [
    {
     "data": {
      "image/png": "[encoded data removed]",
      "text/plain": [
       "plot without title"
      ]
     },
     "metadata": {},
     "output_type": "display_data"
    }
   ],
   "source": [
    "plot(diff_prem_deseason, col=\"blue\")"
   ]
  },
  {
   "cell_type": "code",
   "execution_count": 93,
   "id": "3de13ff7",
   "metadata": {},
   "outputs": [
    {
     "name": "stderr",
     "output_type": "stream",
     "text": [
      "Warning message in adf.test(diff_prem_deseason, alternative = \"stationary\"):\n",
      "\"p-value smaller than printed p-value\""
     ]
    },
    {
     "data": {
      "text/plain": [
       "\n",
       "\tAugmented Dickey-Fuller Test\n",
       "\n",
       "data:  diff_prem_deseason\n",
       "Dickey-Fuller = -6.5356, Lag order = 6, p-value = 0.01\n",
       "alternative hypothesis: stationary\n"
      ]
     },
     "metadata": {},
     "output_type": "display_data"
    }
   ],
   "source": [
    "##test fuuler\n",
    "\n",
    "adf.test(diff_prem_deseason, alternative=\"stationary\") #test de statinnarité rejeté car p-value=0.01< 5%, donc l'hypothèse de stationnarité"
   ]
  },
  {
   "cell_type": "markdown",
   "id": "3c9107b1",
   "metadata": {},
   "source": [
    "La série est donc stationnaire, le test de dickey-füler est validé"
   ]
  },
  {
   "cell_type": "code",
   "execution_count": 96,
   "id": "8c9e6a04",
   "metadata": {},
   "outputs": [
    {
     "data": {
      "image/png": "[encoded data removed]",
      "text/plain": [
       "Plot with title \"autocorrélation de la série sans effet saisonier\""
      ]
     },
     "metadata": {},
     "output_type": "display_data"
    }
   ],
   "source": [
    "acf(diff_prem_deseason,  main=\"autocorrélation de la série sans effet saisonier\")"
   ]
  },
  {
   "cell_type": "code",
   "execution_count": 97,
   "id": "ebd12480",
   "metadata": {},
   "outputs": [
    {
     "data": {
      "image/png": "[encoded data removed]",
      "text/plain": [
       "Plot with title \"autocorrélation partiel sans effet saisonier\""
      ]
     },
     "metadata": {},
     "output_type": "display_data"
    }
   ],
   "source": [
    "pacf(diff_prem_deseason, main=\"autocorrélation partiel sans effet saisonier\")"
   ]
  },
  {
   "cell_type": "code",
   "execution_count": null,
   "id": "d21d5690",
   "metadata": {},
   "outputs": [],
   "source": []
  },
  {
   "cell_type": "markdown",
   "id": "acc036ec",
   "metadata": {},
   "source": [
    "On constate contrairement à tout à l'heure, une décroissance linéaire, on peut donc penser qu'il s'agit d'un auto-regressif AR. Regardons le PACF pour déterminer l'ordre"
   ]
  },
  {
   "cell_type": "code",
   "execution_count": null,
   "id": "0988c412",
   "metadata": {},
   "outputs": [],
   "source": []
  },
  {
   "cell_type": "markdown",
   "id": "123e20bc",
   "metadata": {},
   "source": [
    "Dans l'auto-corrélation partiel, on retrouve encore un léger effet saisonier, mais moins persistant. De plus, les lag ne sont pas significatif à un certain ordre, on peut donc penser à un modèle à moyenne mobile MA."
   ]
  },
  {
   "cell_type": "markdown",
   "id": "12059e88",
   "metadata": {},
   "source": [
    "### Test d'un modèle ARIMA"
   ]
  },
  {
   "cell_type": "code",
   "execution_count": 82,
   "id": "b9dbc549",
   "metadata": {},
   "outputs": [],
   "source": [
    "best_model <- auto.arima(diff_premiere, max.d=1, max.p =1, max.q=1)"
   ]
  },
  {
   "cell_type": "code",
   "execution_count": 83,
   "id": "333ce811",
   "metadata": {},
   "outputs": [
    {
     "data": {
      "text/plain": [
       "Series: diff_premiere \n",
       "ARIMA(0,1,1) \n",
       "\n",
       "Coefficients:\n",
       "          ma1\n",
       "      -0.8166\n",
       "s.e.   0.0590\n",
       "\n",
       "sigma^2 estimated as 0.0009511:  log likelihood=622.08\n",
       "AIC=-1240.16   AICc=-1240.12   BIC=-1232.74"
      ]
     },
     "metadata": {},
     "output_type": "display_data"
    }
   ],
   "source": [
    "best_model"
   ]
  },
  {
   "cell_type": "markdown",
   "id": "4acb7fb2",
   "metadata": {},
   "source": [
    "### Comparaison au modèle arima automatique sous R"
   ]
  },
  {
   "cell_type": "code",
   "execution_count": 74,
   "id": "345b84d3",
   "metadata": {},
   "outputs": [],
   "source": [
    "model <- auto.arima(diff_premiere)"
   ]
  },
  {
   "cell_type": "code",
   "execution_count": 98,
   "id": "2735df42",
   "metadata": {},
   "outputs": [
    {
     "data": {
      "text/plain": [
       "Series: diff_premiere \n",
       "ARIMA(1,1,4) \n",
       "\n",
       "Coefficients:\n",
       "          ar1      ma1      ma2      ma3      ma4\n",
       "      -0.2800  -0.4198  -0.2044  -0.1375  -0.1144\n",
       "s.e.   0.7016   0.6965   0.5009   0.0625   0.1342\n",
       "\n",
       "sigma^2 estimated as 0.0009055:  log likelihood=631.33\n",
       "AIC=-1250.65   AICc=-1250.37   BIC=-1228.39"
      ]
     },
     "metadata": {},
     "output_type": "display_data"
    }
   ],
   "source": [
    "model"
   ]
  },
  {
   "cell_type": "code",
   "execution_count": null,
   "id": "eb2ad282",
   "metadata": {},
   "outputs": [],
   "source": [
    "plot(Y,type=\"l\",main=\"S?rie Non Stationnaire Marche au hasard (Random Walk)\")\n",
    "#accumulation des choques au cours du temps, on n'oscille pas autour de la moyenne\n",
    "T<-1:n\n",
    "plot(Z,type=\"l\",main=\"Tendance D?terministe pure\",col=\"red\")\n",
    "abline(reg=lm(Z~T),col=\"green\")\n",
    "#droite de regression de Z en fonction du temps. Z_t=alpha + B?ta_t\n",
    "summary(lm(Z~T))\n",
    "plot(residuals(lm(Z~T)),type=\"l\",main = \"Residus de la r?gression d?terministe\")\n",
    "#On trace les r?sidus Epsilon_ute=Z_t - alpha_ute - b?ta_ute_t\n",
    "#Pour stationnariser un processus Ts\n",
    "#On fait la regression par rapport au temps\n",
    "#On prend les r?sidus, pour purger la variable de sa tendance\n",
    "# Epsilon chapeau = Z_t - intercept chapeau - Beta_t chapeau\n",
    "\n",
    "abline(h=c(-1.96,1.96), col=\"red\")\n",
    "abline(h=0)\n",
    "#\n",
    "plot(W,type=\"l\",main=\"Processus TS+DS\")\n",
    "summary(lm(W~T))\n",
    "plot(residuals(lm(W~T)),type=\"l\",main = \"Residus de la r?gression\")\n",
    "# TS +DS : retirer la tendance ne suffit pas pour stationnariser\n",
    "#Pour stationnariser, on prend les r?sidus et on fait la diff?rence premi?re\n",
    "#Diff?rence premi?re : Epsilon_tchapeau - Epsilon_t-1chapeau\n",
    "#Sous R, commande diff"
   ]
  }
 ],
 "metadata": {
  "kernelspec": {
   "display_name": "R",
   "language": "R",
   "name": "ir"
  },
  "language_info": {
   "codemirror_mode": "r",
   "file_extension": ".r",
   "mimetype": "text/x-r-source",
   "name": "R",
   "pygments_lexer": "r",
   "version": "3.6.1"
  }
 },
 "nbformat": 4,
 "nbformat_minor": 5
}
